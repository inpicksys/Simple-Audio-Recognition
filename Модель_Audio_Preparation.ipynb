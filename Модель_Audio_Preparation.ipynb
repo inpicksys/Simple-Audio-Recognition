{
  "nbformat": 4,
  "nbformat_minor": 0,
  "metadata": {
    "colab": {
      "name": "Модель_Audio_Preparation.ipynb",
      "provenance": [],
      "collapsed_sections": []
    },
    "kernelspec": {
      "name": "python3",
      "display_name": "Python 3"
    }
  },
  "cells": [
    {
      "cell_type": "markdown",
      "metadata": {
        "id": "5R_M4nB1fu-t",
        "colab_type": "text"
      },
      "source": [
        ""
      ]
    },
    {
      "cell_type": "code",
      "metadata": {
        "id": "5K7dBaFGo1Q4",
        "colab_type": "code",
        "colab": {}
      },
      "source": [
        "# перезагрузить ноутбук\n",
        "!kill -9 -1"
      ],
      "execution_count": 0,
      "outputs": []
    },
    {
      "cell_type": "markdown",
      "metadata": {
        "id": "wrSoPHm55snj",
        "colab_type": "text"
      },
      "source": [
        "# Подготовка аудиофайлов для модели\n",
        "\n",
        "Файлы - это слова выделенные из фразы\n",
        "\n",
        "Подготовленные файлы выкладываются в директорий /content/Simple-Audio-Recognition/Words_from_streams/' + 'ML_' + sample_file"
      ]
    },
    {
      "cell_type": "markdown",
      "metadata": {
        "id": "Sj7ERdkwgQ0n",
        "colab_type": "text"
      },
      "source": [
        "Копирование файлов с Git на локальный диск виртуальной машины - вставка ссылки с гитхаба: "
      ]
    },
    {
      "cell_type": "code",
      "metadata": {
        "id": "kOLXvPzApR-o",
        "colab_type": "code",
        "outputId": "d3ecfef2-31b3-4c0e-bd68-de3e2f253268",
        "colab": {
          "base_uri": "https://localhost:8080/",
          "height": 136
        }
      },
      "source": [
        "!git clone https://github.com/smartsinovich/Simple-Audio-Recognition.git\n"
      ],
      "execution_count": 0,
      "outputs": [
        {
          "output_type": "stream",
          "text": [
            "Cloning into 'Simple-Audio-Recognition'...\n",
            "remote: Enumerating objects: 59, done.\u001b[K\n",
            "remote: Counting objects:   1% (1/59)\u001b[K\rremote: Counting objects:   3% (2/59)\u001b[K\rremote: Counting objects:   5% (3/59)\u001b[K\rremote: Counting objects:   6% (4/59)\u001b[K\rremote: Counting objects:   8% (5/59)\u001b[K\rremote: Counting objects:  10% (6/59)\u001b[K\rremote: Counting objects:  11% (7/59)\u001b[K\rremote: Counting objects:  13% (8/59)\u001b[K\rremote: Counting objects:  15% (9/59)\u001b[K\rremote: Counting objects:  16% (10/59)\u001b[K\rremote: Counting objects:  18% (11/59)\u001b[K\rremote: Counting objects:  20% (12/59)\u001b[K\rremote: Counting objects:  22% (13/59)\u001b[K\rremote: Counting objects:  23% (14/59)\u001b[K\rremote: Counting objects:  25% (15/59)\u001b[K\rremote: Counting objects:  27% (16/59)\u001b[K\rremote: Counting objects:  28% (17/59)\u001b[K\rremote: Counting objects:  30% (18/59)\u001b[K\rremote: Counting objects:  32% (19/59)\u001b[K\rremote: Counting objects:  33% (20/59)\u001b[K\rremote: Counting objects:  35% (21/59)\u001b[K\rremote: Counting objects:  37% (22/59)\u001b[K\rremote: Counting objects:  38% (23/59)\u001b[K\rremote: Counting objects:  40% (24/59)\u001b[K\rremote: Counting objects:  42% (25/59)\u001b[K\rremote: Counting objects:  44% (26/59)\u001b[K\rremote: Counting objects:  45% (27/59)\u001b[K\rremote: Counting objects:  47% (28/59)\u001b[K\rremote: Counting objects:  49% (29/59)\u001b[K\rremote: Counting objects:  50% (30/59)\u001b[K\rremote: Counting objects:  52% (31/59)\u001b[K\rremote: Counting objects:  54% (32/59)\u001b[K\rremote: Counting objects:  55% (33/59)\u001b[K\rremote: Counting objects:  57% (34/59)\u001b[K\rremote: Counting objects:  59% (35/59)\u001b[K\rremote: Counting objects:  61% (36/59)\u001b[K\rremote: Counting objects:  62% (37/59)\u001b[K\rremote: Counting objects:  64% (38/59)\u001b[K\rremote: Counting objects:  66% (39/59)\u001b[K\rremote: Counting objects:  67% (40/59)\u001b[K\rremote: Counting objects:  69% (41/59)\u001b[K\rremote: Counting objects:  71% (42/59)\u001b[K\rremote: Counting objects:  72% (43/59)\u001b[K\rremote: Counting objects:  74% (44/59)\u001b[K\rremote: Counting objects:  76% (45/59)\u001b[K\rremote: Counting objects:  77% (46/59)\u001b[K\rremote: Counting objects:  79% (47/59)\u001b[K\rremote: Counting objects:  81% (48/59)\u001b[K\rremote: Counting objects:  83% (49/59)\u001b[K\rremote: Counting objects:  84% (50/59)\u001b[K\rremote: Counting objects:  86% (51/59)\u001b[K\rremote: Counting objects:  88% (52/59)\u001b[K\rremote: Counting objects:  89% (53/59)\u001b[K\rremote: Counting objects:  91% (54/59)\u001b[K\rremote: Counting objects:  93% (55/59)\u001b[K\rremote: Counting objects:  94% (56/59)\u001b[K\rremote: Counting objects:  96% (57/59)\u001b[K\rremote: Counting objects:  98% (58/59)\u001b[K\rremote: Counting objects: 100% (59/59)\u001b[K\rremote: Counting objects: 100% (59/59), done.\u001b[K\n",
            "remote: Compressing objects:   1% (1/58)\u001b[K\rremote: Compressing objects:   3% (2/58)\u001b[K\rremote: Compressing objects:   5% (3/58)\u001b[K\rremote: Compressing objects:   6% (4/58)\u001b[K\rremote: Compressing objects:   8% (5/58)\u001b[K\rremote: Compressing objects:  10% (6/58)\u001b[K\rremote: Compressing objects:  12% (7/58)\u001b[K\rremote: Compressing objects:  13% (8/58)\u001b[K\rremote: Compressing objects:  15% (9/58)\u001b[K\rremote: Compressing objects:  17% (10/58)\u001b[K\rremote: Compressing objects:  18% (11/58)\u001b[K\rremote: Compressing objects:  20% (12/58)\u001b[K\rremote: Compressing objects:  22% (13/58)\u001b[K\rremote: Compressing objects:  24% (14/58)\u001b[K\rremote: Compressing objects:  25% (15/58)\u001b[K\rremote: Compressing objects:  27% (16/58)\u001b[K\rremote: Compressing objects:  29% (17/58)\u001b[K\rremote: Compressing objects:  31% (18/58)\u001b[K\rremote: Compressing objects:  32% (19/58)\u001b[K\rremote: Compressing objects:  34% (20/58)\u001b[K\rremote: Compressing objects:  36% (21/58)\u001b[K\rremote: Compressing objects:  37% (22/58)\u001b[K\rremote: Compressing objects:  39% (23/58)\u001b[K\rremote: Compressing objects:  41% (24/58)\u001b[K\rremote: Compressing objects:  43% (25/58)\u001b[K\rremote: Compressing objects:  44% (26/58)\u001b[K\rremote: Compressing objects:  46% (27/58)\u001b[K\rremote: Compressing objects:  48% (28/58)\u001b[K\rremote: Compressing objects:  50% (29/58)\u001b[K\rremote: Compressing objects:  51% (30/58)\u001b[K\rremote: Compressing objects:  53% (31/58)\u001b[K\rremote: Compressing objects:  55% (32/58)\u001b[K\rremote: Compressing objects:  56% (33/58)\u001b[K\rremote: Compressing objects:  58% (34/58)\u001b[K\rremote: Compressing objects:  60% (35/58)\u001b[K\rremote: Compressing objects:  62% (36/58)\u001b[K\rremote: Compressing objects:  63% (37/58)\u001b[K\rremote: Compressing objects:  65% (38/58)\u001b[K\rremote: Compressing objects:  67% (39/58)\u001b[K\rremote: Compressing objects:  68% (40/58)\u001b[K\rremote: Compressing objects:  70% (41/58)\u001b[K\rremote: Compressing objects:  72% (42/58)\u001b[K\rremote: Compressing objects:  74% (43/58)\u001b[K\rremote: Compressing objects:  75% (44/58)\u001b[K\rremote: Compressing objects:  77% (45/58)\u001b[K\rremote: Compressing objects:  79% (46/58)\u001b[K\rremote: Compressing objects:  81% (47/58)\u001b[K\rremote: Compressing objects:  82% (48/58)\u001b[K\rremote: Compressing objects:  84% (49/58)\u001b[K\rremote: Compressing objects:  86% (50/58)\u001b[K\rremote: Compressing objects:  87% (51/58)\u001b[K\rremote: Compressing objects:  89% (52/58)\u001b[K\rremote: Compressing objects:  91% (53/58)\u001b[K\rremote: Compressing objects:  93% (54/58)\u001b[K\rremote: Compressing objects:  94% (55/58)\u001b[K\rremote: Compressing objects:  96% (56/58)\u001b[K\rremote: Compressing objects:  98% (57/58)\u001b[K\rremote: Compressing objects: 100% (58/58)\u001b[K\rremote: Compressing objects: 100% (58/58), done.\u001b[K\n",
            "Receiving objects:   0% (1/273)   \rReceiving objects:   1% (3/273)   \rReceiving objects:   2% (6/273)   \rReceiving objects:   3% (9/273)   \rReceiving objects:   4% (11/273)   \rReceiving objects:   5% (14/273)   \rReceiving objects:   6% (17/273)   \rReceiving objects:   7% (20/273)   \rReceiving objects:   8% (22/273)   \rReceiving objects:   9% (25/273)   \rReceiving objects:  10% (28/273)   \rReceiving objects:  11% (31/273)   \rReceiving objects:  12% (33/273)   \rReceiving objects:  13% (36/273)   \rReceiving objects:  14% (39/273)   \rReceiving objects:  15% (41/273)   \rReceiving objects:  16% (44/273)   \rReceiving objects:  17% (47/273)   \rReceiving objects:  18% (50/273)   \rReceiving objects:  19% (52/273)   \rReceiving objects:  20% (55/273)   \rReceiving objects:  21% (58/273)   \rReceiving objects:  22% (61/273)   \rReceiving objects:  23% (63/273)   \rReceiving objects:  24% (66/273)   \rReceiving objects:  25% (69/273)   \rReceiving objects:  26% (71/273)   \rReceiving objects:  27% (74/273)   \rReceiving objects:  28% (77/273)   \rReceiving objects:  29% (80/273)   \rReceiving objects:  30% (82/273)   \rReceiving objects:  31% (85/273)   \rReceiving objects:  32% (88/273)   \rReceiving objects:  33% (91/273)   \rReceiving objects:  34% (93/273)   \rReceiving objects:  35% (96/273)   \rReceiving objects:  36% (99/273)   \rReceiving objects:  37% (102/273)   \rReceiving objects:  38% (104/273)   \rReceiving objects:  39% (107/273)   \rReceiving objects:  40% (110/273)   \rReceiving objects:  41% (112/273)   \rReceiving objects:  42% (115/273)   \rReceiving objects:  43% (118/273)   \rReceiving objects:  44% (121/273)   \rReceiving objects:  45% (123/273)   \rReceiving objects:  46% (126/273)   \rReceiving objects:  47% (129/273)   \rReceiving objects:  48% (132/273)   \rReceiving objects:  49% (134/273)   \rReceiving objects:  50% (137/273)   \rReceiving objects:  51% (140/273)   \rReceiving objects:  52% (142/273)   \rReceiving objects:  53% (145/273)   \rReceiving objects:  54% (148/273)   \rReceiving objects:  55% (151/273)   \rReceiving objects:  56% (153/273)   \rReceiving objects:  57% (156/273)   \rReceiving objects:  58% (159/273)   \rReceiving objects:  59% (162/273)   \rReceiving objects:  60% (164/273)   \rReceiving objects:  61% (167/273)   \rReceiving objects:  62% (170/273)   \rReceiving objects:  63% (172/273)   \rReceiving objects:  64% (175/273)   \rReceiving objects:  65% (178/273)   \rReceiving objects:  66% (181/273)   \rReceiving objects:  67% (183/273)   \rReceiving objects:  68% (186/273)   \rReceiving objects:  69% (189/273)   \rReceiving objects:  70% (192/273)   \rReceiving objects:  71% (194/273)   \rReceiving objects:  72% (197/273)   \rReceiving objects:  73% (200/273)   \rReceiving objects:  74% (203/273)   \rReceiving objects:  75% (205/273)   \rReceiving objects:  76% (208/273)   \rReceiving objects:  77% (211/273)   \rReceiving objects:  78% (213/273)   \rReceiving objects:  79% (216/273)   \rReceiving objects:  80% (219/273)   \rReceiving objects:  81% (222/273)   \rReceiving objects:  82% (224/273)   \rReceiving objects:  83% (227/273)   \rReceiving objects:  84% (230/273)   \rReceiving objects:  85% (233/273)   \rReceiving objects:  86% (235/273)   \rReceiving objects:  87% (238/273)   \rremote: Total 273 (delta 32), reused 4 (delta 1), pack-reused 214\u001b[K\n",
            "Receiving objects:  88% (241/273)   \rReceiving objects:  89% (243/273)   \rReceiving objects:  90% (246/273)   \rReceiving objects:  91% (249/273)   \rReceiving objects:  92% (252/273)   \rReceiving objects:  93% (254/273)   \rReceiving objects:  94% (257/273)   \rReceiving objects:  95% (260/273)   \rReceiving objects:  96% (263/273)   \rReceiving objects:  97% (265/273)   \rReceiving objects:  98% (268/273)   \rReceiving objects:  99% (271/273)   \rReceiving objects: 100% (273/273)   \rReceiving objects: 100% (273/273), 4.13 MiB | 28.00 MiB/s, done.\n",
            "Resolving deltas:   0% (0/77)   \rResolving deltas:  28% (22/77)   \rResolving deltas:  29% (23/77)   \rResolving deltas:  31% (24/77)   \rResolving deltas:  38% (30/77)   \rResolving deltas:  40% (31/77)   \rResolving deltas:  42% (33/77)   \rResolving deltas:  44% (34/77)   \rResolving deltas:  45% (35/77)   \rResolving deltas:  49% (38/77)   \rResolving deltas:  51% (40/77)   \rResolving deltas:  54% (42/77)   \rResolving deltas:  55% (43/77)   \rResolving deltas:  57% (44/77)   \rResolving deltas:  75% (58/77)   \rResolving deltas:  88% (68/77)   \rResolving deltas:  90% (70/77)   \rResolving deltas:  98% (76/77)   \rResolving deltas: 100% (77/77)   \rResolving deltas: 100% (77/77), done.\n"
          ],
          "name": "stdout"
        }
      ]
    },
    {
      "cell_type": "code",
      "metadata": {
        "id": "eoAsbJxJDqEm",
        "colab_type": "code",
        "outputId": "91dd3e56-6ff8-4a0c-a423-5126fee99cf9",
        "colab": {
          "base_uri": "https://localhost:8080/",
          "height": 139
        }
      },
      "source": [
        "!pip install soundfile"
      ],
      "execution_count": 0,
      "outputs": [
        {
          "output_type": "stream",
          "text": [
            "Collecting soundfile\n",
            "  Downloading https://files.pythonhosted.org/packages/eb/f2/3cbbbf3b96fb9fa91582c438b574cff3f45b29c772f94c400e2c99ef5db9/SoundFile-0.10.3.post1-py2.py3-none-any.whl\n",
            "Requirement already satisfied: cffi>=1.0 in /usr/local/lib/python3.6/dist-packages (from soundfile) (1.14.0)\n",
            "Requirement already satisfied: pycparser in /usr/local/lib/python3.6/dist-packages (from cffi>=1.0->soundfile) (2.19)\n",
            "Installing collected packages: soundfile\n",
            "Successfully installed soundfile-0.10.3.post1\n"
          ],
          "name": "stdout"
        }
      ]
    },
    {
      "cell_type": "code",
      "metadata": {
        "id": "KqH8kz9KDLjS",
        "colab_type": "code",
        "outputId": "204b6789-b4a0-4479-ba20-164b24602134",
        "colab": {
          "base_uri": "https://localhost:8080/",
          "height": 105
        }
      },
      "source": [
        "!pip install pydub"
      ],
      "execution_count": 0,
      "outputs": [
        {
          "output_type": "stream",
          "text": [
            "Collecting pydub\n",
            "  Downloading https://files.pythonhosted.org/packages/79/db/eaf620b73a1eec3c8c6f8f5b0b236a50f9da88ad57802154b7ba7664d0b8/pydub-0.23.1-py2.py3-none-any.whl\n",
            "Installing collected packages: pydub\n",
            "Successfully installed pydub-0.23.1\n"
          ],
          "name": "stdout"
        }
      ]
    },
    {
      "cell_type": "code",
      "metadata": {
        "id": "snvxMSpLWg6a",
        "colab_type": "code",
        "colab": {}
      },
      "source": [
        "import os\n",
        "import numpy as np\n",
        "import keras\n",
        "import math\n",
        "from keras.models import load_model\n",
        "from scipy.io import wavfile\n",
        "from scipy.fftpack import dct\n",
        "from scipy.io import wavfile\n",
        "import scipy.io.wavfile\n",
        "import matplotlib.pyplot as plt"
      ],
      "execution_count": 0,
      "outputs": []
    },
    {
      "cell_type": "markdown",
      "metadata": {
        "id": "cLegd5H7uVAF",
        "colab_type": "text"
      },
      "source": [
        "\n",
        "\n",
        "---\n",
        "\n"
      ]
    },
    {
      "cell_type": "code",
      "metadata": {
        "id": "Pdjelyi0RWnH",
        "colab_type": "code",
        "outputId": "d9ca5606-dc8a-4525-ce91-b8dd61d91408",
        "colab": {
          "base_uri": "https://localhost:8080/",
          "height": 68
        }
      },
      "source": [
        "#__________для ПОТОКА - файлы для директория  Seg_audio_streams\n",
        "\n",
        "sample_file ='no_bed_bird.wav'\n",
        "dir_phrase = '/content/Simple-Audio-Recognition/Words_from_streams/no_bed_bird'\n",
        "dir_path = '/content/Simple-Audio-Recognition/Audio_streams/' #  откуда файл берется\n",
        "\n",
        "#создаем директорий для фразы\n",
        "dir_path_mod = '/content/Simple-Audio-Recognition/Words_from_streams/' + 'ML_' + sample_file[:-4]\n",
        "\n",
        "if not os.path.exists('/content/Simple-Audio-Recognition/Words_from_streams/' + 'ML_' + sample_file[:-4]): #Если пути не существует создаем его\n",
        "   dir_path_mod = os.makedirs('/content/Simple-Audio-Recognition/Words_from_streams/' + 'ML_' + sample_file[:-4])\n",
        "   dir_path_mod = '/content/Simple-Audio-Recognition/Words_from_streams/' + 'ML_' + sample_file[:-4]\n",
        "print(sample_file)\n",
        "print(dir_path)\n",
        "print(dir_path_mod)"
      ],
      "execution_count": 0,
      "outputs": [
        {
          "output_type": "stream",
          "text": [
            "no_bed_bird.wav\n",
            "/content/Simple-Audio-Recognition/Audio_streams/\n",
            "/content/Simple-Audio-Recognition/Words_from_streams/ML_no_bed_bird\n"
          ],
          "name": "stdout"
        }
      ]
    },
    {
      "cell_type": "code",
      "metadata": {
        "id": "FPPuEl7ISXeE",
        "colab_type": "code",
        "outputId": "29432dd5-9650-4850-9192-00146a258505",
        "colab": {
          "base_uri": "https://localhost:8080/",
          "height": 51
        }
      },
      "source": [
        "\n",
        "\n",
        "#+++++++++++++++++++++++++++++++++++++++++++++++++++++++++++++++++++++++++\n",
        "\n",
        "dir_path = dir_path #'/content' # откуда берем файлы \n",
        "dir_path_mod = dir_path_mod #'/content' # куда складываем обработанные файлы. скидываем в тот же директорий или в другой\n",
        "\n",
        "#______________________________________________\n",
        "\n",
        "#изменяем кол-во каналов до 1 и framerate до 16000, длину сокращаем или дополняем молчанием до 1 сек\n",
        "from pydub import silence, AudioSegment\n",
        "audio = AudioSegment.from_file(dir_path + '/' + sample_file, format=\"wav\")\n",
        "print('1')\n",
        "\n",
        "\n",
        "def preprocess_audio(filename):\n",
        "    # Trim or pad audio segment to 10000ms\n",
        "   \n",
        "    padding = AudioSegment.silent(duration=1000)         # ставим [:1000] если обрабатывам raw audio files\n",
        "    segment = AudioSegment.from_wav(filename)[:1000]     # ставим [:1000] если обрабатывам raw audio files\n",
        "    segment = padding.overlay(segment)\n",
        "    \n",
        "    # Set frame rate to 16000\n",
        "    segment = segment.set_frame_rate(16000).set_channels(1)  # ставим 16000 если обрабатывам raw audio files\n",
        "\n",
        "    # Export segment as wav\n",
        "    modified_file = \"ML_\" + sample_file    # ставим seg если обрабатывам файлы для потока\n",
        "    segment.export(dir_path_mod + '/' + modified_file, format='wav')\n",
        "    \n",
        "    \n",
        "#preprocess_audio(dir_path + '/' + sample_file)\n",
        "print('2')\n",
        "\n"
      ],
      "execution_count": 0,
      "outputs": [
        {
          "output_type": "stream",
          "text": [
            "1\n",
            "2\n"
          ],
          "name": "stdout"
        }
      ]
    },
    {
      "cell_type": "code",
      "metadata": {
        "id": "TAr4YUrVSpG0",
        "colab_type": "code",
        "outputId": "a93238ef-56d6-456f-e031-0ea5bfee5d73",
        "colab": {
          "base_uri": "https://localhost:8080/",
          "height": 102
        }
      },
      "source": [
        "#dir_path = os.path.join(os.path.dirname(os.path.abspath('__file__')))\n",
        "dir_path = os.path.join(os.path.dirname(os.path.abspath('__file__')), dir_phrase) # нужно указывать наверху название фразы/директорий\n",
        "files = os.listdir(dir_path)\n",
        "print(files)\n",
        "sample_files = [i for i in files if i.endswith('.wav')]\n",
        "print(sample_files)\n",
        "\n",
        "for sample_file in sample_files:\n",
        " #   speech_command_algo(dir_path,sample_file)\n",
        " print(sample_file)\n",
        " preprocess_audio(dir_path + '/' + sample_file)"
      ],
      "execution_count": 0,
      "outputs": [
        {
          "output_type": "stream",
          "text": [
            "['1_no_bed_bird.wav', '3_no_bed_bird.wav', 'README.txt', '2_no_bed_bird.wav']\n",
            "['1_no_bed_bird.wav', '3_no_bed_bird.wav', '2_no_bed_bird.wav']\n",
            "1_no_bed_bird.wav\n",
            "3_no_bed_bird.wav\n",
            "2_no_bed_bird.wav\n"
          ],
          "name": "stdout"
        }
      ]
    },
    {
      "cell_type": "markdown",
      "metadata": {
        "id": "WRq-qlqNSpl7",
        "colab_type": "text"
      },
      "source": [
        "\n",
        "\n",
        "---\n",
        "\n",
        "---\n",
        "\n",
        "\n",
        "\n"
      ]
    }
  ]
}