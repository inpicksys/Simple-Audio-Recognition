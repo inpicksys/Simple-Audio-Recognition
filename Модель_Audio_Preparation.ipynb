{
  "nbformat": 4,
  "nbformat_minor": 0,
  "metadata": {
    "colab": {
      "name": "Модель_Audio_Preparation.ipynb",
      "provenance": [],
      "collapsed_sections": []
    },
    "kernelspec": {
      "name": "python3",
      "display_name": "Python 3"
    }
  },
  "cells": [
    {
      "cell_type": "markdown",
      "metadata": {
        "id": "5R_M4nB1fu-t",
        "colab_type": "text"
      },
      "source": [
        ""
      ]
    },
    {
      "cell_type": "code",
      "metadata": {
        "id": "5K7dBaFGo1Q4",
        "colab_type": "code",
        "colab": {}
      },
      "source": [
        "# перезагрузить ноутбук\n",
        "!kill -9 -1"
      ],
      "execution_count": 0,
      "outputs": []
    },
    {
      "cell_type": "markdown",
      "metadata": {
        "id": "wrSoPHm55snj",
        "colab_type": "text"
      },
      "source": [
        "# Подготовка аудиофайлов для модели\n",
        "\n",
        "Файлы - это слова выделенные из фразы\n",
        "\n",
        "Подготовленные файлы выкладываются в директорий /content/Simple-Audio-Recognition/Words_from_streams/' + 'ML_' + sample_file"
      ]
    },
    {
      "cell_type": "markdown",
      "metadata": {
        "id": "Sj7ERdkwgQ0n",
        "colab_type": "text"
      },
      "source": [
        "Копирование файлов с Git на локальный диск виртуальной машины - вставка ссылки с гитхаба: "
      ]
    },
    {
      "cell_type": "code",
      "metadata": {
        "id": "kOLXvPzApR-o",
        "colab_type": "code",
        "outputId": "2ade3f4d-1e9c-4932-cbc2-0dd45d78431c",
        "colab": {
          "base_uri": "https://localhost:8080/",
          "height": 136
        }
      },
      "source": [
        "!git clone https://github.com/smartsinovich/Simple-Audio-Recognition.git\n"
      ],
      "execution_count": 1,
      "outputs": [
        {
          "output_type": "stream",
          "text": [
            "Cloning into 'Simple-Audio-Recognition'...\n",
            "remote: Enumerating objects: 110, done.\u001b[K\n",
            "remote: Counting objects: 100% (110/110), done.\u001b[K\n",
            "remote: Compressing objects: 100% (97/97), done.\u001b[K\n",
            "remote: Total 325 (delta 55), reused 45 (delta 13), pack-reused 215\u001b[K\n",
            "Receiving objects: 100% (325/325), 4.99 MiB | 11.04 MiB/s, done.\n",
            "Resolving deltas: 100% (101/101), done.\n"
          ],
          "name": "stdout"
        }
      ]
    },
    {
      "cell_type": "code",
      "metadata": {
        "id": "eoAsbJxJDqEm",
        "colab_type": "code",
        "outputId": "8265adf9-201c-4c22-cee9-286d97759cbf",
        "colab": {
          "base_uri": "https://localhost:8080/",
          "height": 139
        }
      },
      "source": [
        "!pip install soundfile"
      ],
      "execution_count": 2,
      "outputs": [
        {
          "output_type": "stream",
          "text": [
            "Collecting soundfile\n",
            "  Downloading https://files.pythonhosted.org/packages/eb/f2/3cbbbf3b96fb9fa91582c438b574cff3f45b29c772f94c400e2c99ef5db9/SoundFile-0.10.3.post1-py2.py3-none-any.whl\n",
            "Requirement already satisfied: cffi>=1.0 in /usr/local/lib/python3.6/dist-packages (from soundfile) (1.14.0)\n",
            "Requirement already satisfied: pycparser in /usr/local/lib/python3.6/dist-packages (from cffi>=1.0->soundfile) (2.19)\n",
            "Installing collected packages: soundfile\n",
            "Successfully installed soundfile-0.10.3.post1\n"
          ],
          "name": "stdout"
        }
      ]
    },
    {
      "cell_type": "code",
      "metadata": {
        "id": "KqH8kz9KDLjS",
        "colab_type": "code",
        "outputId": "5bdb54b8-d3fd-40db-db6f-f2f37401a04b",
        "colab": {
          "base_uri": "https://localhost:8080/",
          "height": 105
        }
      },
      "source": [
        "!pip install pydub"
      ],
      "execution_count": 3,
      "outputs": [
        {
          "output_type": "stream",
          "text": [
            "Collecting pydub\n",
            "  Downloading https://files.pythonhosted.org/packages/79/db/eaf620b73a1eec3c8c6f8f5b0b236a50f9da88ad57802154b7ba7664d0b8/pydub-0.23.1-py2.py3-none-any.whl\n",
            "Installing collected packages: pydub\n",
            "Successfully installed pydub-0.23.1\n"
          ],
          "name": "stdout"
        }
      ]
    },
    {
      "cell_type": "code",
      "metadata": {
        "id": "snvxMSpLWg6a",
        "colab_type": "code",
        "colab": {}
      },
      "source": [
        "import os\n",
        "import numpy as np\n",
        "import keras\n",
        "import math\n",
        "from keras.models import load_model\n",
        "from scipy.io import wavfile\n",
        "from scipy.fftpack import dct\n",
        "from scipy.io import wavfile\n",
        "import scipy.io.wavfile\n",
        "import matplotlib.pyplot as plt"
      ],
      "execution_count": 0,
      "outputs": []
    },
    {
      "cell_type": "markdown",
      "metadata": {
        "id": "cLegd5H7uVAF",
        "colab_type": "text"
      },
      "source": [
        "\n",
        "\n",
        "---\n",
        "\n"
      ]
    },
    {
      "cell_type": "code",
      "metadata": {
        "id": "Pdjelyi0RWnH",
        "colab_type": "code",
        "outputId": "598c56f1-08be-4afd-b91a-779ef555e425",
        "colab": {
          "base_uri": "https://localhost:8080/",
          "height": 68
        }
      },
      "source": [
        "#__________для ПОТОКА - файлы для директория  Seg_audio_streams\n",
        "\n",
        "#sample_file ='bed_bird_right.wav'\n",
        "#dir_phrase = '/content/Simple-Audio-Recognition/Words_from_streams/bed_bird_right'\n",
        "#dir_path = '/content/Simple-Audio-Recognition/Audio_streams/' #  откуда файл берется\n",
        "\n",
        "sample_file ='no_bed_bird.wav'\n",
        "dir_phrase = '/content/Simple-Audio-Recognition/Words_from_streams/no_bed_bird'\n",
        "dir_path = '/content/Simple-Audio-Recognition/Audio_streams/' #  откуда файл берется\n",
        "\n",
        "\n",
        "#создаем директорий для фразы\n",
        "dir_path_mod = '/content/Simple-Audio-Recognition/Words_from_streams/' + 'ML_' + sample_file[:-4]\n",
        "\n",
        "if not os.path.exists('/content/Simple-Audio-Recognition/Words_from_streams/' + 'ML_' + sample_file[:-4]): #Если пути не существует создаем его\n",
        "   dir_path_mod = os.makedirs('/content/Simple-Audio-Recognition/Words_from_streams/' + 'ML_' + sample_file[:-4])\n",
        "   dir_path_mod = '/content/Simple-Audio-Recognition/Words_from_streams/' + 'ML_' + sample_file[:-4]\n",
        "print(sample_file)\n",
        "print(dir_path)\n",
        "print(dir_path_mod)"
      ],
      "execution_count": 9,
      "outputs": [
        {
          "output_type": "stream",
          "text": [
            "no_bed_bird.wav\n",
            "/content/Simple-Audio-Recognition/Audio_streams/\n",
            "/content/Simple-Audio-Recognition/Words_from_streams/ML_no_bed_bird\n"
          ],
          "name": "stdout"
        }
      ]
    },
    {
      "cell_type": "code",
      "metadata": {
        "id": "FPPuEl7ISXeE",
        "colab_type": "code",
        "outputId": "e2165cc7-e41c-4c35-bde5-f6770f10e116",
        "colab": {
          "base_uri": "https://localhost:8080/",
          "height": 51
        }
      },
      "source": [
        "\n",
        "\n",
        "#+++++++++++++++++++++++++++++++++++++++++++++++++++++++++++++++++++++++++\n",
        "\n",
        "dir_path = dir_path #'/content' # откуда берем файлы \n",
        "dir_path_mod = dir_path_mod #'/content' # куда складываем обработанные файлы. скидываем в тот же директорий или в другой\n",
        "\n",
        "#______________________________________________\n",
        "\n",
        "#изменяем кол-во каналов до 1 и framerate до 16000, длину сокращаем или дополняем молчанием до 1 сек\n",
        "from pydub import silence, AudioSegment\n",
        "audio = AudioSegment.from_file(dir_path + '/' + sample_file, format=\"wav\")\n",
        "print('1')\n",
        "\n",
        "\n",
        "def preprocess_audio(filename):\n",
        "    # Trim or pad audio segment to 10000ms\n",
        "   \n",
        "    padding = AudioSegment.silent(duration=1000)         # ставим [:1000] если обрабатывам raw audio files\n",
        "    segment = AudioSegment.from_wav(filename)[:1000]     # ставим [:1000] если обрабатывам raw audio files\n",
        "    segment = padding.overlay(segment)\n",
        "    \n",
        "    # Set frame rate to 16000\n",
        "    segment = segment.set_frame_rate(16000).set_channels(1)  # ставим 16000 если обрабатывам raw audio files\n",
        "\n",
        "    # Export segment as wav\n",
        "    modified_file = \"ML_\" + sample_file    # ставим seg если обрабатывам файлы для потока\n",
        "    segment.export(dir_path_mod + '/' + modified_file, format='wav')\n",
        "    \n",
        "    \n",
        "#preprocess_audio(dir_path + '/' + sample_file)\n",
        "print('2')\n",
        "\n"
      ],
      "execution_count": 10,
      "outputs": [
        {
          "output_type": "stream",
          "text": [
            "1\n",
            "2\n"
          ],
          "name": "stdout"
        }
      ]
    },
    {
      "cell_type": "code",
      "metadata": {
        "id": "TAr4YUrVSpG0",
        "colab_type": "code",
        "outputId": "e751da16-fdb9-4c17-8528-024c5273e144",
        "colab": {
          "base_uri": "https://localhost:8080/",
          "height": 102
        }
      },
      "source": [
        "#dir_path = os.path.join(os.path.dirname(os.path.abspath('__file__')))\n",
        "dir_path = os.path.join(os.path.dirname(os.path.abspath('__file__')), dir_phrase) # нужно указывать наверху название фразы/директорий\n",
        "files = os.listdir(dir_path)\n",
        "print(files)\n",
        "sample_files = [i for i in files if i.endswith('.wav')]\n",
        "print(sample_files)\n",
        "\n",
        "for sample_file in sample_files:\n",
        " #   speech_command_algo(dir_path,sample_file)\n",
        " print(sample_file)\n",
        " preprocess_audio(dir_path + '/' + sample_file)"
      ],
      "execution_count": 11,
      "outputs": [
        {
          "output_type": "stream",
          "text": [
            "['1_no_bed_bird.wav', '3_no_bed_bird.wav', '2_no_bed_bird.wav']\n",
            "['1_no_bed_bird.wav', '3_no_bed_bird.wav', '2_no_bed_bird.wav']\n",
            "1_no_bed_bird.wav\n",
            "3_no_bed_bird.wav\n",
            "2_no_bed_bird.wav\n"
          ],
          "name": "stdout"
        }
      ]
    },
    {
      "cell_type": "markdown",
      "metadata": {
        "id": "WRq-qlqNSpl7",
        "colab_type": "text"
      },
      "source": [
        "\n",
        "\n",
        "---\n",
        "\n",
        "---\n",
        "\n",
        "\n",
        "\n"
      ]
    }
  ]
}