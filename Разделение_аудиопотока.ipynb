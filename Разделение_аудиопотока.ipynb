{
  "nbformat": 4,
  "nbformat_minor": 0,
  "metadata": {
    "colab": {
      "name": "Разделение аудиопотока.ipynb",
      "provenance": [],
      "collapsed_sections": []
    },
    "kernelspec": {
      "name": "python3",
      "display_name": "Python 3"
    }
  },
  "cells": [
    {
      "cell_type": "code",
      "metadata": {
        "id": "a-Hi1g1Wjvs-",
        "colab_type": "code",
        "colab": {}
      },
      "source": [
        "# перезагрузить ноутбук\n",
        "!kill -9 -1"
      ],
      "execution_count": 0,
      "outputs": []
    },
    {
      "cell_type": "markdown",
      "metadata": {
        "id": "BdZgPBF7bpn5",
        "colab_type": "text"
      },
      "source": [
        "# Разделение аудиопотока (фразы) на отдельные слова "
      ]
    },
    {
      "cell_type": "markdown",
      "metadata": {
        "id": "mLICJgMEcOZg",
        "colab_type": "text"
      },
      "source": [
        "Копирование файлов с Git на локальный диск виртуальной машины - вставка ссылки с гитхаба: "
      ]
    },
    {
      "cell_type": "code",
      "metadata": {
        "id": "wA7AhHk1kA_Z",
        "colab_type": "code",
        "outputId": "4647d2be-d999-4630-e570-62b58722b8b2",
        "colab": {
          "base_uri": "https://localhost:8080/",
          "height": 34
        }
      },
      "source": [
        "!git clone https://github.com/smartsinovich/Simple-Audio-Recognition.git"
      ],
      "execution_count": 0,
      "outputs": [
        {
          "output_type": "stream",
          "text": [
            "fatal: destination path 'Simple-Audio-Recognition' already exists and is not an empty directory.\n"
          ],
          "name": "stdout"
        }
      ]
    },
    {
      "cell_type": "code",
      "metadata": {
        "id": "VjCEqpJnkMg_",
        "colab_type": "code",
        "outputId": "25f639ff-a774-4dd0-bccc-d90250979090",
        "colab": {
          "base_uri": "https://localhost:8080/",
          "height": 70
        }
      },
      "source": [
        "!pip install soundfile"
      ],
      "execution_count": 0,
      "outputs": [
        {
          "output_type": "stream",
          "text": [
            "Requirement already satisfied: soundfile in /usr/local/lib/python3.6/dist-packages (0.10.3.post1)\n",
            "Requirement already satisfied: cffi>=1.0 in /usr/local/lib/python3.6/dist-packages (from soundfile) (1.14.0)\n",
            "Requirement already satisfied: pycparser in /usr/local/lib/python3.6/dist-packages (from cffi>=1.0->soundfile) (2.19)\n"
          ],
          "name": "stdout"
        }
      ]
    },
    {
      "cell_type": "code",
      "metadata": {
        "id": "f4rGWiaWkUs1",
        "colab_type": "code",
        "outputId": "9ff6911b-e056-4e2a-f8b8-36612cbefaa7",
        "colab": {
          "base_uri": "https://localhost:8080/",
          "height": 34
        }
      },
      "source": [
        "!pip install pydub"
      ],
      "execution_count": 0,
      "outputs": [
        {
          "output_type": "stream",
          "text": [
            "Requirement already satisfied: pydub in /usr/local/lib/python3.6/dist-packages (0.23.1)\n"
          ],
          "name": "stdout"
        }
      ]
    },
    {
      "cell_type": "markdown",
      "metadata": {
        "id": "DqUGTWaJkW4I",
        "colab_type": "text"
      },
      "source": [
        "\n",
        "\n",
        "---\n",
        "\n"
      ]
    },
    {
      "cell_type": "code",
      "metadata": {
        "id": "2vrHYe9fV3wz",
        "colab_type": "code",
        "colab": {}
      },
      "source": [
        "import numpy as np\n",
        "import random\n",
        "import itertools\n",
        "import librosa\n",
        "import IPython.display as ipd\n",
        "import matplotlib.pyplot as plt\n",
        "\n",
        "%matplotlib inline\n",
        "import soundfile as sf\n",
        "from scipy.io import wavfile\n",
        "import scipy.io.wavfile\n",
        "\n",
        "import numpy as np\n",
        "import random\n",
        "import itertools\n",
        "import librosa\n",
        "import IPython.display as ipd\n",
        "import matplotlib.pyplot as plt\n",
        "\n",
        "%matplotlib inline\n",
        "\n",
        "import soundfile as sf\n",
        "from scipy.io import wavfile\n",
        "import scipy.io.wavfile\n",
        "import matplotlib.pyplot as plt\n"
      ],
      "execution_count": 0,
      "outputs": []
    },
    {
      "cell_type": "markdown",
      "metadata": {
        "id": "HrG0VR-OS6BK",
        "colab_type": "text"
      },
      "source": [
        "Загружаем файл аудиопотока для дальнейшей обработки из директория Seg_audio_streams\n",
        "\n",
        "Это файл с сильно уменьшенным количеством данных. Он нужен только для определения точек разреза."
      ]
    },
    {
      "cell_type": "code",
      "metadata": {
        "id": "UGcy7lRsYzu2",
        "colab_type": "code",
        "outputId": "30ffa175-9157-438d-fd8c-56c2f11bab99",
        "colab": {
          "base_uri": "https://localhost:8080/",
          "height": 513
        }
      },
      "source": [
        "segmented_file = '/content/Simple-Audio-Recognition/Seg_audio_streams/seg_no_bed_bird.wav'\n",
        "\n",
        "\n",
        "print('seg_no_bed_bird.wav')\n",
        "f = sf.SoundFile(segmented_file)\n",
        "print('samples = {}'.format(len(f)), '  sample rate = {}'.format(f.samplerate), '  seconds = {}'.format(len(f) / f.samplerate))\n",
        "rate, data = scipy.io.wavfile.read(segmented_file)\n",
        "print(rate, data)\n",
        "plt.plot(data)\n",
        "plt.show()"
      ],
      "execution_count": 0,
      "outputs": [
        {
          "output_type": "stream",
          "text": [
            "seg_no_bed_bird.wav\n",
            "samples = 120   sample rate = 40   seconds = 3.0\n",
            "40 [     0      0      0      0      0      0      0    117    861   -268\n",
            "    509   3850   1405   1119  -2602    213   1192  -3022   -337  -1292\n",
            "  -5351   1128    123   1034   -167   -309     22      7      0      3\n",
            "      0     -1      0    -30   -128     63     -5     92      8    -35\n",
            "     11     57    -62     -3     47     23    101     40  -1149  -5153\n",
            "   7368  -9440 -13747  -4643   1609   4278    529    843   2560  -1500\n",
            "   2463    598    264    122    146   -102      0      0      0      0\n",
            "      0      0      0    -46     28     65    236     58    -26    133\n",
            "   -123   1131   3820    237  -3607   -491   3222   3871  -8924  -7897\n",
            "   5990  -1497    904   2201    942     98   -327    200   -162    -67\n",
            "     -9      0      0      0      0      0      0      0      0      0\n",
            "      0      0      0      0      0      0      0      0      0      0]\n"
          ],
          "name": "stdout"
        },
        {
          "output_type": "display_data",
          "data": {
            "image/png": "[encoded data removed]",
            "text/plain": [
              "<Figure size 432x288 with 1 Axes>"
            ]
          },
          "metadata": {
            "tags": []
          }
        }
      ]
    },
    {
      "cell_type": "markdown",
      "metadata": {
        "id": "RPcNyH5SQn9z",
        "colab_type": "text"
      },
      "source": [
        "Выполним ряд преобразований.\n",
        "\n",
        "Цель: \n",
        "\n",
        "1.   Избавиться от шума - выделить моменты тишины\n",
        "2.   Определить середины периодов тишины для последующего разрезания аудиопотока\n",
        "\n"
      ]
    },
    {
      "cell_type": "code",
      "metadata": {
        "id": "XYt9dfg5NboX",
        "colab_type": "code",
        "outputId": "f6da80cd-0922-4646-b94d-409246777de9",
        "colab": {
          "base_uri": "https://localhost:8080/",
          "height": 301
        }
      },
      "source": [
        "a = np.array(data)\n",
        "a"
      ],
      "execution_count": 0,
      "outputs": [
        {
          "output_type": "execute_result",
          "data": {
            "text/plain": [
              "array([     0,      0,      0,      0,      0,      0,      0,    117,\n",
              "          861,   -268,    509,   3850,   1405,   1119,  -2602,    213,\n",
              "         1192,  -3022,   -337,  -1292,  -5351,   1128,    123,   1034,\n",
              "         -167,   -309,     22,      7,      0,      3,      0,     -1,\n",
              "            0,    -30,   -128,     63,     -5,     92,      8,    -35,\n",
              "           11,     57,    -62,     -3,     47,     23,    101,     40,\n",
              "        -1149,  -5153,   7368,  -9440, -13747,  -4643,   1609,   4278,\n",
              "          529,    843,   2560,  -1500,   2463,    598,    264,    122,\n",
              "          146,   -102,      0,      0,      0,      0,      0,      0,\n",
              "            0,    -46,     28,     65,    236,     58,    -26,    133,\n",
              "         -123,   1131,   3820,    237,  -3607,   -491,   3222,   3871,\n",
              "        -8924,  -7897,   5990,  -1497,    904,   2201,    942,     98,\n",
              "         -327,    200,   -162,    -67,     -9,      0,      0,      0,\n",
              "            0,      0,      0,      0,      0,      0,      0,      0,\n",
              "            0,      0,      0,      0,      0,      0,      0,      0],\n",
              "      dtype=int16)"
            ]
          },
          "metadata": {
            "tags": []
          },
          "execution_count": 46
        }
      ]
    },
    {
      "cell_type": "code",
      "metadata": {
        "id": "ZLyOSBAXTHJK",
        "colab_type": "code",
        "outputId": "0405e1e2-aa4b-4619-9861-fa4ff265573e",
        "colab": {
          "base_uri": "https://localhost:8080/",
          "height": 264
        }
      },
      "source": [
        "plt.plot(a)\n",
        "plt.show()"
      ],
      "execution_count": 0,
      "outputs": [
        {
          "output_type": "display_data",
          "data": {
            "image/png": "[encoded data removed]",
            "text/plain": [
              "<Figure size 432x288 with 1 Axes>"
            ]
          },
          "metadata": {
            "tags": []
          }
        }
      ]
    },
    {
      "cell_type": "code",
      "metadata": {
        "id": "ebL_eBTWSlnD",
        "colab_type": "code",
        "outputId": "d11c0f5e-57b1-4b64-e32d-3cd1f8ff8da5",
        "colab": {
          "base_uri": "https://localhost:8080/",
          "height": 265
        }
      },
      "source": [
        "abs_a = np.abs(a)\n",
        "abs_a"
      ],
      "execution_count": 0,
      "outputs": [
        {
          "output_type": "execute_result",
          "data": {
            "text/plain": [
              "array([    0,     0,     0,     0,     0,     0,     0,   117,   861,\n",
              "         268,   509,  3850,  1405,  1119,  2602,   213,  1192,  3022,\n",
              "         337,  1292,  5351,  1128,   123,  1034,   167,   309,    22,\n",
              "           7,     0,     3,     0,     1,     0,    30,   128,    63,\n",
              "           5,    92,     8,    35,    11,    57,    62,     3,    47,\n",
              "          23,   101,    40,  1149,  5153,  7368,  9440, 13747,  4643,\n",
              "        1609,  4278,   529,   843,  2560,  1500,  2463,   598,   264,\n",
              "         122,   146,   102,     0,     0,     0,     0,     0,     0,\n",
              "           0,    46,    28,    65,   236,    58,    26,   133,   123,\n",
              "        1131,  3820,   237,  3607,   491,  3222,  3871,  8924,  7897,\n",
              "        5990,  1497,   904,  2201,   942,    98,   327,   200,   162,\n",
              "          67,     9,     0,     0,     0,     0,     0,     0,     0,\n",
              "           0,     0,     0,     0,     0,     0,     0,     0,     0,\n",
              "           0,     0,     0], dtype=int16)"
            ]
          },
          "metadata": {
            "tags": []
          },
          "execution_count": 48
        }
      ]
    },
    {
      "cell_type": "code",
      "metadata": {
        "id": "_xaGLKYDTOO3",
        "colab_type": "code",
        "outputId": "25d5422b-c8b2-4426-e35b-5b30943c8387",
        "colab": {
          "base_uri": "https://localhost:8080/",
          "height": 264
        }
      },
      "source": [
        "plt.plot(abs_a)\n",
        "plt.show()"
      ],
      "execution_count": 0,
      "outputs": [
        {
          "output_type": "display_data",
          "data": {
            "image/png": "[encoded data removed]",
            "text/plain": [
              "<Figure size 432x288 with 1 Axes>"
            ]
          },
          "metadata": {
            "tags": []
          }
        }
      ]
    },
    {
      "cell_type": "code",
      "metadata": {
        "id": "lFWkaGPGUZdl",
        "colab_type": "code",
        "outputId": "a0d65048-e532-46a2-8fba-48ec1e6d1d04",
        "colab": {
          "base_uri": "https://localhost:8080/",
          "height": 265
        }
      },
      "source": [
        "b = abs_a.clip(200, abs_a.max())\n",
        "b"
      ],
      "execution_count": 0,
      "outputs": [
        {
          "output_type": "execute_result",
          "data": {
            "text/plain": [
              "array([  200,   200,   200,   200,   200,   200,   200,   200,   861,\n",
              "         268,   509,  3850,  1405,  1119,  2602,   213,  1192,  3022,\n",
              "         337,  1292,  5351,  1128,   200,  1034,   200,   309,   200,\n",
              "         200,   200,   200,   200,   200,   200,   200,   200,   200,\n",
              "         200,   200,   200,   200,   200,   200,   200,   200,   200,\n",
              "         200,   200,   200,  1149,  5153,  7368,  9440, 13747,  4643,\n",
              "        1609,  4278,   529,   843,  2560,  1500,  2463,   598,   264,\n",
              "         200,   200,   200,   200,   200,   200,   200,   200,   200,\n",
              "         200,   200,   200,   200,   236,   200,   200,   200,   200,\n",
              "        1131,  3820,   237,  3607,   491,  3222,  3871,  8924,  7897,\n",
              "        5990,  1497,   904,  2201,   942,   200,   327,   200,   200,\n",
              "         200,   200,   200,   200,   200,   200,   200,   200,   200,\n",
              "         200,   200,   200,   200,   200,   200,   200,   200,   200,\n",
              "         200,   200,   200], dtype=int16)"
            ]
          },
          "metadata": {
            "tags": []
          },
          "execution_count": 50
        }
      ]
    },
    {
      "cell_type": "code",
      "metadata": {
        "id": "Zg25MmjzU-eT",
        "colab_type": "code",
        "outputId": "5fbe666a-6419-4955-ba08-54e54e9e45ae",
        "colab": {
          "base_uri": "https://localhost:8080/",
          "height": 264
        }
      },
      "source": [
        "plt.plot(b)\n",
        "plt.show()"
      ],
      "execution_count": 0,
      "outputs": [
        {
          "output_type": "display_data",
          "data": {
            "image/png": "[encoded data removed]",
            "text/plain": [
              "<Figure size 432x288 with 1 Axes>"
            ]
          },
          "metadata": {
            "tags": []
          }
        }
      ]
    },
    {
      "cell_type": "code",
      "metadata": {
        "id": "T6FRxDM8XCFb",
        "colab_type": "code",
        "outputId": "ef6069b6-82d2-4e58-e055-f2640a3f3ac8",
        "colab": {
          "base_uri": "https://localhost:8080/",
          "height": 265
        }
      },
      "source": [
        "# создадим такой же массив, заполним его одинаковыми элементами\n",
        "c = b.copy()\n",
        "c"
      ],
      "execution_count": 0,
      "outputs": [
        {
          "output_type": "execute_result",
          "data": {
            "text/plain": [
              "array([  200,   200,   200,   200,   200,   200,   200,   200,   861,\n",
              "         268,   509,  3850,  1405,  1119,  2602,   213,  1192,  3022,\n",
              "         337,  1292,  5351,  1128,   200,  1034,   200,   309,   200,\n",
              "         200,   200,   200,   200,   200,   200,   200,   200,   200,\n",
              "         200,   200,   200,   200,   200,   200,   200,   200,   200,\n",
              "         200,   200,   200,  1149,  5153,  7368,  9440, 13747,  4643,\n",
              "        1609,  4278,   529,   843,  2560,  1500,  2463,   598,   264,\n",
              "         200,   200,   200,   200,   200,   200,   200,   200,   200,\n",
              "         200,   200,   200,   200,   236,   200,   200,   200,   200,\n",
              "        1131,  3820,   237,  3607,   491,  3222,  3871,  8924,  7897,\n",
              "        5990,  1497,   904,  2201,   942,   200,   327,   200,   200,\n",
              "         200,   200,   200,   200,   200,   200,   200,   200,   200,\n",
              "         200,   200,   200,   200,   200,   200,   200,   200,   200,\n",
              "         200,   200,   200], dtype=int16)"
            ]
          },
          "metadata": {
            "tags": []
          },
          "execution_count": 52
        }
      ]
    },
    {
      "cell_type": "code",
      "metadata": {
        "id": "-BLYt_Asbb92",
        "colab_type": "code",
        "outputId": "53bcc998-c60d-49d5-aaec-c8ca6555ace4",
        "colab": {
          "base_uri": "https://localhost:8080/",
          "height": 194
        }
      },
      "source": [
        "c.fill(200)\n",
        "c"
      ],
      "execution_count": 0,
      "outputs": [
        {
          "output_type": "execute_result",
          "data": {
            "text/plain": [
              "array([200, 200, 200, 200, 200, 200, 200, 200, 200, 200, 200, 200, 200,\n",
              "       200, 200, 200, 200, 200, 200, 200, 200, 200, 200, 200, 200, 200,\n",
              "       200, 200, 200, 200, 200, 200, 200, 200, 200, 200, 200, 200, 200,\n",
              "       200, 200, 200, 200, 200, 200, 200, 200, 200, 200, 200, 200, 200,\n",
              "       200, 200, 200, 200, 200, 200, 200, 200, 200, 200, 200, 200, 200,\n",
              "       200, 200, 200, 200, 200, 200, 200, 200, 200, 200, 200, 200, 200,\n",
              "       200, 200, 200, 200, 200, 200, 200, 200, 200, 200, 200, 200, 200,\n",
              "       200, 200, 200, 200, 200, 200, 200, 200, 200, 200, 200, 200, 200,\n",
              "       200, 200, 200, 200, 200, 200, 200, 200, 200, 200, 200, 200, 200,\n",
              "       200, 200, 200], dtype=int16)"
            ]
          },
          "metadata": {
            "tags": []
          },
          "execution_count": 53
        }
      ]
    },
    {
      "cell_type": "code",
      "metadata": {
        "id": "artkhTMxabuQ",
        "colab_type": "code",
        "outputId": "3d0ad7a6-cbdd-4e00-d109-b9622069d145",
        "colab": {
          "base_uri": "https://localhost:8080/",
          "height": 265
        }
      },
      "source": [
        "d = b - c\n",
        "d"
      ],
      "execution_count": 0,
      "outputs": [
        {
          "output_type": "execute_result",
          "data": {
            "text/plain": [
              "array([    0,     0,     0,     0,     0,     0,     0,     0,   661,\n",
              "          68,   309,  3650,  1205,   919,  2402,    13,   992,  2822,\n",
              "         137,  1092,  5151,   928,     0,   834,     0,   109,     0,\n",
              "           0,     0,     0,     0,     0,     0,     0,     0,     0,\n",
              "           0,     0,     0,     0,     0,     0,     0,     0,     0,\n",
              "           0,     0,     0,   949,  4953,  7168,  9240, 13547,  4443,\n",
              "        1409,  4078,   329,   643,  2360,  1300,  2263,   398,    64,\n",
              "           0,     0,     0,     0,     0,     0,     0,     0,     0,\n",
              "           0,     0,     0,     0,    36,     0,     0,     0,     0,\n",
              "         931,  3620,    37,  3407,   291,  3022,  3671,  8724,  7697,\n",
              "        5790,  1297,   704,  2001,   742,     0,   127,     0,     0,\n",
              "           0,     0,     0,     0,     0,     0,     0,     0,     0,\n",
              "           0,     0,     0,     0,     0,     0,     0,     0,     0,\n",
              "           0,     0,     0], dtype=int16)"
            ]
          },
          "metadata": {
            "tags": []
          },
          "execution_count": 54
        }
      ]
    },
    {
      "cell_type": "code",
      "metadata": {
        "id": "OLmB2DK0HpiB",
        "colab_type": "code",
        "outputId": "6fb714a3-3518-4aee-f02f-302e687066a3",
        "colab": {
          "base_uri": "https://localhost:8080/",
          "height": 123
        }
      },
      "source": [
        "e = d.clip(0, 1)\n",
        "e"
      ],
      "execution_count": 0,
      "outputs": [
        {
          "output_type": "execute_result",
          "data": {
            "text/plain": [
              "array([0, 0, 0, 0, 0, 0, 0, 0, 1, 1, 1, 1, 1, 1, 1, 1, 1, 1, 1, 1, 1, 1,\n",
              "       0, 1, 0, 1, 0, 0, 0, 0, 0, 0, 0, 0, 0, 0, 0, 0, 0, 0, 0, 0, 0, 0,\n",
              "       0, 0, 0, 0, 1, 1, 1, 1, 1, 1, 1, 1, 1, 1, 1, 1, 1, 1, 1, 0, 0, 0,\n",
              "       0, 0, 0, 0, 0, 0, 0, 0, 0, 0, 1, 0, 0, 0, 0, 1, 1, 1, 1, 1, 1, 1,\n",
              "       1, 1, 1, 1, 1, 1, 1, 0, 1, 0, 0, 0, 0, 0, 0, 0, 0, 0, 0, 0, 0, 0,\n",
              "       0, 0, 0, 0, 0, 0, 0, 0, 0, 0], dtype=int16)"
            ]
          },
          "metadata": {
            "tags": []
          },
          "execution_count": 55
        }
      ]
    },
    {
      "cell_type": "code",
      "metadata": {
        "id": "p2ra79qUIZl7",
        "colab_type": "code",
        "outputId": "eda02bcf-043f-454d-b3f5-555f7b6a703c",
        "colab": {
          "base_uri": "https://localhost:8080/",
          "height": 264
        }
      },
      "source": [
        "plt.plot(e)\n",
        "plt.show()"
      ],
      "execution_count": 0,
      "outputs": [
        {
          "output_type": "display_data",
          "data": {
            "image/png": "[encoded data removed]",
            "text/plain": [
              "<Figure size 432x288 with 1 Axes>"
            ]
          },
          "metadata": {
            "tags": []
          }
        }
      ]
    },
    {
      "cell_type": "markdown",
      "metadata": {
        "id": "KfbiPhlhR5HZ",
        "colab_type": "text"
      },
      "source": [
        ""
      ]
    },
    {
      "cell_type": "markdown",
      "metadata": {
        "id": "QQgEEJm3Rg5M",
        "colab_type": "text"
      },
      "source": [
        "\n",
        "\n",
        "---\n",
        "\n"
      ]
    },
    {
      "cell_type": "markdown",
      "metadata": {
        "id": "1J0GjwYNMx3J",
        "colab_type": "text"
      },
      "source": [
        "# Определяем координаты центров тишины. \n",
        "Эти координаты будут использованы для разрезания аудиопотока на части - фразу делим на слова"
      ]
    },
    {
      "cell_type": "markdown",
      "metadata": {
        "id": "eqqxKxRUT4MI",
        "colab_type": "text"
      },
      "source": [
        "\n",
        "\n",
        "---\n",
        "\n",
        "\n",
        "\n",
        "---\n",
        "\n",
        "\n",
        "\n",
        "---\n",
        "\n"
      ]
    },
    {
      "cell_type": "code",
      "metadata": {
        "id": "sTfYTLi40cUC",
        "colab_type": "code",
        "colab": {}
      },
      "source": [
        "a = np.array([0, 0, 0, 0, 0, 0, 0, 0, 1, 1, 1, 1, 1, 1, 1, 1, 1, 1, 1, 1, 1, 1,\n",
        "       0, 1, 0, 1, 0, 0, 0, 0, 0, 0, 0, 0, 0, 0, 0, 0, 0, 0, 0, 0, 0, 0,\n",
        "       0, 0, 0, 0, 1, 1, 1, 1, 1, 1, 1, 1, 1, 1, 1, 1, 1, 1, 1, 0, 0, 0,\n",
        "       0, 0, 0, 0, 0, 0, 0, 0, 0, 0, 1, 0, 0, 0, 0, 1, 1, 1, 1, 1, 1, 1,\n",
        "       1, 1, 1, 1, 1, 1, 1, 0, 1, 0, 0, 0, 0, 0, 0, 0, 0, 0, 0, 0, 0, 0,\n",
        "       0, 0, 0, 0, 0, 0, 0, 0, 0, 0], int)\n",
        "\n"
      ],
      "execution_count": 0,
      "outputs": []
    },
    {
      "cell_type": "code",
      "metadata": {
        "id": "38Fb6SQHZptx",
        "colab_type": "code",
        "outputId": "d3df4e7c-bf44-468d-9058-670908578bb0",
        "colab": {
          "base_uri": "https://localhost:8080/",
          "height": 123
        }
      },
      "source": [
        "a = e.copy()\n",
        "a"
      ],
      "execution_count": 0,
      "outputs": [
        {
          "output_type": "execute_result",
          "data": {
            "text/plain": [
              "array([0, 0, 0, 0, 0, 0, 0, 0, 1, 1, 1, 1, 1, 1, 1, 1, 1, 1, 1, 1, 1, 1,\n",
              "       0, 1, 0, 1, 0, 0, 0, 0, 0, 0, 0, 0, 0, 0, 0, 0, 0, 0, 0, 0, 0, 0,\n",
              "       0, 0, 0, 0, 1, 1, 1, 1, 1, 1, 1, 1, 1, 1, 1, 1, 1, 1, 1, 0, 0, 0,\n",
              "       0, 0, 0, 0, 0, 0, 0, 0, 0, 0, 1, 0, 0, 0, 0, 1, 1, 1, 1, 1, 1, 1,\n",
              "       1, 1, 1, 1, 1, 1, 1, 0, 1, 0, 0, 0, 0, 0, 0, 0, 0, 0, 0, 0, 0, 0,\n",
              "       0, 0, 0, 0, 0, 0, 0, 0, 0, 0], dtype=int16)"
            ]
          },
          "metadata": {
            "tags": []
          },
          "execution_count": 58
        }
      ]
    },
    {
      "cell_type": "code",
      "metadata": {
        "id": "K9E-bNf21PgU",
        "colab_type": "code",
        "outputId": "a8c980ec-1340-4f0f-afab-4ace6689d26e",
        "colab": {
          "base_uri": "https://localhost:8080/",
          "height": 264
        }
      },
      "source": [
        "plt.plot(a)\n",
        "plt.show()"
      ],
      "execution_count": 0,
      "outputs": [
        {
          "output_type": "display_data",
          "data": {
            "image/png": "[encoded data removed]",
            "text/plain": [
              "<Figure size 432x288 with 1 Axes>"
            ]
          },
          "metadata": {
            "tags": []
          }
        }
      ]
    },
    {
      "cell_type": "markdown",
      "metadata": {
        "id": "kJdCBLMq05Bb",
        "colab_type": "text"
      },
      "source": [
        "Решение берем отсюда: https://younglinux.info/python/task/id-range"
      ]
    },
    {
      "cell_type": "code",
      "metadata": {
        "id": "8zZnXlkS0tpe",
        "colab_type": "code",
        "outputId": "8b4bdd5d-fc27-49c4-fa18-f50bbf6746c2",
        "colab": {
          "base_uri": "https://localhost:8080/",
          "height": 87
        }
      },
      "source": [
        "\n",
        "#def my_function(a): # задаем массив\n",
        "   \n",
        "count = 0\n",
        "max_count = 0\n",
        "index = 0\n",
        "i = 0 \n",
        "while i < len(a):\n",
        "\tif a[i] == 1:\n",
        "\t\tcount += 1\n",
        "\telse:\n",
        "\t\tif count > max_count:\n",
        "\t\t\tmax_count = count\n",
        "\t\t\tindex = i-1 # последовательность закончилась на предыдущем элементе\n",
        "\t\tcount = 0\n",
        "\ti += 1\n",
        "\n",
        "  \n",
        " \n",
        "print(\"Количество элементов: \", max_count)\n",
        "print(\"id первого элемента: \", index-max_count+1)\n",
        "print(\"id последнего элемента: \", index)\n",
        "print(\"середина\", int(round(index - max_count/2)))"
      ],
      "execution_count": 0,
      "outputs": [
        {
          "output_type": "stream",
          "text": [
            "Количество элементов:  15\n",
            "id первого элемента:  48\n",
            "id последнего элемента:  62\n",
            "середина 54\n"
          ],
          "name": "stdout"
        }
      ]
    },
    {
      "cell_type": "code",
      "metadata": {
        "id": "lMeLzuJ36-d5",
        "colab_type": "code",
        "outputId": "1a372fe7-d11d-4d4f-bd3c-1be0c79b7bf9",
        "colab": {
          "base_uri": "https://localhost:8080/",
          "height": 34
        }
      },
      "source": [
        "int(round(index - max_count/2))"
      ],
      "execution_count": 0,
      "outputs": [
        {
          "output_type": "execute_result",
          "data": {
            "text/plain": [
              "54"
            ]
          },
          "metadata": {
            "tags": []
          },
          "execution_count": 61
        }
      ]
    },
    {
      "cell_type": "code",
      "metadata": {
        "id": "mXmBbhWS6-T0",
        "colab_type": "code",
        "outputId": "946a49df-b90f-4782-af93-ee4d61245a7d",
        "colab": {
          "base_uri": "https://localhost:8080/",
          "height": 34
        }
      },
      "source": [
        "a[index-max_count+1:index] # items start through end-1\n"
      ],
      "execution_count": 0,
      "outputs": [
        {
          "output_type": "execute_result",
          "data": {
            "text/plain": [
              "array([1, 1, 1, 1, 1, 1, 1, 1, 1, 1, 1, 1, 1, 1], dtype=int16)"
            ]
          },
          "metadata": {
            "tags": []
          },
          "execution_count": 62
        }
      ]
    },
    {
      "cell_type": "markdown",
      "metadata": {
        "id": "eEezcIvP-8-K",
        "colab_type": "text"
      },
      "source": [
        "ОБнуляем полученное единички. ищем следущую самую длинную последовательность единичек"
      ]
    },
    {
      "cell_type": "code",
      "metadata": {
        "id": "T-9xaAUO-nAM",
        "colab_type": "code",
        "colab": {}
      },
      "source": [
        "\n",
        "a[index-max_count+1:index] = 0 #ОБнуляем полученное единички. "
      ],
      "execution_count": 0,
      "outputs": []
    },
    {
      "cell_type": "code",
      "metadata": {
        "id": "uIdKETDv_f63",
        "colab_type": "code",
        "colab": {}
      },
      "source": [
        "a1 = a\n"
      ],
      "execution_count": 0,
      "outputs": []
    },
    {
      "cell_type": "code",
      "metadata": {
        "id": "mofD_huG-16z",
        "colab_type": "code",
        "outputId": "c1b27e4a-e5b8-4d67-f53e-7275a9c2b1d3",
        "colab": {
          "base_uri": "https://localhost:8080/",
          "height": 264
        }
      },
      "source": [
        "plt.plot(a1)\n",
        "plt.show()"
      ],
      "execution_count": 0,
      "outputs": [
        {
          "output_type": "display_data",
          "data": {
            "image/png": "[encoded data removed]",
            "text/plain": [
              "<Figure size 432x288 with 1 Axes>"
            ]
          },
          "metadata": {
            "tags": []
          }
        }
      ]
    },
    {
      "cell_type": "code",
      "metadata": {
        "id": "FjLOQAMzCPQu",
        "colab_type": "code",
        "colab": {}
      },
      "source": [
        "a2 = a1.copy()\n",
        "a = a2"
      ],
      "execution_count": 0,
      "outputs": []
    },
    {
      "cell_type": "code",
      "metadata": {
        "id": "tfYLPrWzAHPi",
        "colab_type": "code",
        "outputId": "a2a85501-7972-4bc0-c938-9da8aa405bde",
        "colab": {
          "base_uri": "https://localhost:8080/",
          "height": 87
        }
      },
      "source": [
        "count = 0\n",
        "max_count = 0\n",
        "index = 0\n",
        "i = 0 \n",
        "while i < len(a):\n",
        "\tif a[i] == 1:\n",
        "\t\tcount += 1\n",
        "\telse:\n",
        "\t\tif count > max_count:\n",
        "\t\t\tmax_count = count\n",
        "\t\t\tindex = i-1 # последовательность закончилась на предыдущем элементе\n",
        "\t\tcount = 0\n",
        "\ti += 1\n",
        " \n",
        "print(\"Количество элементов: \", max_count)\n",
        "print(\"id первого элемента: \", index-max_count+1)\n",
        "print(\"id последнего элемента: \", index)\n",
        "print(\"середина\", int(round(index - max_count/2)))"
      ],
      "execution_count": 0,
      "outputs": [
        {
          "output_type": "stream",
          "text": [
            "Количество элементов:  14\n",
            "id первого элемента:  8\n",
            "id последнего элемента:  21\n",
            "середина 14\n"
          ],
          "name": "stdout"
        }
      ]
    },
    {
      "cell_type": "code",
      "metadata": {
        "id": "9VDo0OeHCw0p",
        "colab_type": "code",
        "colab": {}
      },
      "source": [
        "a[index-max_count+1:index] = 0 #ОБнуляем полученное единички. "
      ],
      "execution_count": 0,
      "outputs": []
    },
    {
      "cell_type": "code",
      "metadata": {
        "id": "tkvMs9dRC6CL",
        "colab_type": "code",
        "outputId": "e9907c80-21d8-4e0f-eadc-5c46b81a7189",
        "colab": {
          "base_uri": "https://localhost:8080/",
          "height": 264
        }
      },
      "source": [
        "plt.plot(a)\n",
        "plt.show()"
      ],
      "execution_count": 0,
      "outputs": [
        {
          "output_type": "display_data",
          "data": {
            "image/png": "[encoded data removed]",
            "text/plain": [
              "<Figure size 432x288 with 1 Axes>"
            ]
          },
          "metadata": {
            "tags": []
          }
        }
      ]
    },
    {
      "cell_type": "code",
      "metadata": {
        "id": "gyMrWc2SDWZT",
        "colab_type": "code",
        "colab": {}
      },
      "source": [
        "# делаем копию и запускаем снова\n",
        "a3 = a.copy()\n",
        "a = a3"
      ],
      "execution_count": 0,
      "outputs": []
    },
    {
      "cell_type": "code",
      "metadata": {
        "id": "lPl0PEnADtGo",
        "colab_type": "code",
        "outputId": "02b88e9d-5e5e-45ac-f0f2-3c19891a0eee",
        "colab": {
          "base_uri": "https://localhost:8080/",
          "height": 87
        }
      },
      "source": [
        "count = 0\n",
        "max_count = 0\n",
        "index = 0\n",
        "i = 0 \n",
        "while i < len(a):\n",
        "\tif a[i] == 1:\n",
        "\t\tcount += 1\n",
        "\telse:\n",
        "\t\tif count > max_count:\n",
        "\t\t\tmax_count = count\n",
        "\t\t\tindex = i-1 # последовательность закончилась на предыдущем элементе\n",
        "\t\tcount = 0\n",
        "\ti += 1\n",
        " \n",
        "print(\"Количество элементов: \", max_count)\n",
        "print(\"id первого элемента: \", index-max_count+1)\n",
        "print(\"id последнего элемента: \", index)\n",
        "print(\"середина\", int(round(index - max_count/2)))"
      ],
      "execution_count": 0,
      "outputs": [
        {
          "output_type": "stream",
          "text": [
            "Количество элементов:  14\n",
            "id первого элемента:  81\n",
            "id последнего элемента:  94\n",
            "середина 87\n"
          ],
          "name": "stdout"
        }
      ]
    },
    {
      "cell_type": "code",
      "metadata": {
        "id": "Ztac7uWuEs-r",
        "colab_type": "code",
        "outputId": "ae397079-66ac-47eb-b8ca-ffa4d52a1f51",
        "colab": {
          "base_uri": "https://localhost:8080/",
          "height": 264
        }
      },
      "source": [
        "a[index-max_count+1:index] = 0 #ОБнуляем полученное единички.\n",
        "# делаем копию и запускаем снова\n",
        "a4 = a.copy()\n",
        "a = a4\n",
        "plt.plot(a)\n",
        "plt.show()"
      ],
      "execution_count": 0,
      "outputs": [
        {
          "output_type": "display_data",
          "data": {
            "image/png": "[encoded data removed]",
            "text/plain": [
              "<Figure size 432x288 with 1 Axes>"
            ]
          },
          "metadata": {
            "tags": []
          }
        }
      ]
    },
    {
      "cell_type": "code",
      "metadata": {
        "id": "OupXP6arFA2Y",
        "colab_type": "code",
        "outputId": "19c86695-cabc-4dc3-a6a6-972fb6b9b4ad",
        "colab": {
          "base_uri": "https://localhost:8080/",
          "height": 87
        }
      },
      "source": [
        "count = 0\n",
        "max_count = 0\n",
        "index = 0\n",
        "i = 0 \n",
        "while i < len(a):\n",
        "\tif a[i] == 1:\n",
        "\t\tcount += 1\n",
        "\telse:\n",
        "\t\tif count > max_count:\n",
        "\t\t\tmax_count = count\n",
        "\t\t\tindex = i-1 # последовательность закончилась на предыдущем элементе\n",
        "\t\tcount = 0\n",
        "\ti += 1\n",
        " \n",
        "print(\"Количество элементов: \", max_count)\n",
        "print(\"id первого элемента: \", index-max_count+1)\n",
        "print(\"id последнего элемента: \", index)\n",
        "print(\"середина\", int(round(index - max_count/2)))"
      ],
      "execution_count": 0,
      "outputs": [
        {
          "output_type": "stream",
          "text": [
            "Количество элементов:  1\n",
            "id первого элемента:  21\n",
            "id последнего элемента:  21\n",
            "середина 20\n"
          ],
          "name": "stdout"
        }
      ]
    },
    {
      "cell_type": "markdown",
      "metadata": {
        "id": "F3Q43fOgEDuG",
        "colab_type": "text"
      },
      "source": [
        "у нас периоды звука не сильно отличаются друг от друга.\n",
        "\n",
        "Длина звука - это в нашем случае количество элементов.\n",
        "Звуки 1, 2, 3 имеют 14 индексов (количество элементов), а звук 4 - 1 элемент. \n",
        "Это означает, что более или менее длиные звуки кончились. \n",
        "Можем воспользоваться этим как сигналом для остановки поиска новых слов во фразе.\n",
        "Если отношение (количество элементов для первого звука / количеств элементов следующего звука) > 2, то функцию поиска середины звука останавливаем"
      ]
    },
    {
      "cell_type": "markdown",
      "metadata": {
        "id": "GzuN4HX4FpaV",
        "colab_type": "text"
      },
      "source": [
        "ИТОГО получили три индекса - центры звуков. \n",
        "C1 = середина 54.5\n",
        "C2 = середина 14.0\n",
        "C3 = середина 87.0\n",
        "\n",
        "Будем искать линии разрезов\n",
        "Первый разрез T0 = 0\n"
      ]
    },
    {
      "cell_type": "code",
      "metadata": {
        "id": "fnphYYv-EL-k",
        "colab_type": "code",
        "outputId": "7970b727-e218-4724-80db-37d11689f964",
        "colab": {
          "base_uri": "https://localhost:8080/",
          "height": 70
        }
      },
      "source": [
        "C1 = 54 # взято для примера, обработка файла 'seg_no_bed_bird.wav'\n",
        "C2 = 14\n",
        "C3 = 87\n",
        "\n",
        "Center_list  = [C1, C2, C3]\n",
        "print(Center_list)\n",
        "\n",
        "# ранжируем список центров звука по возростанию\n",
        "Center_list.sort()\n",
        "b = sorted(Center_list)\n",
        "print(b)\n",
        "print(range(len(b)))\n",
        "\n",
        "T1 = b[0]\n",
        "T2 = b[1]\n",
        "T3 = b[2]\n"
      ],
      "execution_count": 0,
      "outputs": [
        {
          "output_type": "stream",
          "text": [
            "[54, 14, 87]\n",
            "[14, 54, 87]\n",
            "range(0, 3)\n"
          ],
          "name": "stdout"
        }
      ]
    },
    {
      "cell_type": "markdown",
      "metadata": {
        "id": "T9wKHyIUPUhY",
        "colab_type": "text"
      },
      "source": [
        "Вычисляем точки разреза:"
      ]
    },
    {
      "cell_type": "code",
      "metadata": {
        "id": "pSWBD-iK5OH2",
        "colab_type": "code",
        "outputId": "5913e752-c17d-443d-d862-d28f2ca1fa7a",
        "colab": {
          "base_uri": "https://localhost:8080/",
          "height": 70
        }
      },
      "source": [
        "# для фразы из трех слов - это две точки, для фразы из трех слов - две.\n",
        "# для файла 'seg_no_bed_bird.wav' - две точки.\n",
        " \n",
        "S1 = round(T1 + (T2-T1)/2)\n",
        "S2 = round(T2 + (T3-T2)/2)\n",
        "\n",
        "print(S1)\n",
        "print(S2)\n",
        "\n",
        "Split_list = [S1, S2], int\n",
        "print(Split_list) \n",
        "\n"
      ],
      "execution_count": 0,
      "outputs": [
        {
          "output_type": "stream",
          "text": [
            "34\n",
            "70\n",
            "([34, 70], <class 'int'>)\n"
          ],
          "name": "stdout"
        }
      ]
    },
    {
      "cell_type": "code",
      "metadata": {
        "id": "ssEvaaxrQzN1",
        "colab_type": "code",
        "colab": {}
      },
      "source": [
        "sound = np.array([     0,      0,      0,      0,      0,      0,      0,    117,\n",
        "          861,   -268,    509,   3850,   1405,   1119,  -2602,    213,\n",
        "         1192,  -3022,   -337,  -1292,  -5351,   1128,    123,   1034,\n",
        "         -167,   -309,     22,      7,      0,      3,      0,     -1,\n",
        "            0,    -30,   -128,     63,     -5,     92,      8,    -35,\n",
        "           11,     57,    -62,     -3,     47,     23,    101,     40,\n",
        "        -1149,  -5153,   7368,  -9440, -13747,  -4643,   1609,   4278,\n",
        "          529,    843,   2560,  -1500,   2463,    598,    264,    122,\n",
        "          146,   -102,      0,      0,      0,      0,      0,      0,\n",
        "            0,    -46,     28,     65,    236,     58,    -26,    133,\n",
        "         -123,   1131,   3820,    237,  -3607,   -491,   3222,   3871,\n",
        "        -8924,  -7897,   5990,  -1497,    904,   2201,    942,     98,\n",
        "         -327,    200,   -162,    -67,     -9,      0,      0,      0,\n",
        "            0,      0,      0,      0,      0,      0,      0,      0,\n",
        "            0,      0,      0,      0,      0,      0,      0,      0], int)"
      ],
      "execution_count": 0,
      "outputs": []
    },
    {
      "cell_type": "code",
      "metadata": {
        "id": "tQbI2sK4LZjz",
        "colab_type": "code",
        "outputId": "a84daaae-00f5-479f-e90c-64b850da10af",
        "colab": {
          "base_uri": "https://localhost:8080/",
          "height": 264
        }
      },
      "source": [
        "plt.plot(sound)\n",
        "plt.show()"
      ],
      "execution_count": 0,
      "outputs": [
        {
          "output_type": "display_data",
          "data": {
            "image/png": "[encoded data removed]",
            "text/plain": [
              "<Figure size 432x288 with 1 Axes>"
            ]
          },
          "metadata": {
            "tags": []
          }
        }
      ]
    },
    {
      "cell_type": "code",
      "metadata": {
        "id": "Omrz4gAKKa_B",
        "colab_type": "code",
        "outputId": "38db51a1-c3c0-4c26-990f-5e71c3f80c57",
        "colab": {
          "base_uri": "https://localhost:8080/",
          "height": 87
        }
      },
      "source": [
        "sound1 = sound[:S1]\n",
        "sound1"
      ],
      "execution_count": 0,
      "outputs": [
        {
          "output_type": "execute_result",
          "data": {
            "text/plain": [
              "array([    0,     0,     0,     0,     0,     0,     0,   117,   861,\n",
              "        -268,   509,  3850,  1405,  1119, -2602,   213,  1192, -3022,\n",
              "        -337, -1292, -5351,  1128,   123,  1034,  -167,  -309,    22,\n",
              "           7,     0,     3,     0,    -1,     0,   -30])"
            ]
          },
          "metadata": {
            "tags": []
          },
          "execution_count": 78
        }
      ]
    },
    {
      "cell_type": "code",
      "metadata": {
        "id": "J0OyvQA4LmTe",
        "colab_type": "code",
        "outputId": "de1965d1-29fe-4193-e860-8257197a0267",
        "colab": {
          "base_uri": "https://localhost:8080/",
          "height": 264
        }
      },
      "source": [
        "plt.plot(sound1)\n",
        "plt.show()"
      ],
      "execution_count": 0,
      "outputs": [
        {
          "output_type": "display_data",
          "data": {
            "image/png": "[encoded data removed]",
            "text/plain": [
              "<Figure size 432x288 with 1 Axes>"
            ]
          },
          "metadata": {
            "tags": []
          }
        }
      ]
    },
    {
      "cell_type": "code",
      "metadata": {
        "id": "ACyoAg7vKyy8",
        "colab_type": "code",
        "colab": {}
      },
      "source": [
        "sound2 = sound[S1:S2]"
      ],
      "execution_count": 0,
      "outputs": []
    },
    {
      "cell_type": "code",
      "metadata": {
        "id": "5UPYjK1pMHk2",
        "colab_type": "code",
        "outputId": "5c8f3a3f-12c4-4cb3-a05f-8a012c7c2510",
        "colab": {
          "base_uri": "https://localhost:8080/",
          "height": 264
        }
      },
      "source": [
        "plt.plot(sound2)\n",
        "plt.show()"
      ],
      "execution_count": 0,
      "outputs": [
        {
          "output_type": "display_data",
          "data": {
            "image/png": "[encoded data removed]",
            "text/plain": [
              "<Figure size 432x288 with 1 Axes>"
            ]
          },
          "metadata": {
            "tags": []
          }
        }
      ]
    },
    {
      "cell_type": "code",
      "metadata": {
        "id": "GaYo1QVBK7ur",
        "colab_type": "code",
        "colab": {}
      },
      "source": [
        "sound3 = sound[S2:]"
      ],
      "execution_count": 0,
      "outputs": []
    },
    {
      "cell_type": "code",
      "metadata": {
        "id": "DdfKHocqLxaT",
        "colab_type": "code",
        "outputId": "9b32aea2-1e39-43ec-98d1-9b8078b67f7a",
        "colab": {
          "base_uri": "https://localhost:8080/",
          "height": 264
        }
      },
      "source": [
        "plt.plot(sound3)\n",
        "plt.show()"
      ],
      "execution_count": 0,
      "outputs": [
        {
          "output_type": "display_data",
          "data": {
            "image/png": "[encoded data removed]",
            "text/plain": [
              "<Figure size 432x288 with 1 Axes>"
            ]
          },
          "metadata": {
            "tags": []
          }
        }
      ]
    },
    {
      "cell_type": "markdown",
      "metadata": {
        "id": "CpR-5n-OyVS8",
        "colab_type": "text"
      },
      "source": [
        "\n",
        "\n",
        "---\n",
        "\n"
      ]
    },
    {
      "cell_type": "markdown",
      "metadata": {
        "id": "gcbumCsfyZ0c",
        "colab_type": "text"
      },
      "source": [
        "# Продолжение на ноутбуке \"Определение тишины\". С его помощью будут нарезаться фразы для скармливания модели."
      ]
    },
    {
      "cell_type": "markdown",
      "metadata": {
        "id": "gXQn1iT8Mb7w",
        "colab_type": "text"
      },
      "source": [
        "\n",
        "\n",
        "---\n",
        "\n",
        "\n",
        "\n",
        "---\n",
        "\n"
      ]
    }
  ]
}