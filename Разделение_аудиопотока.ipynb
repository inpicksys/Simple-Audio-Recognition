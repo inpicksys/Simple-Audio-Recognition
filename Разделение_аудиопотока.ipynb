{
  "nbformat": 4,
  "nbformat_minor": 0,
  "metadata": {
    "colab": {
      "name": "Разделение_аудиопотока.ipynb",
      "provenance": [],
      "collapsed_sections": []
    },
    "kernelspec": {
      "name": "python3",
      "display_name": "Python 3"
    }
  },
  "cells": [
    {
      "cell_type": "code",
      "metadata": {
        "id": "zxrPmC77tci-",
        "colab_type": "code",
        "colab": {}
      },
      "source": [
        ""
      ],
      "execution_count": 0,
      "outputs": []
    },
    {
      "cell_type": "code",
      "metadata": {
        "id": "a-Hi1g1Wjvs-",
        "colab_type": "code",
        "colab": {}
      },
      "source": [
        "# перезагрузить ноутбук\n",
        "!kill -9 -1"
      ],
      "execution_count": 0,
      "outputs": []
    },
    {
      "cell_type": "markdown",
      "metadata": {
        "id": "BdZgPBF7bpn5",
        "colab_type": "text"
      },
      "source": [
        "# Разделение аудиопотока (фразы) на отдельные слова "
      ]
    },
    {
      "cell_type": "markdown",
      "metadata": {
        "id": "mLICJgMEcOZg",
        "colab_type": "text"
      },
      "source": [
        "Копирование файлов с Git на локальный диск виртуальной машины - вставка ссылки с гитхаба: "
      ]
    },
    {
      "cell_type": "code",
      "metadata": {
        "id": "wA7AhHk1kA_Z",
        "colab_type": "code",
        "outputId": "2fed78e3-6d94-432b-deec-621e683042bc",
        "colab": {
          "base_uri": "https://localhost:8080/",
          "height": 34
        }
      },
      "source": [
        "!git clone https://github.com/smartsinovich/Simple-Audio-Recognition.git"
      ],
      "execution_count": 0,
      "outputs": [
        {
          "output_type": "stream",
          "text": [
            "fatal: destination path 'Simple-Audio-Recognition' already exists and is not an empty directory.\n"
          ],
          "name": "stdout"
        }
      ]
    },
    {
      "cell_type": "code",
      "metadata": {
        "id": "VjCEqpJnkMg_",
        "colab_type": "code",
        "outputId": "a34b3f90-3ee9-4d9b-8867-e8a0332b5da6",
        "colab": {
          "base_uri": "https://localhost:8080/",
          "height": 68
        }
      },
      "source": [
        "!pip install soundfile"
      ],
      "execution_count": 0,
      "outputs": [
        {
          "output_type": "stream",
          "text": [
            "Requirement already satisfied: soundfile in /usr/local/lib/python3.6/dist-packages (0.10.3.post1)\n",
            "Requirement already satisfied: cffi>=1.0 in /usr/local/lib/python3.6/dist-packages (from soundfile) (1.14.0)\n",
            "Requirement already satisfied: pycparser in /usr/local/lib/python3.6/dist-packages (from cffi>=1.0->soundfile) (2.19)\n"
          ],
          "name": "stdout"
        }
      ]
    },
    {
      "cell_type": "code",
      "metadata": {
        "id": "f4rGWiaWkUs1",
        "colab_type": "code",
        "outputId": "8180a0f6-70bf-4564-c527-ca242f82ded1",
        "colab": {
          "base_uri": "https://localhost:8080/",
          "height": 34
        }
      },
      "source": [
        "!pip install pydub"
      ],
      "execution_count": 0,
      "outputs": [
        {
          "output_type": "stream",
          "text": [
            "Requirement already satisfied: pydub in /usr/local/lib/python3.6/dist-packages (0.23.1)\n"
          ],
          "name": "stdout"
        }
      ]
    },
    {
      "cell_type": "markdown",
      "metadata": {
        "id": "DqUGTWaJkW4I",
        "colab_type": "text"
      },
      "source": [
        "\n",
        "\n",
        "---\n",
        "\n"
      ]
    },
    {
      "cell_type": "code",
      "metadata": {
        "id": "2vrHYe9fV3wz",
        "colab_type": "code",
        "colab": {}
      },
      "source": [
        "import numpy as np\n",
        "import random\n",
        "import itertools\n",
        "import librosa\n",
        "import IPython.display as ipd\n",
        "import matplotlib.pyplot as plt\n",
        "\n",
        "%matplotlib inline\n",
        "import soundfile as sf\n",
        "from scipy.io import wavfile\n",
        "import scipy.io.wavfile\n",
        "\n",
        "import numpy as np\n",
        "import random\n",
        "import itertools\n",
        "import librosa\n",
        "import IPython.display as ipd\n",
        "import matplotlib.pyplot as plt\n",
        "\n",
        "%matplotlib inline\n",
        "\n",
        "import soundfile as sf\n",
        "from scipy.io import wavfile\n",
        "import scipy.io.wavfile\n",
        "import matplotlib.pyplot as plt\n"
      ],
      "execution_count": 0,
      "outputs": []
    },
    {
      "cell_type": "markdown",
      "metadata": {
        "id": "HrG0VR-OS6BK",
        "colab_type": "text"
      },
      "source": [
        "Загружаем файл аудиопотока для дальнейшей обработки из директория Seg_audio_streams\n",
        "\n",
        "Это файл с сильно уменьшенным количеством данных. Он нужен только для определения точек разреза."
      ]
    },
    {
      "cell_type": "code",
      "metadata": {
        "id": "UGcy7lRsYzu2",
        "colab_type": "code",
        "outputId": "c5783f5c-9f34-4b81-db14-db852772f528",
        "colab": {
          "base_uri": "https://localhost:8080/",
          "height": 503
        }
      },
      "source": [
        "#segmented_file = '/content/Simple-Audio-Recognition/Seg_audio_streams/seg_up_dog_marvin.wav'\n",
        "segmented_file = '/content/Simple-Audio-Recognition/Seg_audio_streams/seg_no_bed_bird.wav'\n",
        "\n",
        "\n",
        "print(segmented_file)\n",
        "f = sf.SoundFile(segmented_file)\n",
        "print('samples = {}'.format(len(f)), '  sample rate = {}'.format(f.samplerate), '  seconds = {}'.format(len(f) / f.samplerate))\n",
        "rate, data = scipy.io.wavfile.read(segmented_file)\n",
        "print(rate, data)\n",
        "plt.plot(data)\n",
        "plt.show()"
      ],
      "execution_count": 0,
      "outputs": [
        {
          "output_type": "stream",
          "text": [
            "/content/Simple-Audio-Recognition/Seg_audio_streams/seg_no_bed_bird.wav\n",
            "samples = 120   sample rate = 40   seconds = 3.0\n",
            "40 [     0      0      0      0      0      0      0    117    861   -268\n",
            "    509   3850   1405   1119  -2602    213   1192  -3022   -337  -1292\n",
            "  -5351   1128    123   1034   -167   -309     22      7      0      3\n",
            "      0     -1      0    -30   -128     63     -5     92      8    -35\n",
            "     11     57    -62     -3     47     23    101     40  -1149  -5153\n",
            "   7368  -9440 -13747  -4643   1609   4278    529    843   2560  -1500\n",
            "   2463    598    264    122    146   -102      0      0      0      0\n",
            "      0      0      0    -46     28     65    236     58    -26    133\n",
            "   -123   1131   3820    237  -3607   -491   3222   3871  -8924  -7897\n",
            "   5990  -1497    904   2201    942     98   -327    200   -162    -67\n",
            "     -9      0      0      0      0      0      0      0      0      0\n",
            "      0      0      0      0      0      0      0      0      0      0]\n"
          ],
          "name": "stdout"
        },
        {
          "output_type": "display_data",
          "data": {
            "image/png": "[encoded data removed]",
            "text/plain": [
              "<Figure size 432x288 with 1 Axes>"
            ]
          },
          "metadata": {
            "tags": []
          }
        }
      ]
    },
    {
      "cell_type": "markdown",
      "metadata": {
        "id": "RPcNyH5SQn9z",
        "colab_type": "text"
      },
      "source": [
        "Выполним ряд преобразований.\n",
        "\n",
        "Цель: \n",
        "\n",
        "1.   Избавиться от шума - выделить моменты тишины\n",
        "2.   Определить середины периодов тишины для последующего разрезания аудиопотока\n",
        "\n"
      ]
    },
    {
      "cell_type": "code",
      "metadata": {
        "id": "XYt9dfg5NboX",
        "colab_type": "code",
        "outputId": "863005eb-e3de-499d-89fa-ce3f5078ec9f",
        "colab": {
          "base_uri": "https://localhost:8080/",
          "height": 289
        }
      },
      "source": [
        "a = np.array(data)\n",
        "a"
      ],
      "execution_count": 0,
      "outputs": [
        {
          "output_type": "execute_result",
          "data": {
            "text/plain": [
              "array([     0,      0,      0,      0,      0,      0,      0,    117,\n",
              "          861,   -268,    509,   3850,   1405,   1119,  -2602,    213,\n",
              "         1192,  -3022,   -337,  -1292,  -5351,   1128,    123,   1034,\n",
              "         -167,   -309,     22,      7,      0,      3,      0,     -1,\n",
              "            0,    -30,   -128,     63,     -5,     92,      8,    -35,\n",
              "           11,     57,    -62,     -3,     47,     23,    101,     40,\n",
              "        -1149,  -5153,   7368,  -9440, -13747,  -4643,   1609,   4278,\n",
              "          529,    843,   2560,  -1500,   2463,    598,    264,    122,\n",
              "          146,   -102,      0,      0,      0,      0,      0,      0,\n",
              "            0,    -46,     28,     65,    236,     58,    -26,    133,\n",
              "         -123,   1131,   3820,    237,  -3607,   -491,   3222,   3871,\n",
              "        -8924,  -7897,   5990,  -1497,    904,   2201,    942,     98,\n",
              "         -327,    200,   -162,    -67,     -9,      0,      0,      0,\n",
              "            0,      0,      0,      0,      0,      0,      0,      0,\n",
              "            0,      0,      0,      0,      0,      0,      0,      0],\n",
              "      dtype=int16)"
            ]
          },
          "metadata": {
            "tags": []
          },
          "execution_count": 59
        }
      ]
    },
    {
      "cell_type": "code",
      "metadata": {
        "id": "ZLyOSBAXTHJK",
        "colab_type": "code",
        "outputId": "08d2a308-b58c-4ce2-b4bf-6c9322c8dc73",
        "colab": {
          "base_uri": "https://localhost:8080/",
          "height": 265
        }
      },
      "source": [
        "plt.plot(a)\n",
        "plt.show()"
      ],
      "execution_count": 0,
      "outputs": [
        {
          "output_type": "display_data",
          "data": {
            "image/png": "[encoded data removed]",
            "text/plain": [
              "<Figure size 432x288 with 1 Axes>"
            ]
          },
          "metadata": {
            "tags": []
          }
        }
      ]
    },
    {
      "cell_type": "code",
      "metadata": {
        "id": "ebL_eBTWSlnD",
        "colab_type": "code",
        "outputId": "37a89460-7716-4ce9-d7e2-aa61c786e6aa",
        "colab": {
          "base_uri": "https://localhost:8080/",
          "height": 255
        }
      },
      "source": [
        "abs_a = np.abs(a)\n",
        "abs_a"
      ],
      "execution_count": 0,
      "outputs": [
        {
          "output_type": "execute_result",
          "data": {
            "text/plain": [
              "array([    0,     0,     0,     0,     0,     0,     0,   117,   861,\n",
              "         268,   509,  3850,  1405,  1119,  2602,   213,  1192,  3022,\n",
              "         337,  1292,  5351,  1128,   123,  1034,   167,   309,    22,\n",
              "           7,     0,     3,     0,     1,     0,    30,   128,    63,\n",
              "           5,    92,     8,    35,    11,    57,    62,     3,    47,\n",
              "          23,   101,    40,  1149,  5153,  7368,  9440, 13747,  4643,\n",
              "        1609,  4278,   529,   843,  2560,  1500,  2463,   598,   264,\n",
              "         122,   146,   102,     0,     0,     0,     0,     0,     0,\n",
              "           0,    46,    28,    65,   236,    58,    26,   133,   123,\n",
              "        1131,  3820,   237,  3607,   491,  3222,  3871,  8924,  7897,\n",
              "        5990,  1497,   904,  2201,   942,    98,   327,   200,   162,\n",
              "          67,     9,     0,     0,     0,     0,     0,     0,     0,\n",
              "           0,     0,     0,     0,     0,     0,     0,     0,     0,\n",
              "           0,     0,     0], dtype=int16)"
            ]
          },
          "metadata": {
            "tags": []
          },
          "execution_count": 61
        }
      ]
    },
    {
      "cell_type": "code",
      "metadata": {
        "id": "_xaGLKYDTOO3",
        "colab_type": "code",
        "outputId": "53ca9577-5198-409a-a42d-8f8243c4f535",
        "colab": {
          "base_uri": "https://localhost:8080/",
          "height": 265
        }
      },
      "source": [
        "plt.plot(abs_a)\n",
        "plt.show()"
      ],
      "execution_count": 0,
      "outputs": [
        {
          "output_type": "display_data",
          "data": {
            "image/png": "[encoded data removed]",
            "text/plain": [
              "<Figure size 432x288 with 1 Axes>"
            ]
          },
          "metadata": {
            "tags": []
          }
        }
      ]
    },
    {
      "cell_type": "code",
      "metadata": {
        "id": "lFWkaGPGUZdl",
        "colab_type": "code",
        "outputId": "2bb79ee1-a9fc-4222-d4d9-aaf3d27fd557",
        "colab": {
          "base_uri": "https://localhost:8080/",
          "height": 255
        }
      },
      "source": [
        "porog = 50 # порог чтобы срезать шум\n",
        "b = abs_a.clip(porog, abs_a.max())\n",
        "b"
      ],
      "execution_count": 0,
      "outputs": [
        {
          "output_type": "execute_result",
          "data": {
            "text/plain": [
              "array([   50,    50,    50,    50,    50,    50,    50,   117,   861,\n",
              "         268,   509,  3850,  1405,  1119,  2602,   213,  1192,  3022,\n",
              "         337,  1292,  5351,  1128,   123,  1034,   167,   309,    50,\n",
              "          50,    50,    50,    50,    50,    50,    50,   128,    63,\n",
              "          50,    92,    50,    50,    50,    57,    62,    50,    50,\n",
              "          50,   101,    50,  1149,  5153,  7368,  9440, 13747,  4643,\n",
              "        1609,  4278,   529,   843,  2560,  1500,  2463,   598,   264,\n",
              "         122,   146,   102,    50,    50,    50,    50,    50,    50,\n",
              "          50,    50,    50,    65,   236,    58,    50,   133,   123,\n",
              "        1131,  3820,   237,  3607,   491,  3222,  3871,  8924,  7897,\n",
              "        5990,  1497,   904,  2201,   942,    98,   327,   200,   162,\n",
              "          67,    50,    50,    50,    50,    50,    50,    50,    50,\n",
              "          50,    50,    50,    50,    50,    50,    50,    50,    50,\n",
              "          50,    50,    50], dtype=int16)"
            ]
          },
          "metadata": {
            "tags": []
          },
          "execution_count": 63
        }
      ]
    },
    {
      "cell_type": "code",
      "metadata": {
        "id": "Zg25MmjzU-eT",
        "colab_type": "code",
        "outputId": "628956e3-74ef-4845-f1a8-c18cc06b45c7",
        "colab": {
          "base_uri": "https://localhost:8080/",
          "height": 265
        }
      },
      "source": [
        "plt.plot(b)\n",
        "plt.show()"
      ],
      "execution_count": 0,
      "outputs": [
        {
          "output_type": "display_data",
          "data": {
            "image/png": "[encoded data removed]",
            "text/plain": [
              "<Figure size 432x288 with 1 Axes>"
            ]
          },
          "metadata": {
            "tags": []
          }
        }
      ]
    },
    {
      "cell_type": "code",
      "metadata": {
        "id": "T6FRxDM8XCFb",
        "colab_type": "code",
        "outputId": "9f9c1935-dba0-4f42-e0ff-878cd7016002",
        "colab": {
          "base_uri": "https://localhost:8080/",
          "height": 255
        }
      },
      "source": [
        "# создадим такой же массив, заполним его одинаковыми элементами\n",
        "c = b.copy()\n",
        "c"
      ],
      "execution_count": 0,
      "outputs": [
        {
          "output_type": "execute_result",
          "data": {
            "text/plain": [
              "array([   50,    50,    50,    50,    50,    50,    50,   117,   861,\n",
              "         268,   509,  3850,  1405,  1119,  2602,   213,  1192,  3022,\n",
              "         337,  1292,  5351,  1128,   123,  1034,   167,   309,    50,\n",
              "          50,    50,    50,    50,    50,    50,    50,   128,    63,\n",
              "          50,    92,    50,    50,    50,    57,    62,    50,    50,\n",
              "          50,   101,    50,  1149,  5153,  7368,  9440, 13747,  4643,\n",
              "        1609,  4278,   529,   843,  2560,  1500,  2463,   598,   264,\n",
              "         122,   146,   102,    50,    50,    50,    50,    50,    50,\n",
              "          50,    50,    50,    65,   236,    58,    50,   133,   123,\n",
              "        1131,  3820,   237,  3607,   491,  3222,  3871,  8924,  7897,\n",
              "        5990,  1497,   904,  2201,   942,    98,   327,   200,   162,\n",
              "          67,    50,    50,    50,    50,    50,    50,    50,    50,\n",
              "          50,    50,    50,    50,    50,    50,    50,    50,    50,\n",
              "          50,    50,    50], dtype=int16)"
            ]
          },
          "metadata": {
            "tags": []
          },
          "execution_count": 65
        }
      ]
    },
    {
      "cell_type": "code",
      "metadata": {
        "id": "-BLYt_Asbb92",
        "colab_type": "code",
        "outputId": "aa8ac2e3-bdc5-424d-e97a-8d33156195dd",
        "colab": {
          "base_uri": "https://localhost:8080/",
          "height": 153
        }
      },
      "source": [
        "c.fill(porog)\n",
        "c"
      ],
      "execution_count": 0,
      "outputs": [
        {
          "output_type": "execute_result",
          "data": {
            "text/plain": [
              "array([50, 50, 50, 50, 50, 50, 50, 50, 50, 50, 50, 50, 50, 50, 50, 50, 50,\n",
              "       50, 50, 50, 50, 50, 50, 50, 50, 50, 50, 50, 50, 50, 50, 50, 50, 50,\n",
              "       50, 50, 50, 50, 50, 50, 50, 50, 50, 50, 50, 50, 50, 50, 50, 50, 50,\n",
              "       50, 50, 50, 50, 50, 50, 50, 50, 50, 50, 50, 50, 50, 50, 50, 50, 50,\n",
              "       50, 50, 50, 50, 50, 50, 50, 50, 50, 50, 50, 50, 50, 50, 50, 50, 50,\n",
              "       50, 50, 50, 50, 50, 50, 50, 50, 50, 50, 50, 50, 50, 50, 50, 50, 50,\n",
              "       50, 50, 50, 50, 50, 50, 50, 50, 50, 50, 50, 50, 50, 50, 50, 50, 50,\n",
              "       50], dtype=int16)"
            ]
          },
          "metadata": {
            "tags": []
          },
          "execution_count": 66
        }
      ]
    },
    {
      "cell_type": "code",
      "metadata": {
        "id": "artkhTMxabuQ",
        "colab_type": "code",
        "outputId": "a806cde1-2db2-4676-dd22-e088bbdbb4cc",
        "colab": {
          "base_uri": "https://localhost:8080/",
          "height": 255
        }
      },
      "source": [
        "d = b - c\n",
        "d"
      ],
      "execution_count": 0,
      "outputs": [
        {
          "output_type": "execute_result",
          "data": {
            "text/plain": [
              "array([    0,     0,     0,     0,     0,     0,     0,    67,   811,\n",
              "         218,   459,  3800,  1355,  1069,  2552,   163,  1142,  2972,\n",
              "         287,  1242,  5301,  1078,    73,   984,   117,   259,     0,\n",
              "           0,     0,     0,     0,     0,     0,     0,    78,    13,\n",
              "           0,    42,     0,     0,     0,     7,    12,     0,     0,\n",
              "           0,    51,     0,  1099,  5103,  7318,  9390, 13697,  4593,\n",
              "        1559,  4228,   479,   793,  2510,  1450,  2413,   548,   214,\n",
              "          72,    96,    52,     0,     0,     0,     0,     0,     0,\n",
              "           0,     0,     0,    15,   186,     8,     0,    83,    73,\n",
              "        1081,  3770,   187,  3557,   441,  3172,  3821,  8874,  7847,\n",
              "        5940,  1447,   854,  2151,   892,    48,   277,   150,   112,\n",
              "          17,     0,     0,     0,     0,     0,     0,     0,     0,\n",
              "           0,     0,     0,     0,     0,     0,     0,     0,     0,\n",
              "           0,     0,     0], dtype=int16)"
            ]
          },
          "metadata": {
            "tags": []
          },
          "execution_count": 67
        }
      ]
    },
    {
      "cell_type": "code",
      "metadata": {
        "id": "OLmB2DK0HpiB",
        "colab_type": "code",
        "outputId": "ff7b590c-9b9a-4883-8c7a-617842504c62",
        "colab": {
          "base_uri": "https://localhost:8080/",
          "height": 119
        }
      },
      "source": [
        "e = d.clip(0, 1)\n",
        "e"
      ],
      "execution_count": 0,
      "outputs": [
        {
          "output_type": "execute_result",
          "data": {
            "text/plain": [
              "array([0, 0, 0, 0, 0, 0, 0, 1, 1, 1, 1, 1, 1, 1, 1, 1, 1, 1, 1, 1, 1, 1,\n",
              "       1, 1, 1, 1, 0, 0, 0, 0, 0, 0, 0, 0, 1, 1, 0, 1, 0, 0, 0, 1, 1, 0,\n",
              "       0, 0, 1, 0, 1, 1, 1, 1, 1, 1, 1, 1, 1, 1, 1, 1, 1, 1, 1, 1, 1, 1,\n",
              "       0, 0, 0, 0, 0, 0, 0, 0, 0, 1, 1, 1, 0, 1, 1, 1, 1, 1, 1, 1, 1, 1,\n",
              "       1, 1, 1, 1, 1, 1, 1, 1, 1, 1, 1, 1, 0, 0, 0, 0, 0, 0, 0, 0, 0, 0,\n",
              "       0, 0, 0, 0, 0, 0, 0, 0, 0, 0], dtype=int16)"
            ]
          },
          "metadata": {
            "tags": []
          },
          "execution_count": 68
        }
      ]
    },
    {
      "cell_type": "code",
      "metadata": {
        "id": "p2ra79qUIZl7",
        "colab_type": "code",
        "outputId": "bc4aeb26-5134-455e-a46b-697b58768b8a",
        "colab": {
          "base_uri": "https://localhost:8080/",
          "height": 265
        }
      },
      "source": [
        "plt.plot(e)\n",
        "plt.show()"
      ],
      "execution_count": 0,
      "outputs": [
        {
          "output_type": "display_data",
          "data": {
            "image/png": "[encoded data removed]",
            "text/plain": [
              "<Figure size 432x288 with 1 Axes>"
            ]
          },
          "metadata": {
            "tags": []
          }
        }
      ]
    },
    {
      "cell_type": "markdown",
      "metadata": {
        "id": "KfbiPhlhR5HZ",
        "colab_type": "text"
      },
      "source": [
        ""
      ]
    },
    {
      "cell_type": "markdown",
      "metadata": {
        "id": "QQgEEJm3Rg5M",
        "colab_type": "text"
      },
      "source": [
        "\n",
        "\n",
        "---\n",
        "\n"
      ]
    },
    {
      "cell_type": "markdown",
      "metadata": {
        "id": "1J0GjwYNMx3J",
        "colab_type": "text"
      },
      "source": [
        "# Определяем координаты центров тишины. \n",
        "Эти координаты будут использованы для разрезания аудиопотока на части - фразу делим на слова"
      ]
    },
    {
      "cell_type": "markdown",
      "metadata": {
        "id": "eqqxKxRUT4MI",
        "colab_type": "text"
      },
      "source": [
        "\n",
        "\n",
        "---\n",
        "\n",
        "\n",
        "\n",
        "---\n",
        "\n",
        "\n",
        "\n",
        "---\n",
        "\n"
      ]
    },
    {
      "cell_type": "code",
      "metadata": {
        "id": "sTfYTLi40cUC",
        "colab_type": "code",
        "colab": {}
      },
      "source": [
        "a = np.array([0, 0, 0, 0, 0, 0, 0, 0, 1, 1, 1, 1, 1, 1, 1, 1, 1, 1, 1, 1, 1, 1,\n",
        "       0, 1, 0, 1, 0, 0, 0, 0, 0, 0, 0, 0, 0, 0, 0, 0, 0, 0, 0, 0, 0, 0,\n",
        "       0, 0, 0, 0, 1, 1, 1, 1, 1, 1, 1, 1, 1, 1, 1, 1, 1, 1, 1, 0, 0, 0,\n",
        "       0, 0, 0, 0, 0, 0, 0, 0, 0, 0, 1, 0, 0, 0, 0, 1, 1, 1, 1, 1, 1, 1,\n",
        "       1, 1, 1, 1, 1, 1, 1, 0, 1, 0, 0, 0, 0, 0, 0, 0, 0, 0, 0, 0, 0, 0,\n",
        "       0, 0, 0, 0, 0, 0, 0, 0, 0, 0], int)\n",
        "\n"
      ],
      "execution_count": 0,
      "outputs": []
    },
    {
      "cell_type": "code",
      "metadata": {
        "id": "38Fb6SQHZptx",
        "colab_type": "code",
        "outputId": "0e623e90-7e3f-4f46-e90c-b9bc2c843879",
        "colab": {
          "base_uri": "https://localhost:8080/",
          "height": 119
        }
      },
      "source": [
        "a = e.copy()\n",
        "a"
      ],
      "execution_count": 0,
      "outputs": [
        {
          "output_type": "execute_result",
          "data": {
            "text/plain": [
              "array([0, 0, 0, 0, 0, 0, 0, 1, 1, 1, 1, 1, 1, 1, 1, 1, 1, 1, 1, 1, 1, 1,\n",
              "       1, 1, 1, 1, 0, 0, 0, 0, 0, 0, 0, 0, 1, 1, 0, 1, 0, 0, 0, 1, 1, 0,\n",
              "       0, 0, 1, 0, 1, 1, 1, 1, 1, 1, 1, 1, 1, 1, 1, 1, 1, 1, 1, 1, 1, 1,\n",
              "       0, 0, 0, 0, 0, 0, 0, 0, 0, 1, 1, 1, 0, 1, 1, 1, 1, 1, 1, 1, 1, 1,\n",
              "       1, 1, 1, 1, 1, 1, 1, 1, 1, 1, 1, 1, 0, 0, 0, 0, 0, 0, 0, 0, 0, 0,\n",
              "       0, 0, 0, 0, 0, 0, 0, 0, 0, 0], dtype=int16)"
            ]
          },
          "metadata": {
            "tags": []
          },
          "execution_count": 71
        }
      ]
    },
    {
      "cell_type": "code",
      "metadata": {
        "id": "K9E-bNf21PgU",
        "colab_type": "code",
        "outputId": "3f6dd782-d88c-49c8-e36d-f58f758f2955",
        "colab": {
          "base_uri": "https://localhost:8080/",
          "height": 265
        }
      },
      "source": [
        "plt.plot(a)\n",
        "plt.show()"
      ],
      "execution_count": 0,
      "outputs": [
        {
          "output_type": "display_data",
          "data": {
            "image/png": "[encoded data removed]",
            "text/plain": [
              "<Figure size 432x288 with 1 Axes>"
            ]
          },
          "metadata": {
            "tags": []
          }
        }
      ]
    },
    {
      "cell_type": "markdown",
      "metadata": {
        "id": "kJdCBLMq05Bb",
        "colab_type": "text"
      },
      "source": [
        "Решение берем отсюда: https://younglinux.info/python/task/id-range"
      ]
    },
    {
      "cell_type": "code",
      "metadata": {
        "id": "8zZnXlkS0tpe",
        "colab_type": "code",
        "outputId": "802fd7ba-547e-4cc9-ed07-1d875df5a20e",
        "colab": {
          "base_uri": "https://localhost:8080/",
          "height": 119
        }
      },
      "source": [
        "\n",
        "#def my_function(a): # задаем массив\n",
        "   \n",
        "count = 0\n",
        "max_count = 0\n",
        "index = 0\n",
        "i = 0 \n",
        "while i < len(a):\n",
        "\tif a[i] == 1:\n",
        "\t\tcount += 1\n",
        "\telse:\n",
        "\t\tif count > max_count:\n",
        "\t\t\tmax_count = count\n",
        "\t\t\tindex = i-1 # последовательность закончилась на предыдущем элементе\n",
        "\t\tcount = 0\n",
        "\ti += 1\n",
        "\n",
        "  \n",
        " \n",
        "print(\"Количество элементов: \", max_count)\n",
        "print(\"id первого элемента: \", index-max_count+1)\n",
        "print(\"id последнего элемента: \", index)\n",
        "print(\"середина\", int(round(index - max_count/2)))\n",
        "sound_center = round(index - max_count/2)\n",
        "sound_center_i = sound_center\n",
        "print(sound_center_i)\n",
        "sound_center_list = []\n",
        "sound_center_list.append(sound_center_i)\n",
        "print(sound_center_list)\n"
      ],
      "execution_count": 0,
      "outputs": [
        {
          "output_type": "stream",
          "text": [
            "Количество элементов:  21\n",
            "id первого элемента:  79\n",
            "id последнего элемента:  99\n",
            "середина 88\n",
            "88\n",
            "[88]\n"
          ],
          "name": "stdout"
        }
      ]
    },
    {
      "cell_type": "code",
      "metadata": {
        "id": "mXmBbhWS6-T0",
        "colab_type": "code",
        "outputId": "9858de30-80c0-4e69-a6ee-ec146bf6c9ae",
        "colab": {
          "base_uri": "https://localhost:8080/",
          "height": 51
        }
      },
      "source": [
        "a[index-max_count+1:index] # items start through end-1\n"
      ],
      "execution_count": 0,
      "outputs": [
        {
          "output_type": "execute_result",
          "data": {
            "text/plain": [
              "array([1, 1, 1, 1, 1, 1, 1, 1, 1, 1, 1, 1, 1, 1, 1, 1, 1, 1, 1, 1],\n",
              "      dtype=int16)"
            ]
          },
          "metadata": {
            "tags": []
          },
          "execution_count": 74
        }
      ]
    },
    {
      "cell_type": "markdown",
      "metadata": {
        "id": "eEezcIvP-8-K",
        "colab_type": "text"
      },
      "source": [
        "ОБнуляем полученное единички. ищем следущую самую длинную последовательность единичек"
      ]
    },
    {
      "cell_type": "code",
      "metadata": {
        "id": "T-9xaAUO-nAM",
        "colab_type": "code",
        "colab": {}
      },
      "source": [
        "\n",
        "a[index-max_count+1:index] = 0 #ОБнуляем полученное единички. "
      ],
      "execution_count": 0,
      "outputs": []
    },
    {
      "cell_type": "code",
      "metadata": {
        "id": "uIdKETDv_f63",
        "colab_type": "code",
        "colab": {}
      },
      "source": [
        "a1 = a\n"
      ],
      "execution_count": 0,
      "outputs": []
    },
    {
      "cell_type": "code",
      "metadata": {
        "id": "mofD_huG-16z",
        "colab_type": "code",
        "outputId": "e7691c07-adac-444e-fc63-bdc41930dc1c",
        "colab": {
          "base_uri": "https://localhost:8080/",
          "height": 265
        }
      },
      "source": [
        "plt.plot(a1)\n",
        "plt.show()"
      ],
      "execution_count": 0,
      "outputs": [
        {
          "output_type": "display_data",
          "data": {
            "image/png": "[encoded data removed]",
            "text/plain": [
              "<Figure size 432x288 with 1 Axes>"
            ]
          },
          "metadata": {
            "tags": []
          }
        }
      ]
    },
    {
      "cell_type": "code",
      "metadata": {
        "id": "FjLOQAMzCPQu",
        "colab_type": "code",
        "colab": {}
      },
      "source": [
        "a2 = a1.copy()\n",
        "a = a2"
      ],
      "execution_count": 0,
      "outputs": []
    },
    {
      "cell_type": "code",
      "metadata": {
        "id": "tfYLPrWzAHPi",
        "colab_type": "code",
        "outputId": "4a7fad08-cb45-4017-8674-73e3fdcf8390",
        "colab": {
          "base_uri": "https://localhost:8080/",
          "height": 119
        }
      },
      "source": [
        "count = 0\n",
        "max_count = 0\n",
        "index = 0\n",
        "i = 0 \n",
        "while i < len(a):\n",
        "\tif a[i] == 1:\n",
        "\t\tcount += 1\n",
        "\telse:\n",
        "\t\tif count > max_count:\n",
        "\t\t\tmax_count = count\n",
        "\t\t\tindex = i-1 # последовательность закончилась на предыдущем элементе\n",
        "\t\tcount = 0\n",
        "\ti += 1\n",
        " \n",
        "print(\"Количество элементов: \", max_count)\n",
        "print(\"id первого элемента: \", index-max_count+1)\n",
        "print(\"id последнего элемента: \", index)\n",
        "print(\"середина\", int(round(index - max_count/2)))\n",
        "sound_center = round(index - max_count/2)\n",
        "sound_center_i = sound_center\n",
        "print(sound_center_i)\n",
        "sound_center_list.append(sound_center_i)\n",
        "print(sound_center_list)\n"
      ],
      "execution_count": 0,
      "outputs": [
        {
          "output_type": "stream",
          "text": [
            "Количество элементов:  19\n",
            "id первого элемента:  7\n",
            "id последнего элемента:  25\n",
            "середина 16\n",
            "16\n",
            "[88, 16]\n"
          ],
          "name": "stdout"
        }
      ]
    },
    {
      "cell_type": "code",
      "metadata": {
        "id": "9VDo0OeHCw0p",
        "colab_type": "code",
        "colab": {}
      },
      "source": [
        "a[index-max_count+1:index] = 0 #ОБнуляем полученное единички. "
      ],
      "execution_count": 0,
      "outputs": []
    },
    {
      "cell_type": "code",
      "metadata": {
        "id": "tkvMs9dRC6CL",
        "colab_type": "code",
        "outputId": "8b1f44e1-7a1a-406c-abb1-53b953a2e38b",
        "colab": {
          "base_uri": "https://localhost:8080/",
          "height": 265
        }
      },
      "source": [
        "plt.plot(a)\n",
        "plt.show()"
      ],
      "execution_count": 0,
      "outputs": [
        {
          "output_type": "display_data",
          "data": {
            "image/png": "[encoded data removed]",
            "text/plain": [
              "<Figure size 432x288 with 1 Axes>"
            ]
          },
          "metadata": {
            "tags": []
          }
        }
      ]
    },
    {
      "cell_type": "code",
      "metadata": {
        "id": "gyMrWc2SDWZT",
        "colab_type": "code",
        "colab": {}
      },
      "source": [
        "# делаем копию и запускаем снова\n",
        "a3 = a.copy()\n",
        "a = a3"
      ],
      "execution_count": 0,
      "outputs": []
    },
    {
      "cell_type": "code",
      "metadata": {
        "id": "lPl0PEnADtGo",
        "colab_type": "code",
        "outputId": "1cb3d078-b7e5-464e-c18f-c7aaf24fc793",
        "colab": {
          "base_uri": "https://localhost:8080/",
          "height": 119
        }
      },
      "source": [
        "count = 0\n",
        "max_count = 0\n",
        "index = 0\n",
        "i = 0 \n",
        "while i < len(a):\n",
        "\tif a[i] == 1:\n",
        "\t\tcount += 1\n",
        "\telse:\n",
        "\t\tif count > max_count:\n",
        "\t\t\tmax_count = count\n",
        "\t\t\tindex = i-1 # последовательность закончилась на предыдущем элементе\n",
        "\t\tcount = 0\n",
        "\ti += 1\n",
        " \n",
        "print(\"Количество элементов: \", max_count)\n",
        "print(\"id первого элемента: \", index-max_count+1)\n",
        "print(\"id последнего элемента: \", index)\n",
        "print(\"середина\", int(round(index - max_count/2)))\n",
        "sound_center = round(index - max_count/2)\n",
        "sound_center_i = sound_center\n",
        "print(sound_center_i)\n",
        "sound_center_list.append(sound_center_i)\n",
        "print(sound_center_list)"
      ],
      "execution_count": 0,
      "outputs": [
        {
          "output_type": "stream",
          "text": [
            "Количество элементов:  18\n",
            "id первого элемента:  48\n",
            "id последнего элемента:  65\n",
            "середина 56\n",
            "56\n",
            "[88, 16, 56]\n"
          ],
          "name": "stdout"
        }
      ]
    },
    {
      "cell_type": "code",
      "metadata": {
        "id": "Ztac7uWuEs-r",
        "colab_type": "code",
        "outputId": "2a198c36-dc90-49f2-f04e-4330c1fb4756",
        "colab": {
          "base_uri": "https://localhost:8080/",
          "height": 265
        }
      },
      "source": [
        "a[index-max_count+1:index] = 0 #ОБнуляем полученное единички.\n",
        "# делаем копию и запускаем снова\n",
        "a4 = a.copy()\n",
        "a = a4\n",
        "plt.plot(a)\n",
        "plt.show()"
      ],
      "execution_count": 0,
      "outputs": [
        {
          "output_type": "display_data",
          "data": {
            "image/png": "[encoded data removed]",
            "text/plain": [
              "<Figure size 432x288 with 1 Axes>"
            ]
          },
          "metadata": {
            "tags": []
          }
        }
      ]
    },
    {
      "cell_type": "code",
      "metadata": {
        "id": "OupXP6arFA2Y",
        "colab_type": "code",
        "outputId": "8e1d9f33-5d5a-48e3-8f12-c88b205bf58e",
        "colab": {
          "base_uri": "https://localhost:8080/",
          "height": 85
        }
      },
      "source": [
        "count = 0\n",
        "max_count = 0\n",
        "index = 0\n",
        "i = 0 \n",
        "while i < len(a):\n",
        "\tif a[i] == 1:\n",
        "\t\tcount += 1\n",
        "\telse:\n",
        "\t\tif count > max_count:\n",
        "\t\t\tmax_count = count\n",
        "\t\t\tindex = i-1 # последовательность закончилась на предыдущем элементе\n",
        "\t\tcount = 0\n",
        "\ti += 1\n",
        " \n",
        "print(\"Количество элементов: \", max_count)\n",
        "print(\"id первого элемента: \", index-max_count+1)\n",
        "print(\"id последнего элемента: \", index)\n",
        "print(\"середина\", int(round(index - max_count/2)))"
      ],
      "execution_count": 0,
      "outputs": [
        {
          "output_type": "stream",
          "text": [
            "Количество элементов:  3\n",
            "id первого элемента:  75\n",
            "id последнего элемента:  77\n",
            "середина 76\n"
          ],
          "name": "stdout"
        }
      ]
    },
    {
      "cell_type": "markdown",
      "metadata": {
        "id": "F3Q43fOgEDuG",
        "colab_type": "text"
      },
      "source": [
        "у нас периоды звука не сильно отличаются друг от друга.\n",
        "\n",
        "Длина звука - это в нашем случае количество элементов.\n",
        "Звуки 1, 2, 3 имеют 14 индексов (количество элементов), а звук 4 - 1 элемент. \n",
        "Это означает, что более или менее длиные звуки кончились. \n",
        "Можем воспользоваться этим как сигналом для остановки поиска новых слов во фразе.\n",
        "Если отношение (количество элементов для первого звука / количеств элементов следующего звука) > 2, то функцию поиска середины звука останавливаем"
      ]
    },
    {
      "cell_type": "markdown",
      "metadata": {
        "id": "GzuN4HX4FpaV",
        "colab_type": "text"
      },
      "source": [
        "ИТОГО получили три индекса - центры звуков. \n",
        "C1 = середина 54.5\n",
        "C2 = середина 14.0\n",
        "C3 = середина 87.0\n",
        "\n",
        "Будем искать линии разрезов\n",
        "Первый разрез T0 = 0\n"
      ]
    },
    {
      "cell_type": "code",
      "metadata": {
        "id": "fnphYYv-EL-k",
        "colab_type": "code",
        "outputId": "03a2a4c1-d869-4064-8b6e-1db2fa0e233d",
        "colab": {
          "base_uri": "https://localhost:8080/",
          "height": 68
        }
      },
      "source": [
        "C1 = 54 # взято для примера, обработка файла 'seg_no_bed_bird.wav'\n",
        "C2 = 14\n",
        "C3 = 87\n",
        "\n",
        "Center_list  = sound_center_list\n",
        "print(Center_list)\n",
        "\n",
        "# ранжируем список центров звука по возростанию\n",
        "Center_list.sort()\n",
        "b = sorted(Center_list)\n",
        "print(b)\n",
        "print(range(len(b)))\n",
        "\n",
        "T0 = 0\n",
        "T1 = b[0]\n",
        "T2 = b[1]\n",
        "T3 = b[2]\n"
      ],
      "execution_count": 0,
      "outputs": [
        {
          "output_type": "stream",
          "text": [
            "[88, 16, 56]\n",
            "[16, 56, 88]\n",
            "range(0, 3)\n"
          ],
          "name": "stdout"
        }
      ]
    },
    {
      "cell_type": "markdown",
      "metadata": {
        "id": "T9wKHyIUPUhY",
        "colab_type": "text"
      },
      "source": [
        "Вычисляем точки разреза:"
      ]
    },
    {
      "cell_type": "code",
      "metadata": {
        "id": "pSWBD-iK5OH2",
        "colab_type": "code",
        "outputId": "9433eae8-5c75-4276-f73c-93122c261b3f",
        "colab": {
          "base_uri": "https://localhost:8080/",
          "height": 119
        }
      },
      "source": [
        "# для фразы из трех слов - это две точки, для фразы из трех слов - две.\n",
        "# для файла 'seg_no_bed_bird.wav' - две точки.\n",
        "\n",
        "S1 = round(T0 + (T1-T0)/2)\n",
        "S1 = round(T1 + (T2-T1)/2)\n",
        "S2 = round(T2 + (T3-T2)/2)\n",
        "\n",
        "print(S1 )\n",
        "print(S2)\n",
        "\n",
        "Split_list = [S1, S2]\n",
        "print(Split_list) \n",
        "\n",
        "t0 = 0\n",
        "t1 = Split_list[0]\n",
        "t2 = Split_list[1]\n",
        "print(t0, t1, t2)\n",
        "print(t1)\n",
        "print\n",
        "\n",
        "#34,70"
      ],
      "execution_count": 0,
      "outputs": [
        {
          "output_type": "stream",
          "text": [
            "36\n",
            "72\n",
            "[36, 72]\n",
            "0 36 72\n",
            "36\n"
          ],
          "name": "stdout"
        },
        {
          "output_type": "execute_result",
          "data": {
            "text/plain": [
              "<function print>"
            ]
          },
          "metadata": {
            "tags": []
          },
          "execution_count": 87
        }
      ]
    },
    {
      "cell_type": "code",
      "metadata": {
        "id": "ssEvaaxrQzN1",
        "colab_type": "code",
        "colab": {}
      },
      "source": [
        "sound = np.array([     0,      0,      0,      0,      0,      0,      0,    117,\n",
        "          861,   -268,    509,   3850,   1405,   1119,  -2602,    213,\n",
        "         1192,  -3022,   -337,  -1292,  -5351,   1128,    123,   1034,\n",
        "         -167,   -309,     22,      7,      0,      3,      0,     -1,\n",
        "            0,    -30,   -128,     63,     -5,     92,      8,    -35,\n",
        "           11,     57,    -62,     -3,     47,     23,    101,     40,\n",
        "        -1149,  -5153,   7368,  -9440, -13747,  -4643,   1609,   4278,\n",
        "          529,    843,   2560,  -1500,   2463,    598,    264,    122,\n",
        "          146,   -102,      0,      0,      0,      0,      0,      0,\n",
        "            0,    -46,     28,     65,    236,     58,    -26,    133,\n",
        "         -123,   1131,   3820,    237,  -3607,   -491,   3222,   3871,\n",
        "        -8924,  -7897,   5990,  -1497,    904,   2201,    942,     98,\n",
        "         -327,    200,   -162,    -67,     -9,      0,      0,      0,\n",
        "            0,      0,      0,      0,      0,      0,      0,      0,\n",
        "            0,      0,      0,      0,      0,      0,      0,      0], int)"
      ],
      "execution_count": 0,
      "outputs": []
    },
    {
      "cell_type": "code",
      "metadata": {
        "id": "tQbI2sK4LZjz",
        "colab_type": "code",
        "outputId": "cf2b9503-59cd-4b1b-e2ea-96afba048ae3",
        "colab": {
          "base_uri": "https://localhost:8080/",
          "height": 265
        }
      },
      "source": [
        "plt.plot(sound)\n",
        "plt.show()"
      ],
      "execution_count": 0,
      "outputs": [
        {
          "output_type": "display_data",
          "data": {
            "image/png": "[encoded data removed]",
            "text/plain": [
              "<Figure size 432x288 with 1 Axes>"
            ]
          },
          "metadata": {
            "tags": []
          }
        }
      ]
    },
    {
      "cell_type": "code",
      "metadata": {
        "id": "Omrz4gAKKa_B",
        "colab_type": "code",
        "outputId": "f6e55276-d2e6-4b14-97f5-528201d401f3",
        "colab": {
          "base_uri": "https://localhost:8080/",
          "height": 85
        }
      },
      "source": [
        "sound1 = sound[:S1]\n",
        "sound1"
      ],
      "execution_count": 0,
      "outputs": [
        {
          "output_type": "execute_result",
          "data": {
            "text/plain": [
              "array([    0,     0,     0,     0,     0,     0,     0,   117,   861,\n",
              "        -268,   509,  3850,  1405,  1119, -2602,   213,  1192, -3022,\n",
              "        -337, -1292, -5351,  1128,   123,  1034,  -167,  -309,    22,\n",
              "           7,     0,     3,     0,    -1,     0,   -30,  -128,    63])"
            ]
          },
          "metadata": {
            "tags": []
          },
          "execution_count": 90
        }
      ]
    },
    {
      "cell_type": "code",
      "metadata": {
        "id": "J0OyvQA4LmTe",
        "colab_type": "code",
        "outputId": "9c8e2a57-b8d1-4a96-fa11-b23979acbef9",
        "colab": {
          "base_uri": "https://localhost:8080/",
          "height": 265
        }
      },
      "source": [
        "plt.plot(sound1)\n",
        "plt.show()"
      ],
      "execution_count": 0,
      "outputs": [
        {
          "output_type": "display_data",
          "data": {
            "image/png": "[encoded data removed]",
            "text/plain": [
              "<Figure size 432x288 with 1 Axes>"
            ]
          },
          "metadata": {
            "tags": []
          }
        }
      ]
    },
    {
      "cell_type": "code",
      "metadata": {
        "id": "ACyoAg7vKyy8",
        "colab_type": "code",
        "colab": {}
      },
      "source": [
        "sound2 = sound[S1:S2]"
      ],
      "execution_count": 0,
      "outputs": []
    },
    {
      "cell_type": "code",
      "metadata": {
        "id": "5UPYjK1pMHk2",
        "colab_type": "code",
        "outputId": "5f6cbeab-9c65-426a-97a7-cd1eb7961eda",
        "colab": {
          "base_uri": "https://localhost:8080/",
          "height": 265
        }
      },
      "source": [
        "plt.plot(sound2)\n",
        "plt.show()"
      ],
      "execution_count": 0,
      "outputs": [
        {
          "output_type": "display_data",
          "data": {
            "image/png": "[encoded data removed]",
            "text/plain": [
              "<Figure size 432x288 with 1 Axes>"
            ]
          },
          "metadata": {
            "tags": []
          }
        }
      ]
    },
    {
      "cell_type": "code",
      "metadata": {
        "id": "GaYo1QVBK7ur",
        "colab_type": "code",
        "colab": {}
      },
      "source": [
        "sound3 = sound[S2:]"
      ],
      "execution_count": 0,
      "outputs": []
    },
    {
      "cell_type": "code",
      "metadata": {
        "id": "DdfKHocqLxaT",
        "colab_type": "code",
        "outputId": "c4ebea44-1b71-41c3-8394-28b2dddf4743",
        "colab": {
          "base_uri": "https://localhost:8080/",
          "height": 265
        }
      },
      "source": [
        "plt.plot(sound3)\n",
        "plt.show()"
      ],
      "execution_count": 0,
      "outputs": [
        {
          "output_type": "display_data",
          "data": {
            "image/png": "[encoded data removed]",
            "text/plain": [
              "<Figure size 432x288 with 1 Axes>"
            ]
          },
          "metadata": {
            "tags": []
          }
        }
      ]
    },
    {
      "cell_type": "markdown",
      "metadata": {
        "id": "CpR-5n-OyVS8",
        "colab_type": "text"
      },
      "source": [
        "\n",
        "\n",
        "---\n",
        "\n"
      ]
    },
    {
      "cell_type": "markdown",
      "metadata": {
        "id": "gcbumCsfyZ0c",
        "colab_type": "text"
      },
      "source": [
        "# Продолжение на ноутбуке \"Определение тишины\". С его помощью будут нарезаться фразы для скармливания модели."
      ]
    },
    {
      "cell_type": "markdown",
      "metadata": {
        "id": "gXQn1iT8Mb7w",
        "colab_type": "text"
      },
      "source": [
        "\n",
        "\n",
        "---\n",
        "\n",
        "\n",
        "\n",
        "---\n",
        "\n"
      ]
    },
    {
      "cell_type": "markdown",
      "metadata": {
        "id": "URDyg2YtboHP",
        "colab_type": "text"
      },
      "source": [
        "\n",
        "\n",
        "---\n",
        "\n"
      ]
    },
    {
      "cell_type": "markdown",
      "metadata": {
        "id": "P8iE_dYzbuo9",
        "colab_type": "text"
      },
      "source": [
        "# Переносим точки разрыва на полноценный аудиопоток \n",
        "Директорий /content/Simple-Audio-Recognition/Audio_streams/"
      ]
    },
    {
      "cell_type": "code",
      "metadata": {
        "id": "ngYXk_aTf5zA",
        "colab_type": "code",
        "colab": {}
      },
      "source": [
        "import os\n",
        "import numpy as np\n",
        "import keras\n",
        "import math\n",
        "from keras.models import load_model\n",
        "from scipy.io import wavfile\n",
        "from scipy.fftpack import dct\n",
        "from scipy.io import wavfile\n",
        "import scipy.io.wavfile\n",
        "import matplotlib.pyplot as plt"
      ],
      "execution_count": 0,
      "outputs": []
    },
    {
      "cell_type": "code",
      "metadata": {
        "id": "1j9j8YbrAw1j",
        "colab_type": "code",
        "outputId": "b32b8709-d4d3-41f3-aa43-0b05ad90284e",
        "colab": {
          "base_uri": "https://localhost:8080/",
          "height": 68
        }
      },
      "source": [
        "#__________для ПОТОКА - файлы для директория  Seg_audio_streams\n",
        "#sample_file ='no_bed_bird.wav'\n",
        "sample_file ='no_bed_bird.wav'\n",
        "dir_path = '/content/Simple-Audio-Recognition/Audio_streams/' #  откуда файл берется\n",
        "\n",
        "#создаем директорий для фразы\n",
        "dir_path_mod = '/content/Simple-Audio-Recognition/Words_from_streams/' + sample_file[:-4]\n",
        "#dir_path_mod = '/content/Simple-Audio-Recognition/Words_from_streams/' + sample_file\n",
        "\n",
        "if not os.path.exists('/content/Simple-Audio-Recognition/Words_from_streams/' + sample_file[:-4]): #Если пути не существует создаем его\n",
        "   dir_path_mod = os.makedirs('/content/Simple-Audio-Recognition/Words_from_streams/' + sample_file[:-4])\n",
        "   dir_path_mod = '/content/Simple-Audio-Recognition/Words_from_streams/' + sample_file[:-4]\n",
        "print(sample_file)\n",
        "print(dir_path)\n",
        "print(dir_path_mod)\n"
      ],
      "execution_count": 0,
      "outputs": [
        {
          "output_type": "stream",
          "text": [
            "no_bed_bird.wav\n",
            "/content/Simple-Audio-Recognition/Audio_streams/\n",
            "/content/Simple-Audio-Recognition/Words_from_streams/no_bed_bird\n"
          ],
          "name": "stdout"
        }
      ]
    },
    {
      "cell_type": "code",
      "metadata": {
        "id": "LrdxOI2gii39",
        "colab_type": "code",
        "outputId": "b4f8e109-1bfa-497b-823b-3cd82ace3eef",
        "colab": {
          "base_uri": "https://localhost:8080/",
          "height": 455
        }
      },
      "source": [
        "k0 = 0\n",
        "k1 = 1000*34/40\n",
        "k2 = 1000*70/40\n",
        "\n",
        "\n",
        "#+++++++++++++++++++11111111111111111111111111111111111\n",
        "start = 0\n",
        "end = k1\n",
        "x = '1_'\n",
        "\n",
        "from pydub import silence, AudioSegment\n",
        "\n",
        "audio = AudioSegment.from_file(dir_path + sample_file, format=\"wav\")\n",
        "print(audio)\n",
        "\n",
        "segment = AudioSegment.from_wav(dir_path + sample_file)[start:end]  \n",
        "modified_file = x +  sample_file  \n",
        "segment.export(os.path.join(dir_path_mod, modified_file), format='wav')\n",
        "\n",
        "import wave\n",
        "sound = dir_path_mod + '/' + modified_file\n",
        "\n",
        "\n",
        "obj = wave.open(sound,'r')\n",
        "print( \"Number of channels\",obj.getnchannels())\n",
        "print ( \"Sample width\",obj.getsampwidth())\n",
        "print ( \"Frame rate.\",obj.getframerate())\n",
        "print (\"Number of frames\",obj.getnframes())\n",
        "print ( \"parameters:\",obj.getparams())\n",
        "obj.close()\n",
        "rate, data = scipy.io.wavfile.read(sound)\n",
        "d = obj.getnframes()/obj.getframerate()\n",
        "print(sound)\n",
        "print(rate)\n",
        "print(data)\n",
        "print(\"sound durantion = \", d)\n",
        "plt.plot(data)\n",
        "plt.show()\n",
        "\n",
        "\n"
      ],
      "execution_count": 0,
      "outputs": [
        {
          "output_type": "stream",
          "text": [
            "<pydub.audio_segment.AudioSegment object at 0x7fd497f44dd8>\n",
            "Number of channels 1\n",
            "Sample width 2\n",
            "Frame rate. 16000\n",
            "Number of frames 13600\n",
            "parameters: _wave_params(nchannels=1, sampwidth=2, framerate=16000, nframes=13600, comptype='NONE', compname='not compressed')\n",
            "/content/Simple-Audio-Recognition/Words_from_streams/no_bed_bird/1_no_bed_bird.wav\n",
            "16000\n",
            "[   0    0    0 ... -104 -123 -122]\n",
            "sound durantion =  0.85\n"
          ],
          "name": "stdout"
        },
        {
          "output_type": "display_data",
          "data": {
            "image/png": "[encoded data removed]",
            "text/plain": [
              "<Figure size 432x288 with 1 Axes>"
            ]
          },
          "metadata": {
            "tags": []
          }
        }
      ]
    },
    {
      "cell_type": "code",
      "metadata": {
        "id": "7K96M36jPPte",
        "colab_type": "code",
        "outputId": "570fe61f-ccb8-431e-f8a4-0134158a84d8",
        "colab": {
          "base_uri": "https://localhost:8080/",
          "height": 873
        }
      },
      "source": [
        "\n",
        "#+++++++++++++++++++22222222222222222222222222\n",
        "start = k1\n",
        "end = k2\n",
        "x = '2_'\n",
        "\n",
        "from pydub import silence, AudioSegment\n",
        "audio = AudioSegment.from_file(dir_path + sample_file, format=\"wav\")\n",
        "print(audio)\n",
        "segment = AudioSegment.from_wav(dir_path + sample_file)[start:end]  \n",
        "modified_file = x +  sample_file  \n",
        "segment.export(os.path.join(dir_path_mod, modified_file), format='wav')\n",
        "\n",
        "import wave\n",
        "sound = dir_path_mod + '/' + modified_file\n",
        "\n",
        "obj = wave.open(sound,'r')\n",
        "print( \"Number of channels\",obj.getnchannels())\n",
        "print ( \"Sample width\",obj.getsampwidth())\n",
        "print ( \"Frame rate.\",obj.getframerate())\n",
        "print (\"Number of frames\",obj.getnframes())\n",
        "print ( \"parameters:\",obj.getparams())\n",
        "obj.close()\n",
        "rate, data = scipy.io.wavfile.read(sound)\n",
        "d = obj.getnframes()/obj.getframerate()\n",
        "print(sound)\n",
        "print(rate)\n",
        "print(data)\n",
        "print(\"sound durantion = \", d)\n",
        "plt.plot(data)\n",
        "plt.show()\n",
        "\n",
        "#+++++++++++++++++++3333333333333333333333333333\n",
        "k3 = 3000\n",
        "start = k2\n",
        "end = k3\n",
        "x = '3_'\n",
        "\n",
        "from pydub import silence, AudioSegment\n",
        "audio = AudioSegment.from_file(dir_path + sample_file, format=\"wav\")\n",
        "print(audio)\n",
        "segment = AudioSegment.from_wav(dir_path + sample_file)[start:end]  \n",
        "modified_file = x +  sample_file  \n",
        "segment.export(os.path.join(dir_path_mod, modified_file), format='wav')\n",
        "\n",
        "import wave\n",
        "sound = dir_path_mod + '/' + modified_file\n",
        "\n",
        "obj = wave.open(sound,'r')\n",
        "print( \"Number of channels\",obj.getnchannels())\n",
        "print ( \"Sample width\",obj.getsampwidth())\n",
        "print ( \"Frame rate.\",obj.getframerate())\n",
        "print (\"Number of frames\",obj.getnframes())\n",
        "print ( \"parameters:\",obj.getparams())\n",
        "obj.close()\n",
        "rate, data = scipy.io.wavfile.read(sound)\n",
        "d = obj.getnframes()/obj.getframerate()\n",
        "print(sound)\n",
        "print(rate)\n",
        "print(data)\n",
        "print(\"sound durantion = \", d)\n",
        "plt.plot(data)\n",
        "plt.show()\n"
      ],
      "execution_count": 0,
      "outputs": [
        {
          "output_type": "stream",
          "text": [
            "<pydub.audio_segment.AudioSegment object at 0x7fd497f03fd0>\n",
            "Number of channels 1\n",
            "Sample width 2\n",
            "Frame rate. 16000\n",
            "Number of frames 14400\n",
            "parameters: _wave_params(nchannels=1, sampwidth=2, framerate=16000, nframes=14400, comptype='NONE', compname='not compressed')\n",
            "/content/Simple-Audio-Recognition/Words_from_streams/no_bed_bird/2_no_bed_bird.wav\n",
            "16000\n",
            "[-128 -138 -128 ...    0    0    0]\n",
            "sound durantion =  0.9\n"
          ],
          "name": "stdout"
        },
        {
          "output_type": "display_data",
          "data": {
            "image/png": "[encoded data removed]",
            "text/plain": [
              "<Figure size 432x288 with 1 Axes>"
            ]
          },
          "metadata": {
            "tags": []
          }
        },
        {
          "output_type": "stream",
          "text": [
            "<pydub.audio_segment.AudioSegment object at 0x7fd497fa69b0>\n",
            "Number of channels 1\n",
            "Sample width 2\n",
            "Frame rate. 16000\n",
            "Number of frames 12144\n",
            "parameters: _wave_params(nchannels=1, sampwidth=2, framerate=16000, nframes=12144, comptype='NONE', compname='not compressed')\n",
            "/content/Simple-Audio-Recognition/Words_from_streams/no_bed_bird/3_no_bed_bird.wav\n",
            "16000\n",
            "[  0   0   0 ... -19   2   0]\n",
            "sound durantion =  0.759\n"
          ],
          "name": "stdout"
        },
        {
          "output_type": "display_data",
          "data": {
            "image/png": "[encoded data removed]",
            "text/plain": [
              "<Figure size 432x288 with 1 Axes>"
            ]
          },
          "metadata": {
            "tags": []
          }
        }
      ]
    },
    {
      "cell_type": "markdown",
      "metadata": {
        "colab_type": "text",
        "id": "ekepM8r_qDEz"
      },
      "source": [
        "В результате:\n",
        "1. Создали директорий по названию фразы (/content/Simple-Audio-Recognition/Words_from_streams/no_bed_bird/)\n",
        "2. Разделили первоначальную фразу (неотформатированную) на части. Части поместили в директорий (/content/Simple-Audio-Recognition/Words_from_streams/no_bed_bird/1_no_bed_bird.wav + 2_no_bed_bird.wav +3_no_bed_bird.wav).\n",
        "3. Эти полученные слова - сырые. у них нестандартная длина и dataframe может быть не равным 16000. Поэтому перед тем, как скармливать их модели, слова нужно заново обработать. \n",
        "4. Обрабатываем слова вырезанные из фразы ноутбуком Директорий of Audio_Preparation.ipynb.  Он обрабатывает все файлы в директории. Сохраняем обработанные файлы в этом же директории.  "
      ]
    },
    {
      "cell_type": "markdown",
      "metadata": {
        "colab_type": "text",
        "id": "L45ha1KNqDE2"
      },
      "source": [
        "\n",
        "\n",
        "---\n",
        "\n",
        "\n",
        "\n",
        "---\n",
        "\n"
      ]
    },
    {
      "cell_type": "markdown",
      "metadata": {
        "id": "6UKA-t4QbmHg",
        "colab_type": "text"
      },
      "source": [
        ""
      ]
    },
    {
      "cell_type": "markdown",
      "metadata": {
        "colab_type": "text",
        "id": "1ADV2RqxlT_7"
      },
      "source": [
        "\n",
        "\n",
        "---\n",
        "\n",
        "\n",
        "\n",
        "---\n",
        "\n"
      ]
    }
  ]
}