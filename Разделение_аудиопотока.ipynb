{
  "nbformat": 4,
  "nbformat_minor": 0,
  "metadata": {
    "colab": {
      "name": "Разделение_аудиопотока.ipynb",
      "provenance": [],
      "collapsed_sections": []
    },
    "kernelspec": {
      "name": "python3",
      "display_name": "Python 3"
    }
  },
  "cells": [
    {
      "cell_type": "code",
      "metadata": {
        "id": "zxrPmC77tci-",
        "colab_type": "code",
        "colab": {}
      },
      "source": [
        ""
      ],
      "execution_count": 0,
      "outputs": []
    },
    {
      "cell_type": "code",
      "metadata": {
        "id": "a-Hi1g1Wjvs-",
        "colab_type": "code",
        "colab": {}
      },
      "source": [
        "# перезагрузить ноутбук\n",
        "!kill -9 -1"
      ],
      "execution_count": 0,
      "outputs": []
    },
    {
      "cell_type": "markdown",
      "metadata": {
        "id": "BdZgPBF7bpn5",
        "colab_type": "text"
      },
      "source": [
        "# Разделение аудиопотока (фразы) на отдельные слова "
      ]
    },
    {
      "cell_type": "markdown",
      "metadata": {
        "id": "mLICJgMEcOZg",
        "colab_type": "text"
      },
      "source": [
        "Копирование файлов с Git на локальный диск виртуальной машины - вставка ссылки с гитхаба: "
      ]
    },
    {
      "cell_type": "code",
      "metadata": {
        "id": "wA7AhHk1kA_Z",
        "colab_type": "code",
        "outputId": "5dfa2114-ad06-4c73-908d-d8dfa2f7b41a",
        "colab": {
          "base_uri": "https://localhost:8080/",
          "height": 34
        }
      },
      "source": [
        "!git clone https://github.com/smartsinovich/Simple-Audio-Recognition.git"
      ],
      "execution_count": 2,
      "outputs": [
        {
          "output_type": "stream",
          "text": [
            "fatal: destination path 'Simple-Audio-Recognition' already exists and is not an empty directory.\n"
          ],
          "name": "stdout"
        }
      ]
    },
    {
      "cell_type": "code",
      "metadata": {
        "id": "VjCEqpJnkMg_",
        "colab_type": "code",
        "outputId": "7e83f644-3ade-4dbf-e79f-ae7f9235e1db",
        "colab": {
          "base_uri": "https://localhost:8080/",
          "height": 139
        }
      },
      "source": [
        "!pip install soundfile"
      ],
      "execution_count": 3,
      "outputs": [
        {
          "output_type": "stream",
          "text": [
            "Collecting soundfile\n",
            "  Downloading https://files.pythonhosted.org/packages/eb/f2/3cbbbf3b96fb9fa91582c438b574cff3f45b29c772f94c400e2c99ef5db9/SoundFile-0.10.3.post1-py2.py3-none-any.whl\n",
            "Requirement already satisfied: cffi>=1.0 in /usr/local/lib/python3.6/dist-packages (from soundfile) (1.14.0)\n",
            "Requirement already satisfied: pycparser in /usr/local/lib/python3.6/dist-packages (from cffi>=1.0->soundfile) (2.19)\n",
            "Installing collected packages: soundfile\n",
            "Successfully installed soundfile-0.10.3.post1\n"
          ],
          "name": "stdout"
        }
      ]
    },
    {
      "cell_type": "code",
      "metadata": {
        "id": "f4rGWiaWkUs1",
        "colab_type": "code",
        "outputId": "703fdb51-e686-4674-875f-08db1904e5c8",
        "colab": {
          "base_uri": "https://localhost:8080/",
          "height": 105
        }
      },
      "source": [
        "!pip install pydub"
      ],
      "execution_count": 4,
      "outputs": [
        {
          "output_type": "stream",
          "text": [
            "Collecting pydub\n",
            "  Downloading https://files.pythonhosted.org/packages/79/db/eaf620b73a1eec3c8c6f8f5b0b236a50f9da88ad57802154b7ba7664d0b8/pydub-0.23.1-py2.py3-none-any.whl\n",
            "Installing collected packages: pydub\n",
            "Successfully installed pydub-0.23.1\n"
          ],
          "name": "stdout"
        }
      ]
    },
    {
      "cell_type": "markdown",
      "metadata": {
        "id": "DqUGTWaJkW4I",
        "colab_type": "text"
      },
      "source": [
        "\n",
        "\n",
        "---\n",
        "\n"
      ]
    },
    {
      "cell_type": "code",
      "metadata": {
        "id": "2vrHYe9fV3wz",
        "colab_type": "code",
        "colab": {}
      },
      "source": [
        "import numpy as np\n",
        "import random\n",
        "import itertools\n",
        "import librosa\n",
        "import IPython.display as ipd\n",
        "import matplotlib.pyplot as plt\n",
        "\n",
        "%matplotlib inline\n",
        "import soundfile as sf\n",
        "from scipy.io import wavfile\n",
        "import scipy.io.wavfile\n",
        "\n",
        "import numpy as np\n",
        "import random\n",
        "import itertools\n",
        "import librosa\n",
        "import IPython.display as ipd\n",
        "import matplotlib.pyplot as plt\n",
        "\n",
        "%matplotlib inline\n",
        "\n",
        "import soundfile as sf\n",
        "from scipy.io import wavfile\n",
        "import scipy.io.wavfile\n",
        "import matplotlib.pyplot as plt\n"
      ],
      "execution_count": 0,
      "outputs": []
    },
    {
      "cell_type": "markdown",
      "metadata": {
        "id": "HrG0VR-OS6BK",
        "colab_type": "text"
      },
      "source": [
        "\n",
        "\n",
        "Загружаем файл аудиопотока для дальнейшей обработки из директория Seg_audio_streams\n",
        "\n",
        "Это файл с сильно уменьшенным количеством данных. Он нужен только для определения точек разреза.\n",
        "\n",
        "Также загружаем из директория Audio_streams оригинальную (необработанную фразу) и путь к ней.  Ее будем резать по определенным точкам разреза. "
      ]
    },
    {
      "cell_type": "code",
      "metadata": {
        "id": "UGcy7lRsYzu2",
        "colab_type": "code",
        "outputId": "faa4915a-0287-4d46-f4a2-1a03085d08d0",
        "colab": {
          "base_uri": "https://localhost:8080/",
          "height": 503
        }
      },
      "source": [
        "#__________- файлы из директория  Seg_audio_streams. нужны для построения разрезания фразы на упрощенном аудиопотоке\n",
        "\n",
        "segmented_file = '/content/Simple-Audio-Recognition/Seg_audio_streams/seg_bed_bird_right.wav'\n",
        "#segmented_file = '/content/Simple-Audio-Recognition/Seg_audio_streams/seg_no_bed_bird.wav'\n",
        "\n",
        "#_____________ оригинальная фраза для разрезания и откуда берется фраза для разрезания\n",
        "sample_file ='bed_bird_right.wav'\n",
        "dir_path = '/content/Simple-Audio-Recognition/Audio_streams/' #  откуда берется оригинальная фраза\n",
        "\n",
        "\n",
        "\n",
        "print(segmented_file)\n",
        "f = sf.SoundFile(segmented_file)\n",
        "print('samples = {}'.format(len(f)), '  sample rate = {}'.format(f.samplerate), '  seconds = {}'.format(len(f) / f.samplerate))\n",
        "rate, data = scipy.io.wavfile.read(segmented_file)\n",
        "print(rate, data)\n",
        "plt.plot(data)\n",
        "plt.show()"
      ],
      "execution_count": 62,
      "outputs": [
        {
          "output_type": "stream",
          "text": [
            "/content/Simple-Audio-Recognition/Seg_audio_streams/seg_bed_bird_right.wav\n",
            "samples = 120   sample rate = 40   seconds = 3.0\n",
            "40 [     0     -8      0      0      0      0      1      0     -8  -6978\n",
            "   1495  -8190 -11298  -1186   -206   2408   3879    456    478   -377\n",
            "    -38    -83      0      8      0      0     -4      0      0      0\n",
            "      0      0      0      0      0      0      0      0      0      0\n",
            "      0      0      1     -5      0      4    -13     -9      2     -2\n",
            "     26   2486  -6386   7039   7189   1986  -5409  -2452  -4377   2016\n",
            "   1257   2213    921    305     -2      0     41      3      0      0\n",
            "      0      1      2      0      0      0      0      0      0      0\n",
            "      0      0      0      0      1      0      0      0    103    414\n",
            "    240     34   -496    434  -2150   -696    828     53     44     48\n",
            "      0      0      0      6      7      0      5      0      0      4\n",
            "      0      0      0      0      0      0      0      0      0      0]\n"
          ],
          "name": "stdout"
        },
        {
          "output_type": "display_data",
          "data": {
            "image/png": "[encoded data removed]",
            "text/plain": [
              "<Figure size 432x288 with 1 Axes>"
            ]
          },
          "metadata": {
            "tags": []
          }
        }
      ]
    },
    {
      "cell_type": "markdown",
      "metadata": {
        "id": "RPcNyH5SQn9z",
        "colab_type": "text"
      },
      "source": [
        "Выполним ряд преобразований.\n",
        "\n",
        "Цель: \n",
        "\n",
        "1.   Избавиться от шума - выделить моменты тишины\n",
        "2.   Определить середины периодов тишины для последующего разрезания аудиопотока\n",
        "\n"
      ]
    },
    {
      "cell_type": "code",
      "metadata": {
        "id": "XYt9dfg5NboX",
        "colab_type": "code",
        "outputId": "bc54c3f4-af86-45ee-e2fc-7a1e8a49520d",
        "colab": {
          "base_uri": "https://localhost:8080/",
          "height": 425
        }
      },
      "source": [
        "a = np.array(data)\n",
        "sound = a.copy()\n",
        "print(a)\n",
        "print(sound)\n"
      ],
      "execution_count": 63,
      "outputs": [
        {
          "output_type": "stream",
          "text": [
            "[     0     -8      0      0      0      0      1      0     -8  -6978\n",
            "   1495  -8190 -11298  -1186   -206   2408   3879    456    478   -377\n",
            "    -38    -83      0      8      0      0     -4      0      0      0\n",
            "      0      0      0      0      0      0      0      0      0      0\n",
            "      0      0      1     -5      0      4    -13     -9      2     -2\n",
            "     26   2486  -6386   7039   7189   1986  -5409  -2452  -4377   2016\n",
            "   1257   2213    921    305     -2      0     41      3      0      0\n",
            "      0      1      2      0      0      0      0      0      0      0\n",
            "      0      0      0      0      1      0      0      0    103    414\n",
            "    240     34   -496    434  -2150   -696    828     53     44     48\n",
            "      0      0      0      6      7      0      5      0      0      4\n",
            "      0      0      0      0      0      0      0      0      0      0]\n",
            "[     0     -8      0      0      0      0      1      0     -8  -6978\n",
            "   1495  -8190 -11298  -1186   -206   2408   3879    456    478   -377\n",
            "    -38    -83      0      8      0      0     -4      0      0      0\n",
            "      0      0      0      0      0      0      0      0      0      0\n",
            "      0      0      1     -5      0      4    -13     -9      2     -2\n",
            "     26   2486  -6386   7039   7189   1986  -5409  -2452  -4377   2016\n",
            "   1257   2213    921    305     -2      0     41      3      0      0\n",
            "      0      1      2      0      0      0      0      0      0      0\n",
            "      0      0      0      0      1      0      0      0    103    414\n",
            "    240     34   -496    434  -2150   -696    828     53     44     48\n",
            "      0      0      0      6      7      0      5      0      0      4\n",
            "      0      0      0      0      0      0      0      0      0      0]\n"
          ],
          "name": "stdout"
        }
      ]
    },
    {
      "cell_type": "code",
      "metadata": {
        "id": "ZLyOSBAXTHJK",
        "colab_type": "code",
        "outputId": "8e9c08f6-46af-4327-a624-bd1a5a6bb956",
        "colab": {
          "base_uri": "https://localhost:8080/",
          "height": 265
        }
      },
      "source": [
        "plt.plot(a)\n",
        "plt.show()"
      ],
      "execution_count": 64,
      "outputs": [
        {
          "output_type": "display_data",
          "data": {
            "image/png": "[encoded data removed]",
            "text/plain": [
              "<Figure size 432x288 with 1 Axes>"
            ]
          },
          "metadata": {
            "tags": []
          }
        }
      ]
    },
    {
      "cell_type": "code",
      "metadata": {
        "id": "ebL_eBTWSlnD",
        "colab_type": "code",
        "outputId": "b1cf9bef-fe0c-430e-910e-be0e3a2cbc52",
        "colab": {
          "base_uri": "https://localhost:8080/",
          "height": 255
        }
      },
      "source": [
        "abs_a = np.abs(a)\n",
        "abs_a"
      ],
      "execution_count": 65,
      "outputs": [
        {
          "output_type": "execute_result",
          "data": {
            "text/plain": [
              "array([    0,     8,     0,     0,     0,     0,     1,     0,     8,\n",
              "        6978,  1495,  8190, 11298,  1186,   206,  2408,  3879,   456,\n",
              "         478,   377,    38,    83,     0,     8,     0,     0,     4,\n",
              "           0,     0,     0,     0,     0,     0,     0,     0,     0,\n",
              "           0,     0,     0,     0,     0,     0,     1,     5,     0,\n",
              "           4,    13,     9,     2,     2,    26,  2486,  6386,  7039,\n",
              "        7189,  1986,  5409,  2452,  4377,  2016,  1257,  2213,   921,\n",
              "         305,     2,     0,    41,     3,     0,     0,     0,     1,\n",
              "           2,     0,     0,     0,     0,     0,     0,     0,     0,\n",
              "           0,     0,     0,     1,     0,     0,     0,   103,   414,\n",
              "         240,    34,   496,   434,  2150,   696,   828,    53,    44,\n",
              "          48,     0,     0,     0,     6,     7,     0,     5,     0,\n",
              "           0,     4,     0,     0,     0,     0,     0,     0,     0,\n",
              "           0,     0,     0], dtype=int16)"
            ]
          },
          "metadata": {
            "tags": []
          },
          "execution_count": 65
        }
      ]
    },
    {
      "cell_type": "code",
      "metadata": {
        "id": "_xaGLKYDTOO3",
        "colab_type": "code",
        "outputId": "8de68a8b-1026-4d13-9f99-5a16c54597b5",
        "colab": {
          "base_uri": "https://localhost:8080/",
          "height": 265
        }
      },
      "source": [
        "plt.plot(abs_a)\n",
        "plt.show()"
      ],
      "execution_count": 66,
      "outputs": [
        {
          "output_type": "display_data",
          "data": {
            "image/png": "[encoded data removed]",
            "text/plain": [
              "<Figure size 432x288 with 1 Axes>"
            ]
          },
          "metadata": {
            "tags": []
          }
        }
      ]
    },
    {
      "cell_type": "code",
      "metadata": {
        "id": "lFWkaGPGUZdl",
        "colab_type": "code",
        "outputId": "3b1e5aeb-af03-4291-e962-15c48759d15e",
        "colab": {
          "base_uri": "https://localhost:8080/",
          "height": 255
        }
      },
      "source": [
        "porog = 50 # порог чтобы срезать шум\n",
        "b = abs_a.clip(porog, abs_a.max())\n",
        "b"
      ],
      "execution_count": 67,
      "outputs": [
        {
          "output_type": "execute_result",
          "data": {
            "text/plain": [
              "array([   50,    50,    50,    50,    50,    50,    50,    50,    50,\n",
              "        6978,  1495,  8190, 11298,  1186,   206,  2408,  3879,   456,\n",
              "         478,   377,    50,    83,    50,    50,    50,    50,    50,\n",
              "          50,    50,    50,    50,    50,    50,    50,    50,    50,\n",
              "          50,    50,    50,    50,    50,    50,    50,    50,    50,\n",
              "          50,    50,    50,    50,    50,    50,  2486,  6386,  7039,\n",
              "        7189,  1986,  5409,  2452,  4377,  2016,  1257,  2213,   921,\n",
              "         305,    50,    50,    50,    50,    50,    50,    50,    50,\n",
              "          50,    50,    50,    50,    50,    50,    50,    50,    50,\n",
              "          50,    50,    50,    50,    50,    50,    50,   103,   414,\n",
              "         240,    50,   496,   434,  2150,   696,   828,    53,    50,\n",
              "          50,    50,    50,    50,    50,    50,    50,    50,    50,\n",
              "          50,    50,    50,    50,    50,    50,    50,    50,    50,\n",
              "          50,    50,    50], dtype=int16)"
            ]
          },
          "metadata": {
            "tags": []
          },
          "execution_count": 67
        }
      ]
    },
    {
      "cell_type": "code",
      "metadata": {
        "id": "Zg25MmjzU-eT",
        "colab_type": "code",
        "outputId": "4bfa1020-a968-411c-80a4-3791e3616a8a",
        "colab": {
          "base_uri": "https://localhost:8080/",
          "height": 265
        }
      },
      "source": [
        "plt.plot(b)\n",
        "plt.show()"
      ],
      "execution_count": 68,
      "outputs": [
        {
          "output_type": "display_data",
          "data": {
            "image/png": "[encoded data removed]",
            "text/plain": [
              "<Figure size 432x288 with 1 Axes>"
            ]
          },
          "metadata": {
            "tags": []
          }
        }
      ]
    },
    {
      "cell_type": "code",
      "metadata": {
        "id": "T6FRxDM8XCFb",
        "colab_type": "code",
        "outputId": "9976f4ba-dd8e-425f-f6ae-5b8fb84e8f55",
        "colab": {
          "base_uri": "https://localhost:8080/",
          "height": 255
        }
      },
      "source": [
        "# создадим такой же массив, заполним его одинаковыми элементами\n",
        "c = b.copy()\n",
        "c"
      ],
      "execution_count": 69,
      "outputs": [
        {
          "output_type": "execute_result",
          "data": {
            "text/plain": [
              "array([   50,    50,    50,    50,    50,    50,    50,    50,    50,\n",
              "        6978,  1495,  8190, 11298,  1186,   206,  2408,  3879,   456,\n",
              "         478,   377,    50,    83,    50,    50,    50,    50,    50,\n",
              "          50,    50,    50,    50,    50,    50,    50,    50,    50,\n",
              "          50,    50,    50,    50,    50,    50,    50,    50,    50,\n",
              "          50,    50,    50,    50,    50,    50,  2486,  6386,  7039,\n",
              "        7189,  1986,  5409,  2452,  4377,  2016,  1257,  2213,   921,\n",
              "         305,    50,    50,    50,    50,    50,    50,    50,    50,\n",
              "          50,    50,    50,    50,    50,    50,    50,    50,    50,\n",
              "          50,    50,    50,    50,    50,    50,    50,   103,   414,\n",
              "         240,    50,   496,   434,  2150,   696,   828,    53,    50,\n",
              "          50,    50,    50,    50,    50,    50,    50,    50,    50,\n",
              "          50,    50,    50,    50,    50,    50,    50,    50,    50,\n",
              "          50,    50,    50], dtype=int16)"
            ]
          },
          "metadata": {
            "tags": []
          },
          "execution_count": 69
        }
      ]
    },
    {
      "cell_type": "code",
      "metadata": {
        "id": "-BLYt_Asbb92",
        "colab_type": "code",
        "outputId": "fb1fa388-79b3-49e3-faab-fbd26f891978",
        "colab": {
          "base_uri": "https://localhost:8080/",
          "height": 153
        }
      },
      "source": [
        "c.fill(porog)\n",
        "c"
      ],
      "execution_count": 70,
      "outputs": [
        {
          "output_type": "execute_result",
          "data": {
            "text/plain": [
              "array([50, 50, 50, 50, 50, 50, 50, 50, 50, 50, 50, 50, 50, 50, 50, 50, 50,\n",
              "       50, 50, 50, 50, 50, 50, 50, 50, 50, 50, 50, 50, 50, 50, 50, 50, 50,\n",
              "       50, 50, 50, 50, 50, 50, 50, 50, 50, 50, 50, 50, 50, 50, 50, 50, 50,\n",
              "       50, 50, 50, 50, 50, 50, 50, 50, 50, 50, 50, 50, 50, 50, 50, 50, 50,\n",
              "       50, 50, 50, 50, 50, 50, 50, 50, 50, 50, 50, 50, 50, 50, 50, 50, 50,\n",
              "       50, 50, 50, 50, 50, 50, 50, 50, 50, 50, 50, 50, 50, 50, 50, 50, 50,\n",
              "       50, 50, 50, 50, 50, 50, 50, 50, 50, 50, 50, 50, 50, 50, 50, 50, 50,\n",
              "       50], dtype=int16)"
            ]
          },
          "metadata": {
            "tags": []
          },
          "execution_count": 70
        }
      ]
    },
    {
      "cell_type": "code",
      "metadata": {
        "id": "artkhTMxabuQ",
        "colab_type": "code",
        "outputId": "3fc007c5-809f-4816-f1fa-c6ccf0c8121f",
        "colab": {
          "base_uri": "https://localhost:8080/",
          "height": 255
        }
      },
      "source": [
        "d = b - c\n",
        "d"
      ],
      "execution_count": 71,
      "outputs": [
        {
          "output_type": "execute_result",
          "data": {
            "text/plain": [
              "array([    0,     0,     0,     0,     0,     0,     0,     0,     0,\n",
              "        6928,  1445,  8140, 11248,  1136,   156,  2358,  3829,   406,\n",
              "         428,   327,     0,    33,     0,     0,     0,     0,     0,\n",
              "           0,     0,     0,     0,     0,     0,     0,     0,     0,\n",
              "           0,     0,     0,     0,     0,     0,     0,     0,     0,\n",
              "           0,     0,     0,     0,     0,     0,  2436,  6336,  6989,\n",
              "        7139,  1936,  5359,  2402,  4327,  1966,  1207,  2163,   871,\n",
              "         255,     0,     0,     0,     0,     0,     0,     0,     0,\n",
              "           0,     0,     0,     0,     0,     0,     0,     0,     0,\n",
              "           0,     0,     0,     0,     0,     0,     0,    53,   364,\n",
              "         190,     0,   446,   384,  2100,   646,   778,     3,     0,\n",
              "           0,     0,     0,     0,     0,     0,     0,     0,     0,\n",
              "           0,     0,     0,     0,     0,     0,     0,     0,     0,\n",
              "           0,     0,     0], dtype=int16)"
            ]
          },
          "metadata": {
            "tags": []
          },
          "execution_count": 71
        }
      ]
    },
    {
      "cell_type": "code",
      "metadata": {
        "id": "OLmB2DK0HpiB",
        "colab_type": "code",
        "outputId": "78e80488-4847-4208-fabf-699ceffcfd42",
        "colab": {
          "base_uri": "https://localhost:8080/",
          "height": 119
        }
      },
      "source": [
        "e = d.clip(0, 1)\n",
        "e"
      ],
      "execution_count": 72,
      "outputs": [
        {
          "output_type": "execute_result",
          "data": {
            "text/plain": [
              "array([0, 0, 0, 0, 0, 0, 0, 0, 0, 1, 1, 1, 1, 1, 1, 1, 1, 1, 1, 1, 0, 1,\n",
              "       0, 0, 0, 0, 0, 0, 0, 0, 0, 0, 0, 0, 0, 0, 0, 0, 0, 0, 0, 0, 0, 0,\n",
              "       0, 0, 0, 0, 0, 0, 0, 1, 1, 1, 1, 1, 1, 1, 1, 1, 1, 1, 1, 1, 0, 0,\n",
              "       0, 0, 0, 0, 0, 0, 0, 0, 0, 0, 0, 0, 0, 0, 0, 0, 0, 0, 0, 0, 0, 0,\n",
              "       1, 1, 1, 0, 1, 1, 1, 1, 1, 1, 0, 0, 0, 0, 0, 0, 0, 0, 0, 0, 0, 0,\n",
              "       0, 0, 0, 0, 0, 0, 0, 0, 0, 0], dtype=int16)"
            ]
          },
          "metadata": {
            "tags": []
          },
          "execution_count": 72
        }
      ]
    },
    {
      "cell_type": "code",
      "metadata": {
        "id": "p2ra79qUIZl7",
        "colab_type": "code",
        "outputId": "bd9c5fcb-9d58-49cc-e056-5b30578c56e4",
        "colab": {
          "base_uri": "https://localhost:8080/",
          "height": 265
        }
      },
      "source": [
        "plt.plot(e)\n",
        "plt.show()"
      ],
      "execution_count": 73,
      "outputs": [
        {
          "output_type": "display_data",
          "data": {
            "image/png": "[encoded data removed]",
            "text/plain": [
              "<Figure size 432x288 with 1 Axes>"
            ]
          },
          "metadata": {
            "tags": []
          }
        }
      ]
    },
    {
      "cell_type": "markdown",
      "metadata": {
        "id": "KfbiPhlhR5HZ",
        "colab_type": "text"
      },
      "source": [
        ""
      ]
    },
    {
      "cell_type": "markdown",
      "metadata": {
        "id": "QQgEEJm3Rg5M",
        "colab_type": "text"
      },
      "source": [
        "\n",
        "\n",
        "---\n",
        "\n"
      ]
    },
    {
      "cell_type": "markdown",
      "metadata": {
        "id": "1J0GjwYNMx3J",
        "colab_type": "text"
      },
      "source": [
        "# Определяем координаты центров тишины. \n",
        "Эти координаты будут использованы для разрезания аудиопотока на части - фразу делим на слова"
      ]
    },
    {
      "cell_type": "markdown",
      "metadata": {
        "id": "eqqxKxRUT4MI",
        "colab_type": "text"
      },
      "source": [
        "\n",
        "\n",
        "---\n",
        "\n",
        "\n",
        "\n",
        "---\n",
        "\n",
        "\n",
        "\n",
        "---\n",
        "\n"
      ]
    },
    {
      "cell_type": "code",
      "metadata": {
        "id": "sTfYTLi40cUC",
        "colab_type": "code",
        "colab": {}
      },
      "source": [
        "a = np.array([0, 0, 0, 0, 0, 0, 0, 0, 1, 1, 1, 1, 1, 1, 1, 1, 1, 1, 1, 1, 1, 1,\n",
        "       0, 1, 0, 1, 0, 0, 0, 0, 0, 0, 0, 0, 0, 0, 0, 0, 0, 0, 0, 0, 0, 0,\n",
        "       0, 0, 0, 0, 1, 1, 1, 1, 1, 1, 1, 1, 1, 1, 1, 1, 1, 1, 1, 0, 0, 0,\n",
        "       0, 0, 0, 0, 0, 0, 0, 0, 0, 0, 1, 0, 0, 0, 0, 1, 1, 1, 1, 1, 1, 1,\n",
        "       1, 1, 1, 1, 1, 1, 1, 0, 1, 0, 0, 0, 0, 0, 0, 0, 0, 0, 0, 0, 0, 0,\n",
        "       0, 0, 0, 0, 0, 0, 0, 0, 0, 0], int)\n",
        "\n"
      ],
      "execution_count": 0,
      "outputs": []
    },
    {
      "cell_type": "code",
      "metadata": {
        "id": "38Fb6SQHZptx",
        "colab_type": "code",
        "outputId": "1bca7df2-53c8-48a7-e3f6-d6dd7846cb39",
        "colab": {
          "base_uri": "https://localhost:8080/",
          "height": 119
        }
      },
      "source": [
        "a = e.copy()\n",
        "a"
      ],
      "execution_count": 75,
      "outputs": [
        {
          "output_type": "execute_result",
          "data": {
            "text/plain": [
              "array([0, 0, 0, 0, 0, 0, 0, 0, 0, 1, 1, 1, 1, 1, 1, 1, 1, 1, 1, 1, 0, 1,\n",
              "       0, 0, 0, 0, 0, 0, 0, 0, 0, 0, 0, 0, 0, 0, 0, 0, 0, 0, 0, 0, 0, 0,\n",
              "       0, 0, 0, 0, 0, 0, 0, 1, 1, 1, 1, 1, 1, 1, 1, 1, 1, 1, 1, 1, 0, 0,\n",
              "       0, 0, 0, 0, 0, 0, 0, 0, 0, 0, 0, 0, 0, 0, 0, 0, 0, 0, 0, 0, 0, 0,\n",
              "       1, 1, 1, 0, 1, 1, 1, 1, 1, 1, 0, 0, 0, 0, 0, 0, 0, 0, 0, 0, 0, 0,\n",
              "       0, 0, 0, 0, 0, 0, 0, 0, 0, 0], dtype=int16)"
            ]
          },
          "metadata": {
            "tags": []
          },
          "execution_count": 75
        }
      ]
    },
    {
      "cell_type": "code",
      "metadata": {
        "id": "K9E-bNf21PgU",
        "colab_type": "code",
        "outputId": "819a8ca0-a7b1-4928-a911-87e709a76bea",
        "colab": {
          "base_uri": "https://localhost:8080/",
          "height": 265
        }
      },
      "source": [
        "plt.plot(a)\n",
        "plt.show()"
      ],
      "execution_count": 76,
      "outputs": [
        {
          "output_type": "display_data",
          "data": {
            "image/png": "[encoded data removed]",
            "text/plain": [
              "<Figure size 432x288 with 1 Axes>"
            ]
          },
          "metadata": {
            "tags": []
          }
        }
      ]
    },
    {
      "cell_type": "markdown",
      "metadata": {
        "id": "kJdCBLMq05Bb",
        "colab_type": "text"
      },
      "source": [
        "Решение берем отсюда: https://younglinux.info/python/task/id-range"
      ]
    },
    {
      "cell_type": "code",
      "metadata": {
        "id": "8zZnXlkS0tpe",
        "colab_type": "code",
        "outputId": "50215fc9-b600-4293-b31e-dd3157187fbf",
        "colab": {
          "base_uri": "https://localhost:8080/",
          "height": 119
        }
      },
      "source": [
        "\n",
        "#def my_function(a): # задаем массив\n",
        "   \n",
        "count = 0\n",
        "max_count = 0\n",
        "index = 0\n",
        "i = 0 \n",
        "while i < len(a):\n",
        "\tif a[i] == 1:\n",
        "\t\tcount += 1\n",
        "\telse:\n",
        "\t\tif count > max_count:\n",
        "\t\t\tmax_count = count\n",
        "\t\t\tindex = i-1 # последовательность закончилась на предыдущем элементе\n",
        "\t\tcount = 0\n",
        "\ti += 1\n",
        "\n",
        "  \n",
        " \n",
        "print(\"Количество элементов: \", max_count)\n",
        "print(\"id первого элемента: \", index-max_count+1)\n",
        "print(\"id последнего элемента: \", index)\n",
        "print(\"середина\", int(round(index - max_count/2)))\n",
        "sound_center = round(index - max_count/2)\n",
        "sound_center_i = sound_center\n",
        "print(sound_center_i)\n",
        "sound_center_list = []\n",
        "sound_center_list.append(sound_center_i)\n",
        "print(sound_center_list)\n"
      ],
      "execution_count": 77,
      "outputs": [
        {
          "output_type": "stream",
          "text": [
            "Количество элементов:  13\n",
            "id первого элемента:  51\n",
            "id последнего элемента:  63\n",
            "середина 56\n",
            "56\n",
            "[56]\n"
          ],
          "name": "stdout"
        }
      ]
    },
    {
      "cell_type": "code",
      "metadata": {
        "id": "mXmBbhWS6-T0",
        "colab_type": "code",
        "outputId": "cbb336f8-4ae4-4490-d642-0807ee17d371",
        "colab": {
          "base_uri": "https://localhost:8080/",
          "height": 34
        }
      },
      "source": [
        "a[index-max_count+1:index] # items start through end-1\n"
      ],
      "execution_count": 78,
      "outputs": [
        {
          "output_type": "execute_result",
          "data": {
            "text/plain": [
              "array([1, 1, 1, 1, 1, 1, 1, 1, 1, 1, 1, 1], dtype=int16)"
            ]
          },
          "metadata": {
            "tags": []
          },
          "execution_count": 78
        }
      ]
    },
    {
      "cell_type": "markdown",
      "metadata": {
        "id": "eEezcIvP-8-K",
        "colab_type": "text"
      },
      "source": [
        "ОБнуляем полученное единички. ищем следущую самую длинную последовательность единичек"
      ]
    },
    {
      "cell_type": "code",
      "metadata": {
        "id": "T-9xaAUO-nAM",
        "colab_type": "code",
        "colab": {}
      },
      "source": [
        "\n",
        "a[index-max_count+1:index] = 0 #ОБнуляем полученное единички. "
      ],
      "execution_count": 0,
      "outputs": []
    },
    {
      "cell_type": "code",
      "metadata": {
        "id": "uIdKETDv_f63",
        "colab_type": "code",
        "colab": {}
      },
      "source": [
        "a1 = a\n"
      ],
      "execution_count": 0,
      "outputs": []
    },
    {
      "cell_type": "code",
      "metadata": {
        "id": "mofD_huG-16z",
        "colab_type": "code",
        "outputId": "0c099d6a-b2e6-4af7-94d7-e70ab7a03bc0",
        "colab": {
          "base_uri": "https://localhost:8080/",
          "height": 265
        }
      },
      "source": [
        "plt.plot(a1)\n",
        "plt.show()"
      ],
      "execution_count": 81,
      "outputs": [
        {
          "output_type": "display_data",
          "data": {
            "image/png": "[encoded data removed]",
            "text/plain": [
              "<Figure size 432x288 with 1 Axes>"
            ]
          },
          "metadata": {
            "tags": []
          }
        }
      ]
    },
    {
      "cell_type": "code",
      "metadata": {
        "id": "FjLOQAMzCPQu",
        "colab_type": "code",
        "colab": {}
      },
      "source": [
        "a2 = a1.copy()\n",
        "a = a2"
      ],
      "execution_count": 0,
      "outputs": []
    },
    {
      "cell_type": "code",
      "metadata": {
        "id": "tfYLPrWzAHPi",
        "colab_type": "code",
        "outputId": "53bf9b40-cc82-4be7-f28f-ca50abe5df60",
        "colab": {
          "base_uri": "https://localhost:8080/",
          "height": 119
        }
      },
      "source": [
        "count = 0\n",
        "max_count = 0\n",
        "index = 0\n",
        "i = 0 \n",
        "while i < len(a):\n",
        "\tif a[i] == 1:\n",
        "\t\tcount += 1\n",
        "\telse:\n",
        "\t\tif count > max_count:\n",
        "\t\t\tmax_count = count\n",
        "\t\t\tindex = i-1 # последовательность закончилась на предыдущем элементе\n",
        "\t\tcount = 0\n",
        "\ti += 1\n",
        " \n",
        "print(\"Количество элементов: \", max_count)\n",
        "print(\"id первого элемента: \", index-max_count+1)\n",
        "print(\"id последнего элемента: \", index)\n",
        "print(\"середина\", int(round(index - max_count/2)))\n",
        "sound_center = round(index - max_count/2)\n",
        "sound_center_i = sound_center\n",
        "print(sound_center_i)\n",
        "sound_center_list.append(sound_center_i)\n",
        "print(sound_center_list)\n"
      ],
      "execution_count": 83,
      "outputs": [
        {
          "output_type": "stream",
          "text": [
            "Количество элементов:  11\n",
            "id первого элемента:  9\n",
            "id последнего элемента:  19\n",
            "середина 14\n",
            "14\n",
            "[56, 14]\n"
          ],
          "name": "stdout"
        }
      ]
    },
    {
      "cell_type": "code",
      "metadata": {
        "id": "9VDo0OeHCw0p",
        "colab_type": "code",
        "colab": {}
      },
      "source": [
        "a[index-max_count+1:index] = 0 #ОБнуляем полученное единички. "
      ],
      "execution_count": 0,
      "outputs": []
    },
    {
      "cell_type": "code",
      "metadata": {
        "id": "tkvMs9dRC6CL",
        "colab_type": "code",
        "outputId": "36ff66a1-8fd5-46b3-e046-368be64d8152",
        "colab": {
          "base_uri": "https://localhost:8080/",
          "height": 265
        }
      },
      "source": [
        "plt.plot(a)\n",
        "plt.show()"
      ],
      "execution_count": 85,
      "outputs": [
        {
          "output_type": "display_data",
          "data": {
            "image/png": "[encoded data removed]",
            "text/plain": [
              "<Figure size 432x288 with 1 Axes>"
            ]
          },
          "metadata": {
            "tags": []
          }
        }
      ]
    },
    {
      "cell_type": "code",
      "metadata": {
        "id": "gyMrWc2SDWZT",
        "colab_type": "code",
        "colab": {}
      },
      "source": [
        "# делаем копию и запускаем снова\n",
        "a3 = a.copy()\n",
        "a = a3"
      ],
      "execution_count": 0,
      "outputs": []
    },
    {
      "cell_type": "code",
      "metadata": {
        "id": "lPl0PEnADtGo",
        "colab_type": "code",
        "outputId": "eaf77f6a-0bcf-4971-e605-a94131cf59c0",
        "colab": {
          "base_uri": "https://localhost:8080/",
          "height": 119
        }
      },
      "source": [
        "count = 0\n",
        "max_count = 0\n",
        "index = 0\n",
        "i = 0 \n",
        "while i < len(a):\n",
        "\tif a[i] == 1:\n",
        "\t\tcount += 1\n",
        "\telse:\n",
        "\t\tif count > max_count:\n",
        "\t\t\tmax_count = count\n",
        "\t\t\tindex = i-1 # последовательность закончилась на предыдущем элементе\n",
        "\t\tcount = 0\n",
        "\ti += 1\n",
        " \n",
        "print(\"Количество элементов: \", max_count)\n",
        "print(\"id первого элемента: \", index-max_count+1)\n",
        "print(\"id последнего элемента: \", index)\n",
        "print(\"середина\", int(round(index - max_count/2)))\n",
        "sound_center = round(index - max_count/2)\n",
        "sound_center_i = sound_center\n",
        "print(sound_center_i)\n",
        "sound_center_list.append(sound_center_i)\n",
        "print(sound_center_list)"
      ],
      "execution_count": 87,
      "outputs": [
        {
          "output_type": "stream",
          "text": [
            "Количество элементов:  6\n",
            "id первого элемента:  92\n",
            "id последнего элемента:  97\n",
            "середина 94\n",
            "94\n",
            "[56, 14, 94]\n"
          ],
          "name": "stdout"
        }
      ]
    },
    {
      "cell_type": "code",
      "metadata": {
        "id": "Ztac7uWuEs-r",
        "colab_type": "code",
        "outputId": "d4b5605f-2c9e-433b-a8ed-7090b9044b81",
        "colab": {
          "base_uri": "https://localhost:8080/",
          "height": 265
        }
      },
      "source": [
        "a[index-max_count+1:index] = 0 #ОБнуляем полученное единички.\n",
        "# делаем копию и запускаем снова\n",
        "a4 = a.copy()\n",
        "a = a4\n",
        "plt.plot(a)\n",
        "plt.show()"
      ],
      "execution_count": 88,
      "outputs": [
        {
          "output_type": "display_data",
          "data": {
            "image/png": "[encoded data removed]",
            "text/plain": [
              "<Figure size 432x288 with 1 Axes>"
            ]
          },
          "metadata": {
            "tags": []
          }
        }
      ]
    },
    {
      "cell_type": "code",
      "metadata": {
        "id": "OupXP6arFA2Y",
        "colab_type": "code",
        "outputId": "9827eb25-4dd5-4ab1-a68f-54fecd5fcf25",
        "colab": {
          "base_uri": "https://localhost:8080/",
          "height": 85
        }
      },
      "source": [
        "count = 0\n",
        "max_count = 0\n",
        "index = 0\n",
        "i = 0 \n",
        "while i < len(a):\n",
        "\tif a[i] == 1:\n",
        "\t\tcount += 1\n",
        "\telse:\n",
        "\t\tif count > max_count:\n",
        "\t\t\tmax_count = count\n",
        "\t\t\tindex = i-1 # последовательность закончилась на предыдущем элементе\n",
        "\t\tcount = 0\n",
        "\ti += 1\n",
        " \n",
        "print(\"Количество элементов: \", max_count)\n",
        "print(\"id первого элемента: \", index-max_count+1)\n",
        "print(\"id последнего элемента: \", index)\n",
        "print(\"середина\", int(round(index - max_count/2)))"
      ],
      "execution_count": 89,
      "outputs": [
        {
          "output_type": "stream",
          "text": [
            "Количество элементов:  3\n",
            "id первого элемента:  88\n",
            "id последнего элемента:  90\n",
            "середина 88\n"
          ],
          "name": "stdout"
        }
      ]
    },
    {
      "cell_type": "markdown",
      "metadata": {
        "id": "TdQfU-gAkYd-",
        "colab_type": "text"
      },
      "source": [
        "\n",
        "\n",
        "---\n",
        "\n"
      ]
    },
    {
      "cell_type": "markdown",
      "metadata": {
        "id": "F3Q43fOgEDuG",
        "colab_type": "text"
      },
      "source": [
        "у нас периоды звука не сильно отличаются друг от друга.\n",
        "\n",
        "Длина звука - это в нашем случае количество элементов.\n",
        "Звуки 1, 2, 3 имеют 14 индексов (количество элементов), а звук 4 - 1 элемент. \n",
        "Это означает, что более или менее длиные звуки кончились. \n",
        "Можем воспользоваться этим как сигналом для остановки поиска новых слов во фразе.\n",
        "Если отношение (количество элементов для первого звука / количеств элементов следующего звука) > 2, то функцию поиска середины звука останавливаем"
      ]
    },
    {
      "cell_type": "markdown",
      "metadata": {
        "id": "GzuN4HX4FpaV",
        "colab_type": "text"
      },
      "source": [
        "ИТОГО получили три индекса - центры звуков. \n",
        "C1 = середина 54.5\n",
        "C2 = середина 14.0\n",
        "C3 = середина 87.0\n",
        "\n",
        "Будем искать линии разрезов\n",
        "Первый разрез T0 = 0\n"
      ]
    },
    {
      "cell_type": "code",
      "metadata": {
        "id": "fnphYYv-EL-k",
        "colab_type": "code",
        "outputId": "d488412d-dd7f-40db-ecf7-c8bc88ba60bb",
        "colab": {
          "base_uri": "https://localhost:8080/",
          "height": 68
        }
      },
      "source": [
        "C1 = 54 # взято для примера, обработка файла 'seg_no_bed_bird.wav'\n",
        "C2 = 14\n",
        "C3 = 87\n",
        "\n",
        "Center_list  = sound_center_list\n",
        "print(Center_list)\n",
        "\n",
        "# ранжируем список центров звука по возростанию\n",
        "Center_list.sort()\n",
        "b = sorted(Center_list)\n",
        "print(b)\n",
        "print(range(len(b)))\n",
        "\n",
        "T0 = 0\n",
        "T1 = b[0]\n",
        "T2 = b[1]\n",
        "T3 = b[2]\n"
      ],
      "execution_count": 90,
      "outputs": [
        {
          "output_type": "stream",
          "text": [
            "[56, 14, 94]\n",
            "[14, 56, 94]\n",
            "range(0, 3)\n"
          ],
          "name": "stdout"
        }
      ]
    },
    {
      "cell_type": "markdown",
      "metadata": {
        "id": "T9wKHyIUPUhY",
        "colab_type": "text"
      },
      "source": [
        "Вычисляем точки разреза:"
      ]
    },
    {
      "cell_type": "code",
      "metadata": {
        "id": "pSWBD-iK5OH2",
        "colab_type": "code",
        "outputId": "6dc55be3-e982-4a76-fd9f-b61dbb1ead00",
        "colab": {
          "base_uri": "https://localhost:8080/",
          "height": 119
        }
      },
      "source": [
        "# для фразы из трех слов - это две точки, для фразы из трех слов - две.\n",
        "# для файла 'seg_no_bed_bird.wav' - две точки.\n",
        "\n",
        "S1 = round(T0 + (T1-T0)/2)\n",
        "S1 = round(T1 + (T2-T1)/2)\n",
        "S2 = round(T2 + (T3-T2)/2)\n",
        "\n",
        "print(S1 )\n",
        "print(S2)\n",
        "\n",
        "Split_list = [S1, S2]\n",
        "print(Split_list) \n",
        "\n",
        "t0 = 0\n",
        "t1 = Split_list[0]\n",
        "t2 = Split_list[1]\n",
        "print(t0, t1, t2)\n",
        "print(t1)\n",
        "print\n",
        "\n",
        "#34,70"
      ],
      "execution_count": 91,
      "outputs": [
        {
          "output_type": "stream",
          "text": [
            "35\n",
            "75\n",
            "[35, 75]\n",
            "0 35 75\n",
            "35\n"
          ],
          "name": "stdout"
        },
        {
          "output_type": "execute_result",
          "data": {
            "text/plain": [
              "<function print>"
            ]
          },
          "metadata": {
            "tags": []
          },
          "execution_count": 91
        }
      ]
    },
    {
      "cell_type": "code",
      "metadata": {
        "id": "SvNHTYwKtHPZ",
        "colab_type": "code",
        "colab": {
          "base_uri": "https://localhost:8080/",
          "height": 289
        },
        "outputId": "91f8a128-ebc4-44de-9c36-8f983bf0e22b"
      },
      "source": [
        "#sound = np.array(data)\n",
        "sound"
      ],
      "execution_count": 92,
      "outputs": [
        {
          "output_type": "execute_result",
          "data": {
            "text/plain": [
              "array([     0,     -8,      0,      0,      0,      0,      1,      0,\n",
              "           -8,  -6978,   1495,  -8190, -11298,  -1186,   -206,   2408,\n",
              "         3879,    456,    478,   -377,    -38,    -83,      0,      8,\n",
              "            0,      0,     -4,      0,      0,      0,      0,      0,\n",
              "            0,      0,      0,      0,      0,      0,      0,      0,\n",
              "            0,      0,      1,     -5,      0,      4,    -13,     -9,\n",
              "            2,     -2,     26,   2486,  -6386,   7039,   7189,   1986,\n",
              "        -5409,  -2452,  -4377,   2016,   1257,   2213,    921,    305,\n",
              "           -2,      0,     41,      3,      0,      0,      0,      1,\n",
              "            2,      0,      0,      0,      0,      0,      0,      0,\n",
              "            0,      0,      0,      0,      1,      0,      0,      0,\n",
              "          103,    414,    240,     34,   -496,    434,  -2150,   -696,\n",
              "          828,     53,     44,     48,      0,      0,      0,      6,\n",
              "            7,      0,      5,      0,      0,      4,      0,      0,\n",
              "            0,      0,      0,      0,      0,      0,      0,      0],\n",
              "      dtype=int16)"
            ]
          },
          "metadata": {
            "tags": []
          },
          "execution_count": 92
        }
      ]
    },
    {
      "cell_type": "code",
      "metadata": {
        "id": "ssEvaaxrQzN1",
        "colab_type": "code",
        "colab": {}
      },
      "source": [
        "sound = np.array([     0,      0,      0,      0,      0,      0,      0,    117,\n",
        "          861,   -268,    509,   3850,   1405,   1119,  -2602,    213,\n",
        "        1192,  -3022,   -337,  -1292,  -5351,   1128,    123,   1034,\n",
        "         -167,   -309,     22,      7,      0,      3,      0,     -1,\n",
        "            0,    -30,   -128,     63,     -5,     92,      8,    -35,\n",
        "           11,     57,    -62,     -3,     47,     23,    101,     40,\n",
        "        -1149,  -5153,   7368,  -9440, -13747,  -4643,   1609,   4278,\n",
        "          529,    843,   2560,  -1500,   2463,    598,    264,    122,\n",
        "          146,   -102,      0,      0,      0,      0,      0,      0,\n",
        "            0,    -46,     28,     65,    236,     58,    -26,    133,\n",
        "         -123,   1131,   3820,    237,  -3607,   -491,   3222,   3871,\n",
        "        -8924,  -7897,   5990,  -1497,    904,   2201,    942,     98,\n",
        "         -327,    200,   -162,    -67,     -9,      0,      0,      0,\n",
        "            0,      0,      0,      0,      0,      0,      0,      0,\n",
        "            0,      0,      0,      0,      0,      0,      0,      0], int)"
      ],
      "execution_count": 0,
      "outputs": []
    },
    {
      "cell_type": "code",
      "metadata": {
        "id": "tQbI2sK4LZjz",
        "colab_type": "code",
        "outputId": "fec44152-4264-43ba-c7de-363973212f9a",
        "colab": {
          "base_uri": "https://localhost:8080/",
          "height": 265
        }
      },
      "source": [
        "plt.plot(sound)\n",
        "plt.show()"
      ],
      "execution_count": 94,
      "outputs": [
        {
          "output_type": "display_data",
          "data": {
            "image/png": "[encoded data removed]",
            "text/plain": [
              "<Figure size 432x288 with 1 Axes>"
            ]
          },
          "metadata": {
            "tags": []
          }
        }
      ]
    },
    {
      "cell_type": "code",
      "metadata": {
        "id": "Omrz4gAKKa_B",
        "colab_type": "code",
        "outputId": "7a643243-357e-4e2f-a011-07ef6d8d86ac",
        "colab": {
          "base_uri": "https://localhost:8080/",
          "height": 85
        }
      },
      "source": [
        "sound1 = sound[:S1]\n",
        "sound1"
      ],
      "execution_count": 95,
      "outputs": [
        {
          "output_type": "execute_result",
          "data": {
            "text/plain": [
              "array([    0,     0,     0,     0,     0,     0,     0,   117,   861,\n",
              "        -268,   509,  3850,  1405,  1119, -2602,   213,  1192, -3022,\n",
              "        -337, -1292, -5351,  1128,   123,  1034,  -167,  -309,    22,\n",
              "           7,     0,     3,     0,    -1,     0,   -30,  -128])"
            ]
          },
          "metadata": {
            "tags": []
          },
          "execution_count": 95
        }
      ]
    },
    {
      "cell_type": "code",
      "metadata": {
        "id": "J0OyvQA4LmTe",
        "colab_type": "code",
        "outputId": "cf0fdd27-f20f-4042-e547-fa9431df495f",
        "colab": {
          "base_uri": "https://localhost:8080/",
          "height": 265
        }
      },
      "source": [
        "plt.plot(sound1)\n",
        "plt.show()"
      ],
      "execution_count": 96,
      "outputs": [
        {
          "output_type": "display_data",
          "data": {
            "image/png": "[encoded data removed]",
            "text/plain": [
              "<Figure size 432x288 with 1 Axes>"
            ]
          },
          "metadata": {
            "tags": []
          }
        }
      ]
    },
    {
      "cell_type": "code",
      "metadata": {
        "id": "ACyoAg7vKyy8",
        "colab_type": "code",
        "colab": {}
      },
      "source": [
        "sound2 = sound[S1:S2]"
      ],
      "execution_count": 0,
      "outputs": []
    },
    {
      "cell_type": "code",
      "metadata": {
        "id": "5UPYjK1pMHk2",
        "colab_type": "code",
        "outputId": "fc5fb105-2fa0-4d79-941b-d5437f6f6fc5",
        "colab": {
          "base_uri": "https://localhost:8080/",
          "height": 265
        }
      },
      "source": [
        "plt.plot(sound2)\n",
        "plt.show()"
      ],
      "execution_count": 98,
      "outputs": [
        {
          "output_type": "display_data",
          "data": {
            "image/png": "[encoded data removed]",
            "text/plain": [
              "<Figure size 432x288 with 1 Axes>"
            ]
          },
          "metadata": {
            "tags": []
          }
        }
      ]
    },
    {
      "cell_type": "code",
      "metadata": {
        "id": "GaYo1QVBK7ur",
        "colab_type": "code",
        "colab": {}
      },
      "source": [
        "sound3 = sound[S2:]"
      ],
      "execution_count": 0,
      "outputs": []
    },
    {
      "cell_type": "code",
      "metadata": {
        "id": "DdfKHocqLxaT",
        "colab_type": "code",
        "outputId": "d1627000-f24f-4ca1-de1b-54d12c545d96",
        "colab": {
          "base_uri": "https://localhost:8080/",
          "height": 265
        }
      },
      "source": [
        "plt.plot(sound3)\n",
        "plt.show()"
      ],
      "execution_count": 100,
      "outputs": [
        {
          "output_type": "display_data",
          "data": {
            "image/png": "[encoded data removed]",
            "text/plain": [
              "<Figure size 432x288 with 1 Axes>"
            ]
          },
          "metadata": {
            "tags": []
          }
        }
      ]
    },
    {
      "cell_type": "markdown",
      "metadata": {
        "id": "CpR-5n-OyVS8",
        "colab_type": "text"
      },
      "source": [
        "\n",
        "\n",
        "---\n",
        "\n"
      ]
    },
    {
      "cell_type": "markdown",
      "metadata": {
        "id": "URDyg2YtboHP",
        "colab_type": "text"
      },
      "source": [
        "\n",
        "\n",
        "---\n",
        "\n"
      ]
    },
    {
      "cell_type": "markdown",
      "metadata": {
        "id": "P8iE_dYzbuo9",
        "colab_type": "text"
      },
      "source": [
        "# Переносим точки разрыва на полноценный аудиопоток \n",
        "Директорий /content/Simple-Audio-Recognition/Audio_streams/"
      ]
    },
    {
      "cell_type": "code",
      "metadata": {
        "id": "ngYXk_aTf5zA",
        "colab_type": "code",
        "colab": {}
      },
      "source": [
        "import os\n",
        "import numpy as np\n",
        "import keras\n",
        "import math\n",
        "from keras.models import load_model\n",
        "from scipy.io import wavfile\n",
        "from scipy.fftpack import dct\n",
        "from scipy.io import wavfile\n",
        "import scipy.io.wavfile\n",
        "import matplotlib.pyplot as plt"
      ],
      "execution_count": 0,
      "outputs": []
    },
    {
      "cell_type": "code",
      "metadata": {
        "id": "1j9j8YbrAw1j",
        "colab_type": "code",
        "outputId": "30f2311c-6c97-42da-e735-d12e5c309f2a",
        "colab": {
          "base_uri": "https://localhost:8080/",
          "height": 68
        }
      },
      "source": [
        "#__________для ПОТОКА - файлы для директория  Seg_audio_streams\n",
        "#sample_file ='no_bed_bird.wav'\n",
        "#sample_file ='no_bed_bird.wav'\n",
        "#dir_path = '/content/Simple-Audio-Recognition/Audio_streams/' #  откуда файл берется\n",
        "\n",
        "#создаем директорий для фразы\n",
        "dir_path_mod = '/content/Simple-Audio-Recognition/Words_from_streams/' + sample_file[:-4]\n",
        "#dir_path_mod = '/content/Simple-Audio-Recognition/Words_from_streams/' + sample_file\n",
        "\n",
        "if not os.path.exists('/content/Simple-Audio-Recognition/Words_from_streams/' + sample_file[:-4]): #Если пути не существует создаем его\n",
        "   dir_path_mod = os.makedirs('/content/Simple-Audio-Recognition/Words_from_streams/' + sample_file[:-4])\n",
        "   dir_path_mod = '/content/Simple-Audio-Recognition/Words_from_streams/' + sample_file[:-4]\n",
        "print(sample_file)\n",
        "print(dir_path)\n",
        "print(dir_path_mod)\n"
      ],
      "execution_count": 102,
      "outputs": [
        {
          "output_type": "stream",
          "text": [
            "bed_bird_right.wav\n",
            "/content/Simple-Audio-Recognition/Audio_streams/\n",
            "/content/Simple-Audio-Recognition/Words_from_streams/bed_bird_right\n"
          ],
          "name": "stdout"
        }
      ]
    },
    {
      "cell_type": "code",
      "metadata": {
        "id": "LrdxOI2gii39",
        "colab_type": "code",
        "outputId": "ea20f449-0482-4095-f9a5-bb4b5a74c468",
        "colab": {
          "base_uri": "https://localhost:8080/",
          "height": 455
        }
      },
      "source": [
        "k0 = 0\n",
        "k1 = 1000*34/40\n",
        "k2 = 1000*70/40\n",
        "\n",
        "\n",
        "#+++++++++++++++++++11111111111111111111111111111111111\n",
        "start = 0\n",
        "end = k1\n",
        "x = '1_'\n",
        "\n",
        "from pydub import silence, AudioSegment\n",
        "\n",
        "audio = AudioSegment.from_file(dir_path + sample_file, format=\"wav\")\n",
        "print(audio)\n",
        "\n",
        "segment = AudioSegment.from_wav(dir_path + sample_file)[start:end]  \n",
        "modified_file = x +  sample_file  \n",
        "segment.export(os.path.join(dir_path_mod, modified_file), format='wav')\n",
        "\n",
        "import wave\n",
        "sound = dir_path_mod + '/' + modified_file\n",
        "\n",
        "\n",
        "obj = wave.open(sound,'r')\n",
        "print( \"Number of channels\",obj.getnchannels())\n",
        "print ( \"Sample width\",obj.getsampwidth())\n",
        "print ( \"Frame rate.\",obj.getframerate())\n",
        "print (\"Number of frames\",obj.getnframes())\n",
        "print ( \"parameters:\",obj.getparams())\n",
        "obj.close()\n",
        "rate, data = scipy.io.wavfile.read(sound)\n",
        "d = obj.getnframes()/obj.getframerate()\n",
        "print(sound)\n",
        "print(rate)\n",
        "print(data)\n",
        "print(\"sound durantion = \", d)\n",
        "plt.plot(data)\n",
        "plt.show()\n",
        "\n",
        "\n"
      ],
      "execution_count": 103,
      "outputs": [
        {
          "output_type": "stream",
          "text": [
            "<pydub.audio_segment.AudioSegment object at 0x7f5744479390>\n",
            "Number of channels 1\n",
            "Sample width 2\n",
            "Frame rate. 16000\n",
            "Number of frames 13600\n",
            "parameters: _wave_params(nchannels=1, sampwidth=2, framerate=16000, nframes=13600, comptype='NONE', compname='not compressed')\n",
            "/content/Simple-Audio-Recognition/Words_from_streams/bed_bird_right/1_bed_bird_right.wav\n",
            "16000\n",
            "[0 0 0 ... 0 0 0]\n",
            "sound durantion =  0.85\n"
          ],
          "name": "stdout"
        },
        {
          "output_type": "display_data",
          "data": {
            "image/png": "[encoded data removed]",
            "text/plain": [
              "<Figure size 432x288 with 1 Axes>"
            ]
          },
          "metadata": {
            "tags": []
          }
        }
      ]
    },
    {
      "cell_type": "code",
      "metadata": {
        "id": "7K96M36jPPte",
        "colab_type": "code",
        "outputId": "5525e0d4-8bd3-47f7-9178-7be8acf3227f",
        "colab": {
          "base_uri": "https://localhost:8080/",
          "height": 873
        }
      },
      "source": [
        "\n",
        "#+++++++++++++++++++22222222222222222222222222\n",
        "start = k1\n",
        "end = k2\n",
        "x = '2_'\n",
        "\n",
        "from pydub import silence, AudioSegment\n",
        "audio = AudioSegment.from_file(dir_path + sample_file, format=\"wav\")\n",
        "print(audio)\n",
        "segment = AudioSegment.from_wav(dir_path + sample_file)[start:end]  \n",
        "modified_file = x +  sample_file  \n",
        "segment.export(os.path.join(dir_path_mod, modified_file), format='wav')\n",
        "\n",
        "import wave\n",
        "sound = dir_path_mod + '/' + modified_file\n",
        "\n",
        "obj = wave.open(sound,'r')\n",
        "print( \"Number of channels\",obj.getnchannels())\n",
        "print ( \"Sample width\",obj.getsampwidth())\n",
        "print ( \"Frame rate.\",obj.getframerate())\n",
        "print (\"Number of frames\",obj.getnframes())\n",
        "print ( \"parameters:\",obj.getparams())\n",
        "obj.close()\n",
        "rate, data = scipy.io.wavfile.read(sound)\n",
        "d = obj.getnframes()/obj.getframerate()\n",
        "print(sound)\n",
        "print(rate)\n",
        "print(data)\n",
        "print(\"sound durantion = \", d)\n",
        "plt.plot(data)\n",
        "plt.show()\n",
        "\n",
        "#+++++++++++++++++++3333333333333333333333333333\n",
        "k3 = 3000\n",
        "start = k2\n",
        "end = k3\n",
        "x = '3_'\n",
        "\n",
        "from pydub import silence, AudioSegment\n",
        "audio = AudioSegment.from_file(dir_path + sample_file, format=\"wav\")\n",
        "print(audio)\n",
        "segment = AudioSegment.from_wav(dir_path + sample_file)[start:end]  \n",
        "modified_file = x +  sample_file  \n",
        "segment.export(os.path.join(dir_path_mod, modified_file), format='wav')\n",
        "\n",
        "import wave\n",
        "sound = dir_path_mod + '/' + modified_file\n",
        "\n",
        "obj = wave.open(sound,'r')\n",
        "print( \"Number of channels\",obj.getnchannels())\n",
        "print ( \"Sample width\",obj.getsampwidth())\n",
        "print ( \"Frame rate.\",obj.getframerate())\n",
        "print (\"Number of frames\",obj.getnframes())\n",
        "print ( \"parameters:\",obj.getparams())\n",
        "obj.close()\n",
        "rate, data = scipy.io.wavfile.read(sound)\n",
        "d = obj.getnframes()/obj.getframerate()\n",
        "print(sound)\n",
        "print(rate)\n",
        "print(data)\n",
        "print(\"sound durantion = \", d)\n",
        "plt.plot(data)\n",
        "plt.show()\n"
      ],
      "execution_count": 104,
      "outputs": [
        {
          "output_type": "stream",
          "text": [
            "<pydub.audio_segment.AudioSegment object at 0x7f570d301eb8>\n",
            "Number of channels 1\n",
            "Sample width 2\n",
            "Frame rate. 16000\n",
            "Number of frames 14400\n",
            "parameters: _wave_params(nchannels=1, sampwidth=2, framerate=16000, nframes=14400, comptype='NONE', compname='not compressed')\n",
            "/content/Simple-Audio-Recognition/Words_from_streams/bed_bird_right/2_bed_bird_right.wav\n",
            "16000\n",
            "[0 0 0 ... 0 0 0]\n",
            "sound durantion =  0.9\n"
          ],
          "name": "stdout"
        },
        {
          "output_type": "display_data",
          "data": {
            "image/png": "[encoded data removed]",
            "text/plain": [
              "<Figure size 432x288 with 1 Axes>"
            ]
          },
          "metadata": {
            "tags": []
          }
        },
        {
          "output_type": "stream",
          "text": [
            "<pydub.audio_segment.AudioSegment object at 0x7f570ce58eb8>\n",
            "Number of channels 1\n",
            "Sample width 2\n",
            "Frame rate. 16000\n",
            "Number of frames 20000\n",
            "parameters: _wave_params(nchannels=1, sampwidth=2, framerate=16000, nframes=20000, comptype='NONE', compname='not compressed')\n",
            "/content/Simple-Audio-Recognition/Words_from_streams/bed_bird_right/3_bed_bird_right.wav\n",
            "16000\n",
            "[ 0 -2  0 ...  0  0  0]\n",
            "sound durantion =  1.25\n"
          ],
          "name": "stdout"
        },
        {
          "output_type": "display_data",
          "data": {
            "image/png": "[encoded data removed]",
            "text/plain": [
              "<Figure size 432x288 with 1 Axes>"
            ]
          },
          "metadata": {
            "tags": []
          }
        }
      ]
    },
    {
      "cell_type": "markdown",
      "metadata": {
        "colab_type": "text",
        "id": "ekepM8r_qDEz"
      },
      "source": [
        "В результате:\n",
        "1. Создали директорий по названию фразы (/content/Simple-Audio-Recognition/Words_from_streams/no_bed_bird/)\n",
        "2. Разделили первоначальную фразу (неотформатированную) на части. Части поместили в директорий (/content/Simple-Audio-Recognition/Words_from_streams/no_bed_bird/1_no_bed_bird.wav + 2_no_bed_bird.wav +3_no_bed_bird.wav).\n",
        "3. Эти полученные слова - сырые. у них нестандартная длина и dataframe может быть не равным 16000. Поэтому перед тем, как скармливать их модели, слова нужно заново обработать. \n",
        "4. Обрабатываем слова вырезанные из фразы ноутбуком Директорий of Audio_Preparation.ipynb.  Он обрабатывает все файлы в директории. Сохраняем обработанные файлы в этом же директории.  "
      ]
    },
    {
      "cell_type": "markdown",
      "metadata": {
        "colab_type": "text",
        "id": "L45ha1KNqDE2"
      },
      "source": [
        "\n",
        "\n",
        "---\n",
        "\n",
        "\n",
        "\n",
        "---\n",
        "\n"
      ]
    },
    {
      "cell_type": "markdown",
      "metadata": {
        "id": "6UKA-t4QbmHg",
        "colab_type": "text"
      },
      "source": [
        ""
      ]
    },
    {
      "cell_type": "markdown",
      "metadata": {
        "colab_type": "text",
        "id": "1ADV2RqxlT_7"
      },
      "source": [
        "\n",
        "\n",
        "---\n",
        "\n",
        "\n",
        "\n",
        "---\n",
        "\n"
      ]
    }
  ]
}