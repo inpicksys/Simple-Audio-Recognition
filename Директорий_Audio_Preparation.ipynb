{
  "nbformat": 4,
  "nbformat_minor": 0,
  "metadata": {
    "colab": {
      "name": "Директорий_Audio_Preparation.ipynb",
      "provenance": [],
      "collapsed_sections": []
    },
    "kernelspec": {
      "name": "python3",
      "display_name": "Python 3"
    }
  },
  "cells": [
    {
      "cell_type": "code",
      "metadata": {
        "id": "nNynygdiwFOc",
        "colab_type": "code",
        "colab": {}
      },
      "source": [
        ""
      ],
      "execution_count": 0,
      "outputs": []
    },
    {
      "cell_type": "code",
      "metadata": {
        "id": "5K7dBaFGo1Q4",
        "colab_type": "code",
        "colab": {}
      },
      "source": [
        "# перезагрузить ноутбук\n",
        "!kill -9 -1"
      ],
      "execution_count": 0,
      "outputs": []
    },
    {
      "cell_type": "markdown",
      "metadata": {
        "id": "wrSoPHm55snj",
        "colab_type": "text"
      },
      "source": [
        "# Подготовка аудио файлов (все файлы из одного директория)\n",
        "Можно оставить в этом директории, можно перекинуть в другой"
      ]
    },
    {
      "cell_type": "markdown",
      "metadata": {
        "id": "Sj7ERdkwgQ0n",
        "colab_type": "text"
      },
      "source": [
        "Копирование файлов с Git на локальный диск виртуальной машины - вставка ссылки с гитхаба: "
      ]
    },
    {
      "cell_type": "code",
      "metadata": {
        "id": "kOLXvPzApR-o",
        "colab_type": "code",
        "outputId": "757551e4-861b-4ab2-ddd6-bd87faaa2ff3",
        "colab": {
          "base_uri": "https://localhost:8080/",
          "height": 136
        }
      },
      "source": [
        "!git clone https://github.com/smartsinovich/Simple-Audio-Recognition.git\n"
      ],
      "execution_count": 0,
      "outputs": [
        {
          "output_type": "stream",
          "text": [
            "Cloning into 'Simple-Audio-Recognition'...\n",
            "remote: Enumerating objects: 51, done.\u001b[K\n",
            "remote: Counting objects:   1% (1/51)\u001b[K\rremote: Counting objects:   3% (2/51)\u001b[K\rremote: Counting objects:   5% (3/51)\u001b[K\rremote: Counting objects:   7% (4/51)\u001b[K\rremote: Counting objects:   9% (5/51)\u001b[K\rremote: Counting objects:  11% (6/51)\u001b[K\rremote: Counting objects:  13% (7/51)\u001b[K\rremote: Counting objects:  15% (8/51)\u001b[K\rremote: Counting objects:  17% (9/51)\u001b[K\rremote: Counting objects:  19% (10/51)\u001b[K\rremote: Counting objects:  21% (11/51)\u001b[K\rremote: Counting objects:  23% (12/51)\u001b[K\rremote: Counting objects:  25% (13/51)\u001b[K\rremote: Counting objects:  27% (14/51)\u001b[K\rremote: Counting objects:  29% (15/51)\u001b[K\rremote: Counting objects:  31% (16/51)\u001b[K\rremote: Counting objects:  33% (17/51)\u001b[K\rremote: Counting objects:  35% (18/51)\u001b[K\rremote: Counting objects:  37% (19/51)\u001b[K\rremote: Counting objects:  39% (20/51)\u001b[K\rremote: Counting objects:  41% (21/51)\u001b[K\rremote: Counting objects:  43% (22/51)\u001b[K\rremote: Counting objects:  45% (23/51)\u001b[K\rremote: Counting objects:  47% (24/51)\u001b[K\rremote: Counting objects:  49% (25/51)\u001b[K\rremote: Counting objects:  50% (26/51)\u001b[K\rremote: Counting objects:  52% (27/51)\u001b[K\rremote: Counting objects:  54% (28/51)\u001b[K\rremote: Counting objects:  56% (29/51)\u001b[K\rremote: Counting objects:  58% (30/51)\u001b[K\rremote: Counting objects:  60% (31/51)\u001b[K\rremote: Counting objects:  62% (32/51)\u001b[K\rremote: Counting objects:  64% (33/51)\u001b[K\rremote: Counting objects:  66% (34/51)\u001b[K\rremote: Counting objects:  68% (35/51)\u001b[K\rremote: Counting objects:  70% (36/51)\u001b[K\rremote: Counting objects:  72% (37/51)\u001b[K\rremote: Counting objects:  74% (38/51)\u001b[K\rremote: Counting objects:  76% (39/51)\u001b[K\rremote: Counting objects:  78% (40/51)\u001b[K\rremote: Counting objects:  80% (41/51)\u001b[K\rremote: Counting objects:  82% (42/51)\u001b[K\rremote: Counting objects:  84% (43/51)\u001b[K\rremote: Counting objects:  86% (44/51)\u001b[K\rremote: Counting objects:  88% (45/51)\u001b[K\rremote: Counting objects:  90% (46/51)\u001b[K\rremote: Counting objects:  92% (47/51)\u001b[K\rremote: Counting objects:  94% (48/51)\u001b[K\rremote: Counting objects:  96% (49/51)\u001b[K\rremote: Counting objects:  98% (50/51)\u001b[K\rremote: Counting objects: 100% (51/51)\u001b[K\rremote: Counting objects: 100% (51/51), done.\u001b[K\n",
            "remote: Compressing objects:   1% (1/51)\u001b[K\rremote: Compressing objects:   3% (2/51)\u001b[K\rremote: Compressing objects:   5% (3/51)\u001b[K\rremote: Compressing objects:   7% (4/51)\u001b[K\rremote: Compressing objects:   9% (5/51)\u001b[K\rremote: Compressing objects:  11% (6/51)\u001b[K\rremote: Compressing objects:  13% (7/51)\u001b[K\rremote: Compressing objects:  15% (8/51)\u001b[K\rremote: Compressing objects:  17% (9/51)\u001b[K\rremote: Compressing objects:  19% (10/51)\u001b[K\rremote: Compressing objects:  21% (11/51)\u001b[K\rremote: Compressing objects:  23% (12/51)\u001b[K\rremote: Compressing objects:  25% (13/51)\u001b[K\rremote: Compressing objects:  27% (14/51)\u001b[K\rremote: Compressing objects:  29% (15/51)\u001b[K\rremote: Compressing objects:  31% (16/51)\u001b[K\rremote: Compressing objects:  33% (17/51)\u001b[K\rremote: Compressing objects:  35% (18/51)\u001b[K\rremote: Compressing objects:  37% (19/51)\u001b[K\rremote: Compressing objects:  39% (20/51)\u001b[K\rremote: Compressing objects:  41% (21/51)\u001b[K\rremote: Compressing objects:  43% (22/51)\u001b[K\rremote: Compressing objects:  45% (23/51)\u001b[K\rremote: Compressing objects:  47% (24/51)\u001b[K\rremote: Compressing objects:  49% (25/51)\u001b[K\rremote: Compressing objects:  50% (26/51)\u001b[K\rremote: Compressing objects:  52% (27/51)\u001b[K\rremote: Compressing objects:  54% (28/51)\u001b[K\rremote: Compressing objects:  56% (29/51)\u001b[K\rremote: Compressing objects:  58% (30/51)\u001b[K\rremote: Compressing objects:  60% (31/51)\u001b[K\rremote: Compressing objects:  62% (32/51)\u001b[K\rremote: Compressing objects:  64% (33/51)\u001b[K\rremote: Compressing objects:  66% (34/51)\u001b[K\rremote: Compressing objects:  68% (35/51)\u001b[K\rremote: Compressing objects:  70% (36/51)\u001b[K\rremote: Compressing objects:  72% (37/51)\u001b[K\rremote: Compressing objects:  74% (38/51)\u001b[K\rremote: Compressing objects:  76% (39/51)\u001b[K\rremote: Compressing objects:  78% (40/51)\u001b[K\rremote: Compressing objects:  80% (41/51)\u001b[K\rremote: Compressing objects:  82% (42/51)\u001b[K\rremote: Compressing objects:  84% (43/51)\u001b[K\rremote: Compressing objects:  86% (44/51)\u001b[K\rremote: Compressing objects:  88% (45/51)\u001b[K\rremote: Compressing objects:  90% (46/51)\u001b[K\rremote: Compressing objects:  92% (47/51)\u001b[K\rremote: Compressing objects:  94% (48/51)\u001b[K\rremote: Compressing objects:  96% (49/51)\u001b[K\rremote: Compressing objects:  98% (50/51)\u001b[K\rremote: Compressing objects: 100% (51/51)\u001b[K\rremote: Compressing objects: 100% (51/51), done.\u001b[K\n",
            "Receiving objects:   0% (1/265)   \rReceiving objects:   1% (3/265)   \rReceiving objects:   2% (6/265)   \rReceiving objects:   3% (8/265)   \rReceiving objects:   4% (11/265)   \rReceiving objects:   5% (14/265)   \rReceiving objects:   6% (16/265)   \rReceiving objects:   7% (19/265)   \rReceiving objects:   8% (22/265)   \rReceiving objects:   9% (24/265)   \rReceiving objects:  10% (27/265)   \rReceiving objects:  11% (30/265)   \rReceiving objects:  12% (32/265)   \rReceiving objects:  13% (35/265)   \rReceiving objects:  14% (38/265)   \rReceiving objects:  15% (40/265)   \rReceiving objects:  16% (43/265)   \rReceiving objects:  17% (46/265)   \rReceiving objects:  18% (48/265)   \rReceiving objects:  19% (51/265)   \rReceiving objects:  20% (53/265)   \rReceiving objects:  21% (56/265)   \rReceiving objects:  22% (59/265)   \rReceiving objects:  23% (61/265)   \rReceiving objects:  24% (64/265)   \rReceiving objects:  25% (67/265)   \rReceiving objects:  26% (69/265)   \rReceiving objects:  27% (72/265)   \rReceiving objects:  28% (75/265)   \rReceiving objects:  29% (77/265)   \rReceiving objects:  30% (80/265)   \rReceiving objects:  31% (83/265)   \rReceiving objects:  32% (85/265)   \rReceiving objects:  33% (88/265)   \rReceiving objects:  34% (91/265)   \rReceiving objects:  35% (93/265)   \rReceiving objects:  36% (96/265)   \rReceiving objects:  37% (99/265)   \rReceiving objects:  38% (101/265)   \rReceiving objects:  39% (104/265)   \rReceiving objects:  40% (106/265)   \rReceiving objects:  41% (109/265)   \rReceiving objects:  42% (112/265)   \rReceiving objects:  43% (114/265)   \rReceiving objects:  44% (117/265)   \rReceiving objects:  45% (120/265)   \rReceiving objects:  46% (122/265)   \rReceiving objects:  47% (125/265)   \rReceiving objects:  48% (128/265)   \rReceiving objects:  49% (130/265)   \rReceiving objects:  50% (133/265)   \rReceiving objects:  51% (136/265)   \rReceiving objects:  52% (138/265)   \rReceiving objects:  53% (141/265)   \rReceiving objects:  54% (144/265)   \rReceiving objects:  55% (146/265)   \rReceiving objects:  56% (149/265)   \rReceiving objects:  57% (152/265)   \rReceiving objects:  58% (154/265)   \rReceiving objects:  59% (157/265)   \rReceiving objects:  60% (159/265)   \rReceiving objects:  61% (162/265)   \rReceiving objects:  62% (165/265)   \rReceiving objects:  63% (167/265)   \rReceiving objects:  64% (170/265)   \rReceiving objects:  65% (173/265)   \rReceiving objects:  66% (175/265)   \rReceiving objects:  67% (178/265)   \rReceiving objects:  68% (181/265)   \rReceiving objects:  69% (183/265)   \rReceiving objects:  70% (186/265)   \rReceiving objects:  71% (189/265)   \rReceiving objects:  72% (191/265)   \rReceiving objects:  73% (194/265)   \rReceiving objects:  74% (197/265)   \rReceiving objects:  75% (199/265)   \rReceiving objects:  76% (202/265)   \rReceiving objects:  77% (205/265)   \rReceiving objects:  78% (207/265)   \rReceiving objects:  79% (210/265)   \rReceiving objects:  80% (212/265)   \rReceiving objects:  81% (215/265)   \rReceiving objects:  82% (218/265)   \rReceiving objects:  83% (220/265)   \rReceiving objects:  84% (223/265)   \rReceiving objects:  85% (226/265)   \rReceiving objects:  86% (228/265)   \rReceiving objects:  87% (231/265)   \rremote: Total 265 (delta 30), reused 0 (delta 0), pack-reused 214\u001b[K\n",
            "Receiving objects:  88% (234/265)   \rReceiving objects:  89% (236/265)   \rReceiving objects:  90% (239/265)   \rReceiving objects:  91% (242/265)   \rReceiving objects:  92% (244/265)   \rReceiving objects:  93% (247/265)   \rReceiving objects:  94% (250/265)   \rReceiving objects:  95% (252/265)   \rReceiving objects:  96% (255/265)   \rReceiving objects:  97% (258/265)   \rReceiving objects:  98% (260/265)   \rReceiving objects:  99% (263/265)   \rReceiving objects: 100% (265/265)   \rReceiving objects: 100% (265/265), 3.91 MiB | 26.52 MiB/s, done.\n",
            "Resolving deltas:   0% (0/75)   \rResolving deltas:  29% (22/75)   \rResolving deltas:  30% (23/75)   \rResolving deltas:  32% (24/75)   \rResolving deltas:  40% (30/75)   \rResolving deltas:  41% (31/75)   \rResolving deltas:  44% (33/75)   \rResolving deltas:  45% (34/75)   \rResolving deltas:  46% (35/75)   \rResolving deltas:  50% (38/75)   \rResolving deltas:  53% (40/75)   \rResolving deltas:  56% (42/75)   \rResolving deltas:  57% (43/75)   \rResolving deltas:  58% (44/75)   \rResolving deltas:  74% (56/75)   \rResolving deltas:  88% (66/75)   \rResolving deltas:  90% (68/75)   \rResolving deltas:  98% (74/75)   \rResolving deltas: 100% (75/75)   \rResolving deltas: 100% (75/75), done.\n"
          ],
          "name": "stdout"
        }
      ]
    },
    {
      "cell_type": "code",
      "metadata": {
        "id": "eoAsbJxJDqEm",
        "colab_type": "code",
        "outputId": "ecbe10ab-3091-4ff4-eb2e-379d4ec026d6",
        "colab": {
          "base_uri": "https://localhost:8080/",
          "height": 139
        }
      },
      "source": [
        "!pip install soundfile"
      ],
      "execution_count": 0,
      "outputs": [
        {
          "output_type": "stream",
          "text": [
            "Collecting soundfile\n",
            "  Downloading https://files.pythonhosted.org/packages/eb/f2/3cbbbf3b96fb9fa91582c438b574cff3f45b29c772f94c400e2c99ef5db9/SoundFile-0.10.3.post1-py2.py3-none-any.whl\n",
            "Requirement already satisfied: cffi>=1.0 in /usr/local/lib/python3.6/dist-packages (from soundfile) (1.14.0)\n",
            "Requirement already satisfied: pycparser in /usr/local/lib/python3.6/dist-packages (from cffi>=1.0->soundfile) (2.19)\n",
            "Installing collected packages: soundfile\n",
            "Successfully installed soundfile-0.10.3.post1\n"
          ],
          "name": "stdout"
        }
      ]
    },
    {
      "cell_type": "code",
      "metadata": {
        "id": "KqH8kz9KDLjS",
        "colab_type": "code",
        "outputId": "d993ecb1-3da0-4737-bcc8-5c799a8a9049",
        "colab": {
          "base_uri": "https://localhost:8080/",
          "height": 105
        }
      },
      "source": [
        "!pip install pydub"
      ],
      "execution_count": 0,
      "outputs": [
        {
          "output_type": "stream",
          "text": [
            "Collecting pydub\n",
            "  Downloading https://files.pythonhosted.org/packages/79/db/eaf620b73a1eec3c8c6f8f5b0b236a50f9da88ad57802154b7ba7664d0b8/pydub-0.23.1-py2.py3-none-any.whl\n",
            "Installing collected packages: pydub\n",
            "Successfully installed pydub-0.23.1\n"
          ],
          "name": "stdout"
        }
      ]
    },
    {
      "cell_type": "code",
      "metadata": {
        "id": "snvxMSpLWg6a",
        "colab_type": "code",
        "colab": {}
      },
      "source": [
        "import os\n",
        "import numpy as np\n",
        "import keras\n",
        "import math\n",
        "from keras.models import load_model\n",
        "from scipy.io import wavfile\n",
        "from scipy.fftpack import dct\n",
        "from scipy.io import wavfile\n",
        "import scipy.io.wavfile\n",
        "import matplotlib.pyplot as plt"
      ],
      "execution_count": 0,
      "outputs": []
    },
    {
      "cell_type": "markdown",
      "metadata": {
        "id": "cLegd5H7uVAF",
        "colab_type": "text"
      },
      "source": [
        "\n",
        "\n",
        "---\n",
        "\n"
      ]
    },
    {
      "cell_type": "code",
      "metadata": {
        "id": "ToqjQbOavjIp",
        "colab_type": "code",
        "colab": {}
      },
      "source": [
        "\n",
        "\n",
        "#+++++++++++++++++++++++++++++++++++++++++++++++++++++++++++++++++++++++++\n",
        "# Нужно указать путь:\n",
        "dir_path = '/content' # откуда берем файлы \n",
        "dir_path_mod = '/content' # куда складываем обработанные файлы. скидываем в тот же директорий или в другой\n",
        "\n",
        "#______________________________________________\n",
        "\n",
        "#изменяем кол-во каналов до 1 и framerate до 16000, длину сокращаем или дополняем молчанием до 1 сек\n",
        "from pydub import silence, AudioSegment\n",
        "audio = AudioSegment.from_file(dir_path + '/' + sample_file, format=\"wav\")\n",
        "\n",
        "\n",
        "def preprocess_audio(filename):\n",
        "    # Trim or pad audio segment to 10000ms\n",
        "   \n",
        "    padding = AudioSegment.silent(duration=1000)         # ставим [:1000] если обрабатывам raw audio files\n",
        "    segment = AudioSegment.from_wav(filename)[:1000]     # ставим [:1000] если обрабатывам raw audio files\n",
        "    segment = padding.overlay(segment)\n",
        "    \n",
        "    # Set frame rate to 16000\n",
        "    segment = segment.set_frame_rate(16000).set_channels(1)  # ставим 16000 если обрабатывам raw audio files\n",
        "\n",
        "    # Export segment as wav\n",
        "    modified_file = \"seg_\" + sample_file    # ставим seg если обрабатывам файлы для потока\n",
        "    segment.export(dir_path_mod + '/' + modified_file, format='wav')\n",
        "    \n",
        "    \n",
        "#preprocess_audio(dir_path + '/' + sample_file)\n",
        "\n"
      ],
      "execution_count": 0,
      "outputs": []
    },
    {
      "cell_type": "code",
      "metadata": {
        "id": "hDDH3I_IbnPe",
        "colab_type": "code",
        "outputId": "6685b888-92b0-4c51-acb6-6338d1ce5495",
        "colab": {
          "base_uri": "https://localhost:8080/",
          "height": 85
        }
      },
      "source": [
        "dir_path = os.path.join(os.path.dirname(os.path.abspath('__file__')))\n",
        "#dir_path = os.path.join(os.path.dirname(os.path.abspath('__file__')), dir_phrase) # нужно указывать наверху название фразы/директорий\n",
        "files = os.listdir(dir_path)\n",
        "sample_files = [i for i in files if i.endswith('.wav')]\n",
        "print(sample_files)\n",
        "\n",
        "for sample_file in sample_files:\n",
        " #   speech_command_algo(dir_path,sample_file)\n",
        " print(sample_file)\n",
        " preprocess_audio(sample_file)"
      ],
      "execution_count": 0,
      "outputs": [
        {
          "output_type": "stream",
          "text": [
            "['1_up_dog_marvin.wav', '2_up_dog_marvin.wav', '3_up_dog_marvin.wav']\n",
            "1_up_dog_marvin.wav\n",
            "2_up_dog_marvin.wav\n",
            "3_up_dog_marvin.wav\n"
          ],
          "name": "stdout"
        }
      ]
    },
    {
      "cell_type": "code",
      "metadata": {
        "id": "zRGO9SkOZqai",
        "colab_type": "code",
        "outputId": "a58119c2-056d-4288-bfb1-54551e55f845",
        "colab": {
          "base_uri": "https://localhost:8080/",
          "height": 839
        }
      },
      "source": [
        "# для контроля можно сравнить оригинальный и полученный файл:\n",
        "\n",
        "sample_file = '2_up_dog_marvin.wav'\n",
        "\n",
        "import wave\n",
        "obj = wave.open(dir_path +'/' + sample_file,'r')\n",
        "print( \"Number of channels\",obj.getnchannels())\n",
        "print ( \"Sample width\",obj.getsampwidth())\n",
        "print ( \"Frame rate.\",obj.getframerate())\n",
        "print (\"Number of frames\",obj.getnframes())\n",
        "print ( \"parameters:\",obj.getparams())\n",
        "obj.close()\n",
        "rate, data = scipy.io.wavfile.read(dir_path + '/' + sample_file)\n",
        "d = obj.getnframes()/obj.getframerate()\n",
        "print(sample_file)\n",
        "print(rate)\n",
        "print(data)\n",
        "print(\"sound durantion = \", d)\n",
        "plt.plot(data)\n",
        "plt.show()\n",
        "\n",
        "modified_file = \"seg_2_up_dog_marvin.wav\"\n",
        "obj = wave.open(dir_path_mod +'/' + modified_file,'r')\n",
        "print( \"Number of channels\",obj.getnchannels())\n",
        "print ( \"Sample width\",obj.getsampwidth())\n",
        "print ( \"Frame rate.\",obj.getframerate())\n",
        "print (\"Number of frames\",obj.getnframes())\n",
        "print ( \"parameters:\",obj.getparams())\n",
        "obj.close()\n",
        "rate, data = scipy.io.wavfile.read(dir_path_mod + '/' + modified_file)\n",
        "d = obj.getnframes()/obj.getframerate()\n",
        "print(modified_file)\n",
        "print(rate)\n",
        "print(data)\n",
        "print(\"sound durantion = \", d)\n",
        "plt.plot(data)\n",
        "plt.show()\n"
      ],
      "execution_count": 0,
      "outputs": [
        {
          "output_type": "stream",
          "text": [
            "Number of channels 1\n",
            "Sample width 2\n",
            "Frame rate. 16000\n",
            "Number of frames 14400\n",
            "parameters: _wave_params(nchannels=1, sampwidth=2, framerate=16000, nframes=14400, comptype='NONE', compname='not compressed')\n",
            "2_up_dog_marvin.wav\n",
            "16000\n",
            "[ 0  0  0 ... -7 -2 -1]\n",
            "sound durantion =  0.9\n"
          ],
          "name": "stdout"
        },
        {
          "output_type": "display_data",
          "data": {
            "image/png": "[encoded data removed]",
            "text/plain": [
              "<Figure size 432x288 with 1 Axes>"
            ]
          },
          "metadata": {
            "tags": []
          }
        },
        {
          "output_type": "stream",
          "text": [
            "Number of channels 1\n",
            "Sample width 2\n",
            "Frame rate. 16000\n",
            "Number of frames 16000\n",
            "parameters: _wave_params(nchannels=1, sampwidth=2, framerate=16000, nframes=16000, comptype='NONE', compname='not compressed')\n",
            "seg_2_up_dog_marvin.wav\n",
            "16000\n",
            "[0 0 0 ... 0 0 0]\n",
            "sound durantion =  1.0\n"
          ],
          "name": "stdout"
        },
        {
          "output_type": "display_data",
          "data": {
            "image/png": "[encoded data removed]",
            "text/plain": [
              "<Figure size 432x288 with 1 Axes>"
            ]
          },
          "metadata": {
            "tags": []
          }
        }
      ]
    },
    {
      "cell_type": "markdown",
      "metadata": {
        "id": "JYab3fKlw88O",
        "colab_type": "text"
      },
      "source": [
        "\n",
        "\n",
        "---\n",
        "\n",
        "\n",
        "\n",
        "---\n",
        "\n"
      ]
    }
  ]
}