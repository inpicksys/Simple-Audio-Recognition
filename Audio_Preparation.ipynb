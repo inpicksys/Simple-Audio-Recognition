{
  "nbformat": 4,
  "nbformat_minor": 0,
  "metadata": {
    "colab": {
      "name": "Audio_Preparation.ipynb",
      "provenance": [],
      "collapsed_sections": []
    },
    "kernelspec": {
      "name": "python3",
      "display_name": "Python 3"
    }
  },
  "cells": [
    {
      "cell_type": "code",
      "metadata": {
        "id": "5K7dBaFGo1Q4",
        "colab_type": "code",
        "colab": {}
      },
      "source": [
        ""
      ],
      "execution_count": 0,
      "outputs": []
    },
    {
      "cell_type": "markdown",
      "metadata": {
        "id": "wrSoPHm55snj",
        "colab_type": "text"
      },
      "source": [
        "# Подготовка аудио файлов"
      ]
    },
    {
      "cell_type": "markdown",
      "metadata": {
        "id": "Sj7ERdkwgQ0n",
        "colab_type": "text"
      },
      "source": [
        "Копирование файлов с Git на локальный диск виртуальной машины - вставка ссылки с гитхаба: "
      ]
    },
    {
      "cell_type": "code",
      "metadata": {
        "id": "kOLXvPzApR-o",
        "colab_type": "code",
        "outputId": "3888ef6a-b77d-43c2-afc9-69eec9e596b2",
        "colab": {
          "base_uri": "https://localhost:8080/",
          "height": 119
        }
      },
      "source": [
        "!git clone https://github.com/smartsinovich/Simple-Audio-Recognition.git"
      ],
      "execution_count": 1,
      "outputs": [
        {
          "output_type": "stream",
          "text": [
            "Cloning into 'Simple-Audio-Recognition'...\n",
            "remote: Enumerating objects: 42, done.\u001b[K\n",
            "remote: Counting objects: 100% (42/42), done.\u001b[K\n",
            "remote: Compressing objects: 100% (41/41), done.\u001b[K\n",
            "remote: Total 42 (delta 2), reused 0 (delta 0), pack-reused 0\u001b[K\n",
            "Unpacking objects: 100% (42/42), done.\n"
          ],
          "name": "stdout"
        }
      ]
    },
    {
      "cell_type": "code",
      "metadata": {
        "id": "eoAsbJxJDqEm",
        "colab_type": "code",
        "outputId": "9d0cbfd7-315b-4e18-bf05-6a875e4efa67",
        "colab": {
          "base_uri": "https://localhost:8080/",
          "height": 139
        }
      },
      "source": [
        "!pip install soundfile"
      ],
      "execution_count": 2,
      "outputs": [
        {
          "output_type": "stream",
          "text": [
            "Collecting soundfile\n",
            "  Downloading https://files.pythonhosted.org/packages/eb/f2/3cbbbf3b96fb9fa91582c438b574cff3f45b29c772f94c400e2c99ef5db9/SoundFile-0.10.3.post1-py2.py3-none-any.whl\n",
            "Requirement already satisfied: cffi>=1.0 in /usr/local/lib/python3.6/dist-packages (from soundfile) (1.14.0)\n",
            "Requirement already satisfied: pycparser in /usr/local/lib/python3.6/dist-packages (from cffi>=1.0->soundfile) (2.19)\n",
            "Installing collected packages: soundfile\n",
            "Successfully installed soundfile-0.10.3.post1\n"
          ],
          "name": "stdout"
        }
      ]
    },
    {
      "cell_type": "code",
      "metadata": {
        "id": "KqH8kz9KDLjS",
        "colab_type": "code",
        "outputId": "79720509-ca1f-489d-a938-11a8744d34a9",
        "colab": {
          "base_uri": "https://localhost:8080/",
          "height": 105
        }
      },
      "source": [
        "!pip install pydub"
      ],
      "execution_count": 3,
      "outputs": [
        {
          "output_type": "stream",
          "text": [
            "Collecting pydub\n",
            "  Downloading https://files.pythonhosted.org/packages/79/db/eaf620b73a1eec3c8c6f8f5b0b236a50f9da88ad57802154b7ba7664d0b8/pydub-0.23.1-py2.py3-none-any.whl\n",
            "Installing collected packages: pydub\n",
            "Successfully installed pydub-0.23.1\n"
          ],
          "name": "stdout"
        }
      ]
    },
    {
      "cell_type": "markdown",
      "metadata": {
        "id": "cLegd5H7uVAF",
        "colab_type": "text"
      },
      "source": [
        "\n",
        "\n",
        "---\n",
        "\n"
      ]
    },
    {
      "cell_type": "code",
      "metadata": {
        "id": "ToqjQbOavjIp",
        "colab_type": "code",
        "colab": {
          "base_uri": "https://localhost:8080/",
          "height": 839
        },
        "outputId": "35c6a5c0-2459-45fc-945a-240fe8026043"
      },
      "source": [
        "import os\n",
        "import numpy as np\n",
        "import keras\n",
        "import math\n",
        "from keras.models import load_model\n",
        "from scipy.io import wavfile\n",
        "from scipy.fftpack import dct\n",
        "from scipy.io import wavfile\n",
        "import scipy.io.wavfile\n",
        "import matplotlib.pyplot as plt\n",
        "\n",
        "#+++++++++++++++++++++++++++++++++++++++++++++++++++++++++++++++++++++++++\n",
        "sample_file ='ee_down1.wav'\n",
        "dir_path = '/content/Simple-Audio-Recognition/MyRawAudio'\n",
        "dir_path_mod = '/content/Simple-Audio-Recognition/MyRawAudio/My_Commands'\n",
        "\n",
        "#изменяем кол-во каналов до 1 и framerate до 16000, длину сокращаем или дополняем молчанием до 1 сек\n",
        "from pydub import silence, AudioSegment\n",
        "audio = AudioSegment.from_file(dir_path + '/' + sample_file, format=\"wav\")\n",
        "\n",
        "\n",
        "def preprocess_audio(filename):\n",
        "    # Trim or pad audio segment to 10000ms\n",
        "    padding = AudioSegment.silent(duration=1000)\n",
        "    segment = AudioSegment.from_wav(filename)[:1000]\n",
        "    segment = padding.overlay(segment)\n",
        "    \n",
        "    # Set frame rate to 16000\n",
        "    segment = segment.set_frame_rate(16000).set_channels(1)\n",
        "\n",
        "    # Export segment as wav\n",
        "    modified_file = \"mod_\" + sample_file\n",
        "    segment.export(dir_path_mod + '/' + modified_file, format='wav')\n",
        "    \n",
        "    \n",
        "preprocess_audio(dir_path + '/' + sample_file)\n",
        "modified_file = \"mod_\" + sample_file\n",
        "\n",
        "\n",
        "import wave\n",
        "obj = wave.open(dir_path +'/' + sample_file,'r')\n",
        "print( \"Number of channels\",obj.getnchannels())\n",
        "print ( \"Sample width\",obj.getsampwidth())\n",
        "print ( \"Frame rate.\",obj.getframerate())\n",
        "print (\"Number of frames\",obj.getnframes())\n",
        "print ( \"parameters:\",obj.getparams())\n",
        "obj.close()\n",
        "rate, data = scipy.io.wavfile.read(dir_path + '/' + sample_file)\n",
        "d = obj.getnframes()/obj.getframerate()\n",
        "print(sample_file)\n",
        "print(rate)\n",
        "print(data)\n",
        "print(\"sound durantion = \", d)\n",
        "plt.plot(data)\n",
        "plt.show()\n",
        "\n",
        "\n",
        "obj = wave.open(dir_path_mod +'/' + modified_file,'r')\n",
        "print( \"Number of channels\",obj.getnchannels())\n",
        "print ( \"Sample width\",obj.getsampwidth())\n",
        "print ( \"Frame rate.\",obj.getframerate())\n",
        "print (\"Number of frames\",obj.getnframes())\n",
        "print ( \"parameters:\",obj.getparams())\n",
        "obj.close()\n",
        "rate, data = scipy.io.wavfile.read(dir_path_mod + '/' + modified_file)\n",
        "d = obj.getnframes()/obj.getframerate()\n",
        "print(modified_file)\n",
        "print(rate)\n",
        "print(data)\n",
        "print(\"sound durantion = \", d)\n",
        "plt.plot(data)\n",
        "plt.show()\n"
      ],
      "execution_count": 6,
      "outputs": [
        {
          "output_type": "stream",
          "text": [
            "Number of channels 1\n",
            "Sample width 2\n",
            "Frame rate. 22050\n",
            "Number of frames 18433\n",
            "parameters: _wave_params(nchannels=1, sampwidth=2, framerate=22050, nframes=18433, comptype='NONE', compname='not compressed')\n",
            "ee_down1.wav\n",
            "22050\n",
            "[0 0 0 ... 0 0 0]\n",
            "sound durantion =  0.8359637188208616\n"
          ],
          "name": "stdout"
        },
        {
          "output_type": "display_data",
          "data": {
            "image/png": "[encoded data removed]",
            "text/plain": [
              "<Figure size 432x288 with 1 Axes>"
            ]
          },
          "metadata": {
            "tags": []
          }
        },
        {
          "output_type": "stream",
          "text": [
            "Number of channels 1\n",
            "Sample width 2\n",
            "Frame rate. 16000\n",
            "Number of frames 16000\n",
            "parameters: _wave_params(nchannels=1, sampwidth=2, framerate=16000, nframes=16000, comptype='NONE', compname='not compressed')\n",
            "mod_ee_down1.wav\n",
            "16000\n",
            "[0 0 0 ... 0 0 0]\n",
            "sound durantion =  1.0\n"
          ],
          "name": "stdout"
        },
        {
          "output_type": "display_data",
          "data": {
            "image/png": "[encoded data removed]",
            "text/plain": [
              "<Figure size 432x288 with 1 Axes>"
            ]
          },
          "metadata": {
            "tags": []
          }
        }
      ]
    },
    {
      "cell_type": "markdown",
      "metadata": {
        "id": "JYab3fKlw88O",
        "colab_type": "text"
      },
      "source": [
        "\n",
        "\n",
        "---\n",
        "\n",
        "\n",
        "\n",
        "---\n",
        "\n"
      ]
    }
  ]
}