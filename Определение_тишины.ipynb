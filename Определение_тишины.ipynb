{
  "nbformat": 4,
  "nbformat_minor": 0,
  "metadata": {
    "colab": {
      "name": "Определение тишины.ipynb",
      "provenance": [],
      "collapsed_sections": []
    },
    "kernelspec": {
      "name": "python3",
      "display_name": "Python 3"
    },
    "accelerator": "GPU"
  },
  "cells": [
    {
      "cell_type": "code",
      "metadata": {
        "id": "oI-iutOo2aYW",
        "colab_type": "code",
        "colab": {}
      },
      "source": [
        "# перезагрузить ноутбук\n",
        "!kill -9 -1"
      ],
      "execution_count": 0,
      "outputs": []
    },
    {
      "cell_type": "markdown",
      "metadata": {
        "id": "7vE8pBPp6L5W",
        "colab_type": "text"
      },
      "source": [
        "\n",
        "\n",
        "---\n",
        "\n",
        "\n",
        "\n",
        "---\n",
        "\n"
      ]
    },
    {
      "cell_type": "markdown",
      "metadata": {
        "id": "1J0GjwYNMx3J",
        "colab_type": "text"
      },
      "source": [
        "# Определяем координаты центров тишины. \n",
        "Эти координаты будут использованы для разрезания аудиопотока на части - фразу делим на слова"
      ]
    },
    {
      "cell_type": "code",
      "metadata": {
        "id": "2crtLhRH2WYF",
        "colab_type": "code",
        "colab": {
          "base_uri": "https://localhost:8080/",
          "height": 119
        },
        "outputId": "93518255-c2e8-47af-dfd9-919a88deb6f1"
      },
      "source": [
        "!git clone https://github.com/smartsinovich/Simple-Audio-Recognition.git"
      ],
      "execution_count": 1,
      "outputs": [
        {
          "output_type": "stream",
          "text": [
            "Cloning into 'Simple-Audio-Recognition'...\n",
            "remote: Enumerating objects: 24, done.\u001b[K\n",
            "remote: Counting objects: 100% (24/24), done.\u001b[K\n",
            "remote: Compressing objects: 100% (20/20), done.\u001b[K\n",
            "remote: Total 91 (delta 4), reused 0 (delta 0), pack-reused 67\u001b[K\n",
            "Unpacking objects: 100% (91/91), done.\n"
          ],
          "name": "stdout"
        }
      ]
    },
    {
      "cell_type": "code",
      "metadata": {
        "id": "lgwRHFPR2R3w",
        "colab_type": "code",
        "outputId": "8af52603-0a27-4a0d-c444-4a8d20a57084",
        "colab": {
          "base_uri": "https://localhost:8080/",
          "height": 105
        }
      },
      "source": [
        "!pip install pydub"
      ],
      "execution_count": 2,
      "outputs": [
        {
          "output_type": "stream",
          "text": [
            "Collecting pydub\n",
            "  Downloading https://files.pythonhosted.org/packages/79/db/eaf620b73a1eec3c8c6f8f5b0b236a50f9da88ad57802154b7ba7664d0b8/pydub-0.23.1-py2.py3-none-any.whl\n",
            "Installing collected packages: pydub\n",
            "Successfully installed pydub-0.23.1\n"
          ],
          "name": "stdout"
        }
      ]
    },
    {
      "cell_type": "code",
      "metadata": {
        "id": "uJAh8LD32Qm_",
        "colab_type": "code",
        "outputId": "30c01c52-c74d-4cf0-da5c-fd0f4f40b78c",
        "colab": {
          "base_uri": "https://localhost:8080/",
          "height": 139
        }
      },
      "source": [
        "!pip install soundfile"
      ],
      "execution_count": 3,
      "outputs": [
        {
          "output_type": "stream",
          "text": [
            "Collecting soundfile\n",
            "  Downloading https://files.pythonhosted.org/packages/eb/f2/3cbbbf3b96fb9fa91582c438b574cff3f45b29c772f94c400e2c99ef5db9/SoundFile-0.10.3.post1-py2.py3-none-any.whl\n",
            "Requirement already satisfied: cffi>=1.0 in /usr/local/lib/python3.6/dist-packages (from soundfile) (1.14.0)\n",
            "Requirement already satisfied: pycparser in /usr/local/lib/python3.6/dist-packages (from cffi>=1.0->soundfile) (2.19)\n",
            "Installing collected packages: soundfile\n",
            "Successfully installed soundfile-0.10.3.post1\n"
          ],
          "name": "stdout"
        }
      ]
    },
    {
      "cell_type": "code",
      "metadata": {
        "id": "CFrW9lqM19Nv",
        "colab_type": "code",
        "colab": {}
      },
      "source": [
        "import numpy as np\n",
        "import random\n",
        "import itertools\n",
        "import librosa\n",
        "import IPython.display as ipd\n",
        "import matplotlib.pyplot as plt\n",
        "\n",
        "%matplotlib inline\n",
        "\n",
        "import soundfile as sf\n",
        "from scipy.io import wavfile\n",
        "import scipy.io.wavfile\n",
        "import matplotlib.pyplot as plt\n",
        "\n",
        "#import numpy\n",
        "#import numpy as np"
      ],
      "execution_count": 0,
      "outputs": []
    },
    {
      "cell_type": "code",
      "metadata": {
        "id": "sTfYTLi40cUC",
        "colab_type": "code",
        "colab": {}
      },
      "source": [
        "a = np.array([0, 0, 0, 0, 0, 0, 0, 0, 1, 1, 1, 1, 1, 1, 1, 1, 1, 1, 1, 1, 1, 1,\n",
        "       0, 1, 0, 1, 0, 0, 0, 0, 0, 0, 0, 0, 0, 0, 0, 0, 0, 0, 0, 0, 0, 0,\n",
        "       0, 0, 0, 0, 1, 1, 1, 1, 1, 1, 1, 1, 1, 1, 1, 1, 1, 1, 1, 0, 0, 0,\n",
        "       0, 0, 0, 0, 0, 0, 0, 0, 0, 0, 1, 0, 0, 0, 0, 1, 1, 1, 1, 1, 1, 1,\n",
        "       1, 1, 1, 1, 1, 1, 1, 0, 1, 0, 0, 0, 0, 0, 0, 0, 0, 0, 0, 0, 0, 0,\n",
        "       0, 0, 0, 0, 0, 0, 0, 0, 0, 0], int)\n",
        "\n"
      ],
      "execution_count": 0,
      "outputs": []
    },
    {
      "cell_type": "code",
      "metadata": {
        "id": "K9E-bNf21PgU",
        "colab_type": "code",
        "outputId": "0748d001-e465-40ff-cffd-584f3991f533",
        "colab": {
          "base_uri": "https://localhost:8080/",
          "height": 265
        }
      },
      "source": [
        "plt.plot(a)\n",
        "plt.show()"
      ],
      "execution_count": 6,
      "outputs": [
        {
          "output_type": "display_data",
          "data": {
            "image/png": "[encoded data removed]",
            "text/plain": [
              "<Figure size 432x288 with 1 Axes>"
            ]
          },
          "metadata": {
            "tags": []
          }
        }
      ]
    },
    {
      "cell_type": "markdown",
      "metadata": {
        "id": "kJdCBLMq05Bb",
        "colab_type": "text"
      },
      "source": [
        "Решение берем отсюда: https://younglinux.info/python/task/id-range"
      ]
    },
    {
      "cell_type": "code",
      "metadata": {
        "id": "8zZnXlkS0tpe",
        "colab_type": "code",
        "outputId": "75a8a742-11b9-4bb4-db15-cf8025aeed16",
        "colab": {
          "base_uri": "https://localhost:8080/",
          "height": 85
        }
      },
      "source": [
        "\n",
        "#def my_function(a): # задаем массив\n",
        "   \n",
        "count = 0\n",
        "max_count = 0\n",
        "index = 0\n",
        "i = 0 \n",
        "while i < len(a):\n",
        "\tif a[i] == 1:\n",
        "\t\tcount += 1\n",
        "\telse:\n",
        "\t\tif count > max_count:\n",
        "\t\t\tmax_count = count\n",
        "\t\t\tindex = i-1 # последовательность закончилась на предыдущем элементе\n",
        "\t\tcount = 0\n",
        "\ti += 1\n",
        "\n",
        "  \n",
        " \n",
        "print(\"Количество элементов: \", max_count)\n",
        "print(\"id первого элемента: \", index-max_count+1)\n",
        "print(\"id последнего элемента: \", index)\n",
        "print(\"середина\", int(round(index - max_count/2)))"
      ],
      "execution_count": 7,
      "outputs": [
        {
          "output_type": "stream",
          "text": [
            "Количество элементов:  15\n",
            "id первого элемента:  48\n",
            "id последнего элемента:  62\n",
            "середина 54\n"
          ],
          "name": "stdout"
        }
      ]
    },
    {
      "cell_type": "code",
      "metadata": {
        "id": "lMeLzuJ36-d5",
        "colab_type": "code",
        "outputId": "31d591b3-5368-4c2a-e5ae-d9279e8904d7",
        "colab": {
          "base_uri": "https://localhost:8080/",
          "height": 34
        }
      },
      "source": [
        "int(round(index - max_count/2))"
      ],
      "execution_count": 8,
      "outputs": [
        {
          "output_type": "execute_result",
          "data": {
            "text/plain": [
              "54"
            ]
          },
          "metadata": {
            "tags": []
          },
          "execution_count": 8
        }
      ]
    },
    {
      "cell_type": "code",
      "metadata": {
        "id": "mXmBbhWS6-T0",
        "colab_type": "code",
        "outputId": "03153d5e-5193-4356-e9bb-6a8e24af39fb",
        "colab": {
          "base_uri": "https://localhost:8080/",
          "height": 34
        }
      },
      "source": [
        "a[index-max_count+1:index] # items start through end-1\n"
      ],
      "execution_count": 9,
      "outputs": [
        {
          "output_type": "execute_result",
          "data": {
            "text/plain": [
              "array([1, 1, 1, 1, 1, 1, 1, 1, 1, 1, 1, 1, 1, 1])"
            ]
          },
          "metadata": {
            "tags": []
          },
          "execution_count": 9
        }
      ]
    },
    {
      "cell_type": "markdown",
      "metadata": {
        "id": "eEezcIvP-8-K",
        "colab_type": "text"
      },
      "source": [
        "ОБнуляем полученное единички. ищем следущую самую длинную последовательность единичек"
      ]
    },
    {
      "cell_type": "code",
      "metadata": {
        "id": "T-9xaAUO-nAM",
        "colab_type": "code",
        "colab": {}
      },
      "source": [
        "\n",
        "a[index-max_count+1:index] = 0 #ОБнуляем полученное единички. "
      ],
      "execution_count": 0,
      "outputs": []
    },
    {
      "cell_type": "code",
      "metadata": {
        "id": "uIdKETDv_f63",
        "colab_type": "code",
        "colab": {}
      },
      "source": [
        "a1 = a\n"
      ],
      "execution_count": 0,
      "outputs": []
    },
    {
      "cell_type": "code",
      "metadata": {
        "id": "mofD_huG-16z",
        "colab_type": "code",
        "outputId": "d5da8fa3-0506-4058-817c-a48063413d76",
        "colab": {
          "base_uri": "https://localhost:8080/",
          "height": 265
        }
      },
      "source": [
        "plt.plot(a1)\n",
        "plt.show()"
      ],
      "execution_count": 12,
      "outputs": [
        {
          "output_type": "display_data",
          "data": {
            "image/png": "[encoded data removed]",
            "text/plain": [
              "<Figure size 432x288 with 1 Axes>"
            ]
          },
          "metadata": {
            "tags": []
          }
        }
      ]
    },
    {
      "cell_type": "code",
      "metadata": {
        "id": "FjLOQAMzCPQu",
        "colab_type": "code",
        "colab": {}
      },
      "source": [
        "a2 = a1.copy()\n",
        "a = a2"
      ],
      "execution_count": 0,
      "outputs": []
    },
    {
      "cell_type": "code",
      "metadata": {
        "id": "tfYLPrWzAHPi",
        "colab_type": "code",
        "outputId": "9cc75da6-eea5-4dd6-cb37-2f6da1e34883",
        "colab": {
          "base_uri": "https://localhost:8080/",
          "height": 85
        }
      },
      "source": [
        "count = 0\n",
        "max_count = 0\n",
        "index = 0\n",
        "i = 0 \n",
        "while i < len(a):\n",
        "\tif a[i] == 1:\n",
        "\t\tcount += 1\n",
        "\telse:\n",
        "\t\tif count > max_count:\n",
        "\t\t\tmax_count = count\n",
        "\t\t\tindex = i-1 # последовательность закончилась на предыдущем элементе\n",
        "\t\tcount = 0\n",
        "\ti += 1\n",
        " \n",
        "print(\"Количество элементов: \", max_count)\n",
        "print(\"id первого элемента: \", index-max_count+1)\n",
        "print(\"id последнего элемента: \", index)\n",
        "print(\"середина\", int(round(index - max_count/2)))"
      ],
      "execution_count": 14,
      "outputs": [
        {
          "output_type": "stream",
          "text": [
            "Количество элементов:  14\n",
            "id первого элемента:  8\n",
            "id последнего элемента:  21\n",
            "середина 14\n"
          ],
          "name": "stdout"
        }
      ]
    },
    {
      "cell_type": "code",
      "metadata": {
        "id": "9VDo0OeHCw0p",
        "colab_type": "code",
        "colab": {}
      },
      "source": [
        "a[index-max_count+1:index] = 0 #ОБнуляем полученное единички. "
      ],
      "execution_count": 0,
      "outputs": []
    },
    {
      "cell_type": "code",
      "metadata": {
        "id": "tkvMs9dRC6CL",
        "colab_type": "code",
        "outputId": "921e0b87-b8d5-47c3-ab8c-2fbeee6e8aba",
        "colab": {
          "base_uri": "https://localhost:8080/",
          "height": 265
        }
      },
      "source": [
        "plt.plot(a)\n",
        "plt.show()"
      ],
      "execution_count": 16,
      "outputs": [
        {
          "output_type": "display_data",
          "data": {
            "image/png": "[encoded data removed]",
            "text/plain": [
              "<Figure size 432x288 with 1 Axes>"
            ]
          },
          "metadata": {
            "tags": []
          }
        }
      ]
    },
    {
      "cell_type": "code",
      "metadata": {
        "id": "gyMrWc2SDWZT",
        "colab_type": "code",
        "colab": {}
      },
      "source": [
        "# делаем копию и запускаем снова\n",
        "a3 = a.copy()\n",
        "a = a3"
      ],
      "execution_count": 0,
      "outputs": []
    },
    {
      "cell_type": "code",
      "metadata": {
        "id": "lPl0PEnADtGo",
        "colab_type": "code",
        "outputId": "9b864c74-0ca2-4d70-ebda-fa82c9d17706",
        "colab": {
          "base_uri": "https://localhost:8080/",
          "height": 85
        }
      },
      "source": [
        "count = 0\n",
        "max_count = 0\n",
        "index = 0\n",
        "i = 0 \n",
        "while i < len(a):\n",
        "\tif a[i] == 1:\n",
        "\t\tcount += 1\n",
        "\telse:\n",
        "\t\tif count > max_count:\n",
        "\t\t\tmax_count = count\n",
        "\t\t\tindex = i-1 # последовательность закончилась на предыдущем элементе\n",
        "\t\tcount = 0\n",
        "\ti += 1\n",
        " \n",
        "print(\"Количество элементов: \", max_count)\n",
        "print(\"id первого элемента: \", index-max_count+1)\n",
        "print(\"id последнего элемента: \", index)\n",
        "print(\"середина\", int(round(index - max_count/2)))"
      ],
      "execution_count": 18,
      "outputs": [
        {
          "output_type": "stream",
          "text": [
            "Количество элементов:  14\n",
            "id первого элемента:  81\n",
            "id последнего элемента:  94\n",
            "середина 87\n"
          ],
          "name": "stdout"
        }
      ]
    },
    {
      "cell_type": "code",
      "metadata": {
        "id": "Ztac7uWuEs-r",
        "colab_type": "code",
        "outputId": "3cc608b5-06d6-45d9-a4e0-a7c5ae0e2048",
        "colab": {
          "base_uri": "https://localhost:8080/",
          "height": 265
        }
      },
      "source": [
        "a[index-max_count+1:index] = 0 #ОБнуляем полученное единички.\n",
        "# делаем копию и запускаем снова\n",
        "a4 = a.copy()\n",
        "a = a4\n",
        "plt.plot(a)\n",
        "plt.show()"
      ],
      "execution_count": 19,
      "outputs": [
        {
          "output_type": "display_data",
          "data": {
            "image/png": "[encoded data removed]",
            "text/plain": [
              "<Figure size 432x288 with 1 Axes>"
            ]
          },
          "metadata": {
            "tags": []
          }
        }
      ]
    },
    {
      "cell_type": "code",
      "metadata": {
        "id": "OupXP6arFA2Y",
        "colab_type": "code",
        "outputId": "0ff60cba-41e6-49cf-8212-e11c00d35dbe",
        "colab": {
          "base_uri": "https://localhost:8080/",
          "height": 85
        }
      },
      "source": [
        "count = 0\n",
        "max_count = 0\n",
        "index = 0\n",
        "i = 0 \n",
        "while i < len(a):\n",
        "\tif a[i] == 1:\n",
        "\t\tcount += 1\n",
        "\telse:\n",
        "\t\tif count > max_count:\n",
        "\t\t\tmax_count = count\n",
        "\t\t\tindex = i-1 # последовательность закончилась на предыдущем элементе\n",
        "\t\tcount = 0\n",
        "\ti += 1\n",
        " \n",
        "print(\"Количество элементов: \", max_count)\n",
        "print(\"id первого элемента: \", index-max_count+1)\n",
        "print(\"id последнего элемента: \", index)\n",
        "print(\"середина\", int(round(index - max_count/2)))"
      ],
      "execution_count": 20,
      "outputs": [
        {
          "output_type": "stream",
          "text": [
            "Количество элементов:  1\n",
            "id первого элемента:  21\n",
            "id последнего элемента:  21\n",
            "середина 20\n"
          ],
          "name": "stdout"
        }
      ]
    },
    {
      "cell_type": "markdown",
      "metadata": {
        "id": "F3Q43fOgEDuG",
        "colab_type": "text"
      },
      "source": [
        "у нас периоды звука не сильно отличаются друг от друга.\n",
        "\n",
        "Длина звука - это в нашем случае количество элементов.\n",
        "Звуки 1, 2, 3 имеют 14 индексов (количество элементов), а звук 4 - 1 элемент. \n",
        "Это означает, что более или менее длиные звуки кончились. \n",
        "Можем воспользоваться этим как сигналом для остановки поиска новых слов во фразе.\n",
        "Если отношение (количество элементов для первого звука / количеств элементов следующего звука) > 2, то функцию поиска середины звука останавливаем"
      ]
    },
    {
      "cell_type": "markdown",
      "metadata": {
        "id": "GzuN4HX4FpaV",
        "colab_type": "text"
      },
      "source": [
        "ИТОГО получили три индекса - центры звуков. \n",
        "C1 = середина 54.5\n",
        "C2 = середина 14.0\n",
        "C3 = середина 87.0\n",
        "\n",
        "Будем искать линии разрезов\n",
        "Первый разрез T0 = 0\n"
      ]
    },
    {
      "cell_type": "code",
      "metadata": {
        "id": "fnphYYv-EL-k",
        "colab_type": "code",
        "outputId": "615475d6-d074-4b72-ee51-4735ba1136f2",
        "colab": {
          "base_uri": "https://localhost:8080/",
          "height": 68
        }
      },
      "source": [
        "C1 = 54 # взято для примера, обработка файла 'seg_no_bed_bird.wav'\n",
        "C2 = 14\n",
        "C3 = 87\n",
        "\n",
        "Center_list  = [C1, C2, C3]\n",
        "print(Center_list)\n",
        "\n",
        "# ранжируем список центров звука по возростанию\n",
        "Center_list.sort()\n",
        "b = sorted(Center_list)\n",
        "print(b)\n",
        "print(range(len(b)))\n",
        "\n",
        "T1 = b[0]\n",
        "T2 = b[1]\n",
        "T3 = b[2]\n"
      ],
      "execution_count": 21,
      "outputs": [
        {
          "output_type": "stream",
          "text": [
            "[54, 14, 87]\n",
            "[14, 54, 87]\n",
            "range(0, 3)\n"
          ],
          "name": "stdout"
        }
      ]
    },
    {
      "cell_type": "markdown",
      "metadata": {
        "id": "T9wKHyIUPUhY",
        "colab_type": "text"
      },
      "source": [
        "Вычисляем точки разреза:"
      ]
    },
    {
      "cell_type": "code",
      "metadata": {
        "id": "pSWBD-iK5OH2",
        "colab_type": "code",
        "colab": {
          "base_uri": "https://localhost:8080/",
          "height": 68
        },
        "outputId": "67c7b1ac-01fc-47e8-a9d0-df1cb8b9e20a"
      },
      "source": [
        "# для фразы из трех слов - это две точки, для фразы из трех слов - две.\n",
        "# для файла 'seg_no_bed_bird.wav' - две точки.\n",
        " \n",
        "S1 = round(T1 + (T2-T1)/2)\n",
        "S2 = round(T2 + (T3-T2)/2)\n",
        "\n",
        "print(S1)\n",
        "print(S2)\n",
        "\n",
        "Split_list = [S1, S2], int\n",
        "print(Split_list) \n",
        "\n"
      ],
      "execution_count": 22,
      "outputs": [
        {
          "output_type": "stream",
          "text": [
            "34\n",
            "70\n",
            "([34, 70], <class 'int'>)\n"
          ],
          "name": "stdout"
        }
      ]
    },
    {
      "cell_type": "code",
      "metadata": {
        "id": "ssEvaaxrQzN1",
        "colab_type": "code",
        "colab": {}
      },
      "source": [
        "sound = np.array([     0,      0,      0,      0,      0,      0,      0,    117,\n",
        "          861,   -268,    509,   3850,   1405,   1119,  -2602,    213,\n",
        "         1192,  -3022,   -337,  -1292,  -5351,   1128,    123,   1034,\n",
        "         -167,   -309,     22,      7,      0,      3,      0,     -1,\n",
        "            0,    -30,   -128,     63,     -5,     92,      8,    -35,\n",
        "           11,     57,    -62,     -3,     47,     23,    101,     40,\n",
        "        -1149,  -5153,   7368,  -9440, -13747,  -4643,   1609,   4278,\n",
        "          529,    843,   2560,  -1500,   2463,    598,    264,    122,\n",
        "          146,   -102,      0,      0,      0,      0,      0,      0,\n",
        "            0,    -46,     28,     65,    236,     58,    -26,    133,\n",
        "         -123,   1131,   3820,    237,  -3607,   -491,   3222,   3871,\n",
        "        -8924,  -7897,   5990,  -1497,    904,   2201,    942,     98,\n",
        "         -327,    200,   -162,    -67,     -9,      0,      0,      0,\n",
        "            0,      0,      0,      0,      0,      0,      0,      0,\n",
        "            0,      0,      0,      0,      0,      0,      0,      0], int)"
      ],
      "execution_count": 0,
      "outputs": []
    },
    {
      "cell_type": "code",
      "metadata": {
        "id": "tQbI2sK4LZjz",
        "colab_type": "code",
        "colab": {
          "base_uri": "https://localhost:8080/",
          "height": 265
        },
        "outputId": "c19491d1-0b84-4d2a-eb0b-7d3c49857aed"
      },
      "source": [
        "plt.plot(sound)\n",
        "plt.show()"
      ],
      "execution_count": 24,
      "outputs": [
        {
          "output_type": "display_data",
          "data": {
            "image/png": "[encoded data removed]",
            "text/plain": [
              "<Figure size 432x288 with 1 Axes>"
            ]
          },
          "metadata": {
            "tags": []
          }
        }
      ]
    },
    {
      "cell_type": "code",
      "metadata": {
        "id": "Omrz4gAKKa_B",
        "colab_type": "code",
        "colab": {
          "base_uri": "https://localhost:8080/",
          "height": 85
        },
        "outputId": "f74116a0-5e3f-4e89-c706-7f21bca96442"
      },
      "source": [
        "sound1 = sound[:S1]\n",
        "sound1"
      ],
      "execution_count": 25,
      "outputs": [
        {
          "output_type": "execute_result",
          "data": {
            "text/plain": [
              "array([    0,     0,     0,     0,     0,     0,     0,   117,   861,\n",
              "        -268,   509,  3850,  1405,  1119, -2602,   213,  1192, -3022,\n",
              "        -337, -1292, -5351,  1128,   123,  1034,  -167,  -309,    22,\n",
              "           7,     0,     3,     0,    -1,     0,   -30])"
            ]
          },
          "metadata": {
            "tags": []
          },
          "execution_count": 25
        }
      ]
    },
    {
      "cell_type": "code",
      "metadata": {
        "id": "J0OyvQA4LmTe",
        "colab_type": "code",
        "colab": {
          "base_uri": "https://localhost:8080/",
          "height": 265
        },
        "outputId": "e0c55aca-c703-41eb-eb2c-b5504ad9c51a"
      },
      "source": [
        "plt.plot(sound1)\n",
        "plt.show()"
      ],
      "execution_count": 26,
      "outputs": [
        {
          "output_type": "display_data",
          "data": {
            "image/png": "[encoded data removed]",
            "text/plain": [
              "<Figure size 432x288 with 1 Axes>"
            ]
          },
          "metadata": {
            "tags": []
          }
        }
      ]
    },
    {
      "cell_type": "code",
      "metadata": {
        "id": "ACyoAg7vKyy8",
        "colab_type": "code",
        "colab": {}
      },
      "source": [
        "sound2 = sound[S1:S2]"
      ],
      "execution_count": 0,
      "outputs": []
    },
    {
      "cell_type": "code",
      "metadata": {
        "id": "5UPYjK1pMHk2",
        "colab_type": "code",
        "colab": {
          "base_uri": "https://localhost:8080/",
          "height": 265
        },
        "outputId": "99330456-aaa5-46aa-bebc-18495f6e5c01"
      },
      "source": [
        "plt.plot(sound2)\n",
        "plt.show()"
      ],
      "execution_count": 28,
      "outputs": [
        {
          "output_type": "display_data",
          "data": {
            "image/png": "[encoded data removed]",
            "text/plain": [
              "<Figure size 432x288 with 1 Axes>"
            ]
          },
          "metadata": {
            "tags": []
          }
        }
      ]
    },
    {
      "cell_type": "code",
      "metadata": {
        "id": "GaYo1QVBK7ur",
        "colab_type": "code",
        "colab": {}
      },
      "source": [
        "sound3 = sound[S2:]"
      ],
      "execution_count": 0,
      "outputs": []
    },
    {
      "cell_type": "code",
      "metadata": {
        "id": "DdfKHocqLxaT",
        "colab_type": "code",
        "colab": {
          "base_uri": "https://localhost:8080/",
          "height": 265
        },
        "outputId": "57915195-08d2-4db4-cf0d-163bf70363e8"
      },
      "source": [
        "plt.plot(sound3)\n",
        "plt.show()"
      ],
      "execution_count": 30,
      "outputs": [
        {
          "output_type": "display_data",
          "data": {
            "image/png": "[encoded data removed]",
            "text/plain": [
              "<Figure size 432x288 with 1 Axes>"
            ]
          },
          "metadata": {
            "tags": []
          }
        }
      ]
    },
    {
      "cell_type": "markdown",
      "metadata": {
        "id": "URDyg2YtboHP",
        "colab_type": "text"
      },
      "source": [
        "\n",
        "\n",
        "---\n",
        "\n"
      ]
    },
    {
      "cell_type": "markdown",
      "metadata": {
        "id": "P8iE_dYzbuo9",
        "colab_type": "text"
      },
      "source": [
        "# Переносим точки разрыва на полноценный аудиопоток \n",
        "Директорий /content/Simple-Audio-Recognition/Audio_streams/"
      ]
    },
    {
      "cell_type": "code",
      "metadata": {
        "id": "ngYXk_aTf5zA",
        "colab_type": "code",
        "colab": {
          "base_uri": "https://localhost:8080/",
          "height": 80
        },
        "outputId": "6ba64088-29d9-4d63-fa48-d784cc3fd2bf"
      },
      "source": [
        "import os\n",
        "import numpy as np\n",
        "import keras\n",
        "import math\n",
        "from keras.models import load_model\n",
        "from scipy.io import wavfile\n",
        "from scipy.fftpack import dct\n",
        "from scipy.io import wavfile\n",
        "import scipy.io.wavfile\n",
        "import matplotlib.pyplot as plt"
      ],
      "execution_count": 31,
      "outputs": [
        {
          "output_type": "stream",
          "text": [
            "Using TensorFlow backend.\n"
          ],
          "name": "stderr"
        },
        {
          "output_type": "display_data",
          "data": {
            "text/html": [
              "<p style=\"color: red;\">\n",
              "The default version of TensorFlow in Colab will soon switch to TensorFlow 2.x.<br>\n",
              "We recommend you <a href=\"https://www.tensorflow.org/guide/migrate\" target=\"_blank\">upgrade</a> now \n",
              "or ensure your notebook will continue to use TensorFlow 1.x via the <code>%tensorflow_version 1.x</code> magic:\n",
              "<a href=\"https://colab.research.google.com/notebooks/tensorflow_version.ipynb\" target=\"_blank\">more info</a>.</p>\n"
            ],
            "text/plain": [
              "<IPython.core.display.HTML object>"
            ]
          },
          "metadata": {
            "tags": []
          }
        }
      ]
    },
    {
      "cell_type": "code",
      "metadata": {
        "id": "Zo5pZACKuYYo",
        "colab_type": "code",
        "colab": {
          "base_uri": "https://localhost:8080/",
          "height": 1000
        },
        "outputId": "36f6feba-0697-47ae-cb12-8836613cfabc"
      },
      "source": [
        "#__________для ПОТОКА - файлы для директория  Seg_audio_streams\n",
        "sample_file ='no_bed_bird.wav'\n",
        "dir_path = '/content/Simple-Audio-Recognition/Audio_streams/' #  откуда файл берется\n",
        "dir_path_mod = '/content/Simple-Audio-Recognition/Words_from_streams/no_bed_bird/'\n",
        "#/content/Simple-Audio-Recognition/Words_from_streams/no_bed_bird/\n",
        "#______________________________________________\n",
        "\n",
        "#изменяем кол-во каналов до 1 и framerate до 16000, длину сокращаем или дополняем молчанием до 1 сек\n",
        "from pydub import silence, AudioSegment\n",
        "audio = AudioSegment.from_file(dir_path + sample_file, format=\"wav\")\n",
        "#___________________________________________\n",
        "\n",
        "def preprocess_audio(filename, START, END):\n",
        "    # Trim or pad audio segment to 10000ms\n",
        " \n",
        "    \n",
        "    #________________ первое слово из фразы\n",
        "    padding = AudioSegment.silent(duration=1000)          # обрезание или дотягивание окончательного звука до 1 секунды\n",
        "    segment = AudioSegment.from_wav(filename)[START:END]      # границы обрезки файла sample_file\n",
        "    segment = padding.overlay(segment)\n",
        "    \n",
        "    segment = segment.set_frame_rate(16000).set_channels(1)      # ставим 16000 если обрабатывам файлы для модели\n",
        "    modified_file = x + sample_file    # \n",
        "    segment.export(dir_path_mod + modified_file, format='wav')\n",
        "    \n",
        "k0 = 0\n",
        "k1 = 1000*34/40\n",
        "k2 = 1000*70/40\n",
        "x = '1_'\n",
        "preprocess_audio(dir_path + sample_file, k0, k1)\n",
        "modified_file1 = x + sample_file \n",
        "\n",
        "import wave\n",
        "sound = modified_file1\n",
        "\n",
        "obj = wave.open(sound,'r')\n",
        "print( \"Number of channels\",obj.getnchannels())\n",
        "print ( \"Sample width\",obj.getsampwidth())\n",
        "print ( \"Frame rate.\",obj.getframerate())\n",
        "print (\"Number of frames\",obj.getnframes())\n",
        "print ( \"parameters:\",obj.getparams())\n",
        "obj.close()\n",
        "rate, data = scipy.io.wavfile.read(sound)\n",
        "d = obj.getnframes()/obj.getframerate()\n",
        "print(sound)\n",
        "print(rate)\n",
        "print(data)\n",
        "print(\"sound durantion = \", d)\n",
        "plt.plot(data)\n",
        "plt.show()\n",
        "\n",
        "#++++++++++++++++++++++2222222222222222222222222222222++++++++++++++++++++++\n",
        "#_____________________\n",
        "def preprocess_audio(filename, START, END):\n",
        "    # Trim or pad audio segment to 10000ms\n",
        " \n",
        "    \n",
        "    #________________ второе слово из фразы\n",
        "    padding = AudioSegment.silent(duration=1000)          # обрезание или дотягивание окончательного звука до 1 секунды\n",
        "    segment = AudioSegment.from_wav(filename)[START:END]      # границы обрезки файла sample_file\n",
        "    segment = padding.overlay(segment)\n",
        "    \n",
        "    segment = segment.set_frame_rate(16000).set_channels(1)      # ставим 16000 если обрабатывам файлы для модели\n",
        "    modified_file = y + sample_file    # \n",
        "    segment.export(dir_path_mod + modified_file, format='wav')\n",
        "\n",
        "k0 = 0\n",
        "k1 = 1000*34/40\n",
        "k2 = 1000*70/40\n",
        "y = '2_'\n",
        "preprocess_audio(dir_path + sample_file, k1, k2)\n",
        "modified_file2 = y + sample_file \n",
        "\n",
        "\n",
        "\n",
        "sound = modified_file2\n",
        "obj = wave.open(sound,'r')\n",
        "print( \"Number of channels\",obj.getnchannels())\n",
        "print ( \"Sample width\",obj.getsampwidth())\n",
        "print ( \"Frame rate.\",obj.getframerate())\n",
        "print (\"Number of frames\",obj.getnframes())\n",
        "print ( \"parameters:\",obj.getparams())\n",
        "obj.close()\n",
        "rate, data = scipy.io.wavfile.read(sound)\n",
        "d = obj.getnframes()/obj.getframerate()\n",
        "print(sound)\n",
        "print(rate)\n",
        "print(data)\n",
        "print(\"sound durantion = \", d)\n",
        "plt.plot(data)\n",
        "plt.show()\n",
        "\n",
        "    \n",
        "#+++++++++++++++++++++++++++++++++++333333333333333333333333++++++++++++++++++++++++++\n",
        "\n",
        "def preprocess_audio(filename, START, END):\n",
        "    # Trim or pad audio segment to 10000ms\n",
        " \n",
        "    \n",
        "    #________________ третье слово из фразы\n",
        "    #padding = AudioSegment.silent(duration=1000)          # обрезание или дотягивание окончательного звука до 1 секунды\n",
        "    segment = AudioSegment.from_wav(filename)[START:END]      # границы обрезки файла sample_file\n",
        "    #segment = padding.overlay(segment)\n",
        "    \n",
        "    segment = segment.set_frame_rate(16000).set_channels(1)      # ставим 16000 если обрабатывам файлы для модели\n",
        "    modified_file = z + sample_file    # \n",
        "    segment.export(dir_path_mod + modified_file, format='wav')\n",
        "\n",
        "k0 = 0\n",
        "k1 = 1000*34/40\n",
        "k2 = 1000*70/40\n",
        "z = '3_'\n",
        "preprocess_audio(dir_path + sample_file, k2, 3000)\n",
        "modified_file3 = z + sample_file \n",
        "\n",
        "\n",
        "sound = modified_file3\n",
        "obj = wave.open(sound,'r')\n",
        "print( \"Number of channels\",obj.getnchannels())\n",
        "print ( \"Sample width\",obj.getsampwidth())\n",
        "print ( \"Frame rate.\",obj.getframerate())\n",
        "print (\"Number of frames\",obj.getnframes())\n",
        "print ( \"parameters:\",obj.getparams())\n",
        "obj.close()\n",
        "rate, data = scipy.io.wavfile.read(sound)\n",
        "d = obj.getnframes()/obj.getframerate()\n",
        "print(sound)\n",
        "print(rate)\n",
        "print(data)\n",
        "print(\"sound durantion = \", d)\n",
        "plt.plot(data)\n",
        "plt.show()\n",
        "\n",
        " \n"
      ],
      "execution_count": 35,
      "outputs": [
        {
          "output_type": "stream",
          "text": [
            "Number of channels 1\n",
            "Sample width 2\n",
            "Frame rate. 16000\n",
            "Number of frames 16000\n",
            "parameters: _wave_params(nchannels=1, sampwidth=2, framerate=16000, nframes=16000, comptype='NONE', compname='not compressed')\n",
            "1_no_bed_bird.wav\n",
            "16000\n",
            "[0 0 0 ... 0 0 0]\n",
            "sound durantion =  1.0\n"
          ],
          "name": "stdout"
        },
        {
          "output_type": "display_data",
          "data": {
            "image/png": "[encoded data removed]",
            "text/plain": [
              "<Figure size 432x288 with 1 Axes>"
            ]
          },
          "metadata": {
            "tags": []
          }
        },
        {
          "output_type": "stream",
          "text": [
            "Number of channels 1\n",
            "Sample width 2\n",
            "Frame rate. 16000\n",
            "Number of frames 16000\n",
            "parameters: _wave_params(nchannels=1, sampwidth=2, framerate=16000, nframes=16000, comptype='NONE', compname='not compressed')\n",
            "2_no_bed_bird.wav\n",
            "16000\n",
            "[-128 -138 -128 ...    0    0    0]\n",
            "sound durantion =  1.0\n"
          ],
          "name": "stdout"
        },
        {
          "output_type": "display_data",
          "data": {
            "image/png": "[encoded data removed]",
            "text/plain": [
              "<Figure size 432x288 with 1 Axes>"
            ]
          },
          "metadata": {
            "tags": []
          }
        },
        {
          "output_type": "stream",
          "text": [
            "Number of channels 1\n",
            "Sample width 2\n",
            "Frame rate. 16000\n",
            "Number of frames 12144\n",
            "parameters: _wave_params(nchannels=1, sampwidth=2, framerate=16000, nframes=12144, comptype='NONE', compname='not compressed')\n",
            "3_no_bed_bird.wav\n",
            "16000\n",
            "[  0   0   0 ... -19   2   0]\n",
            "sound durantion =  0.759\n"
          ],
          "name": "stdout"
        },
        {
          "output_type": "display_data",
          "data": {
            "image/png": "[encoded data removed]",
            "text/plain": [
              "<Figure size 432x288 with 1 Axes>"
            ]
          },
          "metadata": {
            "tags": []
          }
        }
      ]
    },
    {
      "cell_type": "code",
      "metadata": {
        "id": "qf_KpLNslakR",
        "colab_type": "code",
        "colab": {}
      },
      "source": [
        ""
      ],
      "execution_count": 0,
      "outputs": []
    },
    {
      "cell_type": "code",
      "metadata": {
        "id": "HX8Vur4clbZb",
        "colab_type": "code",
        "colab": {
          "base_uri": "https://localhost:8080/",
          "height": 51
        },
        "outputId": "21b48752-cb3d-4750-d87c-1028d8cc68d1"
      },
      "source": [
        "print(34*40)\n",
        "print(70*40)"
      ],
      "execution_count": 33,
      "outputs": [
        {
          "output_type": "stream",
          "text": [
            "1360\n",
            "2800\n"
          ],
          "name": "stdout"
        }
      ]
    },
    {
      "cell_type": "code",
      "metadata": {
        "id": "zsz2sSq-m0uM",
        "colab_type": "code",
        "colab": {
          "base_uri": "https://localhost:8080/",
          "height": 34
        },
        "outputId": "21d233db-51fb-43a0-ee51-42cfb52087ad"
      },
      "source": [
        "1000*34/40\n",
        "1000*70/40\n"
      ],
      "execution_count": 34,
      "outputs": [
        {
          "output_type": "execute_result",
          "data": {
            "text/plain": [
              "1750.0"
            ]
          },
          "metadata": {
            "tags": []
          },
          "execution_count": 34
        }
      ]
    },
    {
      "cell_type": "markdown",
      "metadata": {
        "id": "6UKA-t4QbmHg",
        "colab_type": "text"
      },
      "source": [
        ""
      ]
    },
    {
      "cell_type": "markdown",
      "metadata": {
        "id": "gXQn1iT8Mb7w",
        "colab_type": "text"
      },
      "source": [
        "\n",
        "\n",
        "---\n",
        "\n",
        "\n",
        "\n",
        "---\n",
        "\n"
      ]
    }
  ]
}