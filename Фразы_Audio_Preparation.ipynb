{
  "nbformat": 4,
  "nbformat_minor": 0,
  "metadata": {
    "colab": {
      "name": "Фразы_Audio_Preparation.ipynb",
      "provenance": [],
      "collapsed_sections": []
    },
    "kernelspec": {
      "name": "python3",
      "display_name": "Python 3"
    }
  },
  "cells": [
    {
      "cell_type": "code",
      "metadata": {
        "id": "5K7dBaFGo1Q4",
        "colab_type": "code",
        "colab": {}
      },
      "source": [
        "# перезагрузить ноутбук\n",
        "!kill -9 -1"
      ],
      "execution_count": 0,
      "outputs": []
    },
    {
      "cell_type": "markdown",
      "metadata": {
        "id": "wrSoPHm55snj",
        "colab_type": "text"
      },
      "source": [
        "# Подготовка аудио файлов (фраз)"
      ]
    },
    {
      "cell_type": "markdown",
      "metadata": {
        "id": "Sj7ERdkwgQ0n",
        "colab_type": "text"
      },
      "source": [
        "Копирование файлов с Git на локальный диск виртуальной машины - вставка ссылки с гитхаба: "
      ]
    },
    {
      "cell_type": "code",
      "metadata": {
        "id": "kOLXvPzApR-o",
        "colab_type": "code",
        "outputId": "241faee0-7515-4194-a536-4575f0f43924",
        "colab": {
          "base_uri": "https://localhost:8080/",
          "height": 136
        }
      },
      "source": [
        "!git clone https://github.com/smartsinovich/Simple-Audio-Recognition.git\n"
      ],
      "execution_count": 0,
      "outputs": [
        {
          "output_type": "stream",
          "text": [
            "Cloning into 'Simple-Audio-Recognition'...\n",
            "remote: Enumerating objects: 45, done.\u001b[K\n",
            "remote: Counting objects:   2% (1/45)\u001b[K\rremote: Counting objects:   4% (2/45)\u001b[K\rremote: Counting objects:   6% (3/45)\u001b[K\rremote: Counting objects:   8% (4/45)\u001b[K\rremote: Counting objects:  11% (5/45)\u001b[K\rremote: Counting objects:  13% (6/45)\u001b[K\rremote: Counting objects:  15% (7/45)\u001b[K\rremote: Counting objects:  17% (8/45)\u001b[K\rremote: Counting objects:  20% (9/45)\u001b[K\rremote: Counting objects:  22% (10/45)\u001b[K\rremote: Counting objects:  24% (11/45)\u001b[K\rremote: Counting objects:  26% (12/45)\u001b[K\rremote: Counting objects:  28% (13/45)\u001b[K\rremote: Counting objects:  31% (14/45)\u001b[K\rremote: Counting objects:  33% (15/45)\u001b[K\rremote: Counting objects:  35% (16/45)\u001b[K\rremote: Counting objects:  37% (17/45)\u001b[K\rremote: Counting objects:  40% (18/45)\u001b[K\rremote: Counting objects:  42% (19/45)\u001b[K\rremote: Counting objects:  44% (20/45)\u001b[K\rremote: Counting objects:  46% (21/45)\u001b[K\rremote: Counting objects:  48% (22/45)\u001b[K\rremote: Counting objects:  51% (23/45)\u001b[K\rremote: Counting objects:  53% (24/45)\u001b[K\rremote: Counting objects:  55% (25/45)\u001b[K\rremote: Counting objects:  57% (26/45)\u001b[K\rremote: Counting objects:  60% (27/45)\u001b[K\rremote: Counting objects:  62% (28/45)\u001b[K\rremote: Counting objects:  64% (29/45)\u001b[K\rremote: Counting objects:  66% (30/45)\u001b[K\rremote: Counting objects:  68% (31/45)\u001b[K\rremote: Counting objects:  71% (32/45)\u001b[K\rremote: Counting objects:  73% (33/45)\u001b[K\rremote: Counting objects:  75% (34/45)\u001b[K\rremote: Counting objects:  77% (35/45)\u001b[K\rremote: Counting objects:  80% (36/45)\u001b[K\rremote: Counting objects:  82% (37/45)\u001b[K\rremote: Counting objects:  84% (38/45)\u001b[K\rremote: Counting objects:  86% (39/45)\u001b[K\rremote: Counting objects:  88% (40/45)\u001b[K\rremote: Counting objects:  91% (41/45)\u001b[K\rremote: Counting objects:  93% (42/45)\u001b[K\rremote: Counting objects:  95% (43/45)\u001b[K\rremote: Counting objects:  97% (44/45)\u001b[K\rremote: Counting objects: 100% (45/45)\u001b[K\rremote: Counting objects: 100% (45/45), done.\u001b[K\n",
            "remote: Compressing objects:   2% (1/45)\u001b[K\rremote: Compressing objects:   4% (2/45)\u001b[K\rremote: Compressing objects:   6% (3/45)\u001b[K\rremote: Compressing objects:   8% (4/45)\u001b[K\rremote: Compressing objects:  11% (5/45)\u001b[K\rremote: Compressing objects:  13% (6/45)\u001b[K\rremote: Compressing objects:  15% (7/45)\u001b[K\rremote: Compressing objects:  17% (8/45)\u001b[K\rremote: Compressing objects:  20% (9/45)\u001b[K\rremote: Compressing objects:  22% (10/45)\u001b[K\rremote: Compressing objects:  24% (11/45)\u001b[K\rremote: Compressing objects:  26% (12/45)\u001b[K\rremote: Compressing objects:  28% (13/45)\u001b[K\rremote: Compressing objects:  31% (14/45)\u001b[K\rremote: Compressing objects:  33% (15/45)\u001b[K\rremote: Compressing objects:  35% (16/45)\u001b[K\rremote: Compressing objects:  37% (17/45)\u001b[K\rremote: Compressing objects:  40% (18/45)\u001b[K\rremote: Compressing objects:  42% (19/45)\u001b[K\rremote: Compressing objects:  44% (20/45)\u001b[K\rremote: Compressing objects:  46% (21/45)\u001b[K\rremote: Compressing objects:  48% (22/45)\u001b[K\rremote: Compressing objects:  51% (23/45)\u001b[K\rremote: Compressing objects:  53% (24/45)\u001b[K\rremote: Compressing objects:  55% (25/45)\u001b[K\rremote: Compressing objects:  57% (26/45)\u001b[K\rremote: Compressing objects:  60% (27/45)\u001b[K\rremote: Compressing objects:  62% (28/45)\u001b[K\rremote: Compressing objects:  64% (29/45)\u001b[K\rremote: Compressing objects:  66% (30/45)\u001b[K\rremote: Compressing objects:  68% (31/45)\u001b[K\rremote: Compressing objects:  71% (32/45)\u001b[K\rremote: Compressing objects:  73% (33/45)\u001b[K\rremote: Compressing objects:  75% (34/45)\u001b[K\rremote: Compressing objects:  77% (35/45)\u001b[K\rremote: Compressing objects:  80% (36/45)\u001b[K\rremote: Compressing objects:  82% (37/45)\u001b[K\rremote: Compressing objects:  84% (38/45)\u001b[K\rremote: Compressing objects:  86% (39/45)\u001b[K\rremote: Compressing objects:  88% (40/45)\u001b[K\rremote: Compressing objects:  91% (41/45)\u001b[K\rremote: Compressing objects:  93% (42/45)\u001b[K\rremote: Compressing objects:  95% (43/45)\u001b[K\rremote: Compressing objects:  97% (44/45)\u001b[K\rremote: Compressing objects: 100% (45/45)\u001b[K\rremote: Compressing objects: 100% (45/45), done.\u001b[K\n",
            "Receiving objects:   0% (1/259)   \rReceiving objects:   1% (3/259)   \rReceiving objects:   2% (6/259)   \rReceiving objects:   3% (8/259)   \rReceiving objects:   4% (11/259)   \rReceiving objects:   5% (13/259)   \rReceiving objects:   6% (16/259)   \rReceiving objects:   7% (19/259)   \rReceiving objects:   8% (21/259)   \rReceiving objects:   9% (24/259)   \rReceiving objects:  10% (26/259)   \rReceiving objects:  11% (29/259)   \rReceiving objects:  12% (32/259)   \rReceiving objects:  13% (34/259)   \rReceiving objects:  14% (37/259)   \rReceiving objects:  15% (39/259)   \rReceiving objects:  16% (42/259)   \rReceiving objects:  17% (45/259)   \rReceiving objects:  18% (47/259)   \rReceiving objects:  19% (50/259)   \rReceiving objects:  20% (52/259)   \rReceiving objects:  21% (55/259)   \rReceiving objects:  22% (57/259)   \rReceiving objects:  23% (60/259)   \rReceiving objects:  24% (63/259)   \rReceiving objects:  25% (65/259)   \rReceiving objects:  26% (68/259)   \rReceiving objects:  27% (70/259)   \rReceiving objects:  28% (73/259)   \rReceiving objects:  29% (76/259)   \rReceiving objects:  30% (78/259)   \rReceiving objects:  31% (81/259)   \rReceiving objects:  32% (83/259)   \rReceiving objects:  33% (86/259)   \rReceiving objects:  34% (89/259)   \rReceiving objects:  35% (91/259)   \rReceiving objects:  36% (94/259)   \rReceiving objects:  37% (96/259)   \rReceiving objects:  38% (99/259)   \rReceiving objects:  39% (102/259)   \rReceiving objects:  40% (104/259)   \rReceiving objects:  41% (107/259)   \rReceiving objects:  42% (109/259)   \rReceiving objects:  43% (112/259)   \rReceiving objects:  44% (114/259)   \rReceiving objects:  45% (117/259)   \rReceiving objects:  46% (120/259)   \rReceiving objects:  47% (122/259)   \rReceiving objects:  48% (125/259)   \rReceiving objects:  49% (127/259)   \rReceiving objects:  50% (130/259)   \rReceiving objects:  51% (133/259)   \rReceiving objects:  52% (135/259)   \rReceiving objects:  53% (138/259)   \rReceiving objects:  54% (140/259)   \rReceiving objects:  55% (143/259)   \rReceiving objects:  56% (146/259)   \rReceiving objects:  57% (148/259)   \rReceiving objects:  58% (151/259)   \rReceiving objects:  59% (153/259)   \rReceiving objects:  60% (156/259)   \rReceiving objects:  61% (158/259)   \rReceiving objects:  62% (161/259)   \rReceiving objects:  63% (164/259)   \rReceiving objects:  64% (166/259)   \rReceiving objects:  65% (169/259)   \rReceiving objects:  66% (171/259)   \rReceiving objects:  67% (174/259)   \rReceiving objects:  68% (177/259)   \rReceiving objects:  69% (179/259)   \rReceiving objects:  70% (182/259)   \rReceiving objects:  71% (184/259)   \rremote: Total 259 (delta 28), reused 0 (delta 0), pack-reused 214\u001b[K\n",
            "Receiving objects:  72% (187/259)   \rReceiving objects:  73% (190/259)   \rReceiving objects:  74% (192/259)   \rReceiving objects:  75% (195/259)   \rReceiving objects:  76% (197/259)   \rReceiving objects:  77% (200/259)   \rReceiving objects:  78% (203/259)   \rReceiving objects:  79% (205/259)   \rReceiving objects:  80% (208/259)   \rReceiving objects:  81% (210/259)   \rReceiving objects:  82% (213/259)   \rReceiving objects:  83% (215/259)   \rReceiving objects:  84% (218/259)   \rReceiving objects:  85% (221/259)   \rReceiving objects:  86% (223/259)   \rReceiving objects:  87% (226/259)   \rReceiving objects:  88% (228/259)   \rReceiving objects:  89% (231/259)   \rReceiving objects:  90% (234/259)   \rReceiving objects:  91% (236/259)   \rReceiving objects:  92% (239/259)   \rReceiving objects:  93% (241/259)   \rReceiving objects:  94% (244/259)   \rReceiving objects:  95% (247/259)   \rReceiving objects:  96% (249/259)   \rReceiving objects:  97% (252/259)   \rReceiving objects:  98% (254/259)   \rReceiving objects:  99% (257/259)   \rReceiving objects: 100% (259/259)   \rReceiving objects: 100% (259/259), 3.87 MiB | 31.99 MiB/s, done.\n",
            "Resolving deltas:   0% (0/73)   \rResolving deltas:  30% (22/73)   \rResolving deltas:  31% (23/73)   \rResolving deltas:  32% (24/73)   \rResolving deltas:  41% (30/73)   \rResolving deltas:  42% (31/73)   \rResolving deltas:  43% (32/73)   \rResolving deltas:  45% (33/73)   \rResolving deltas:  46% (34/73)   \rResolving deltas:  47% (35/73)   \rResolving deltas:  52% (38/73)   \rResolving deltas:  54% (40/73)   \rResolving deltas:  57% (42/73)   \rResolving deltas:  58% (43/73)   \rResolving deltas:  60% (44/73)   \rResolving deltas:  73% (54/73)   \rResolving deltas:  87% (64/73)   \rResolving deltas:  90% (66/73)   \rResolving deltas:  98% (72/73)   \rResolving deltas: 100% (73/73)   \rResolving deltas: 100% (73/73), done.\n"
          ],
          "name": "stdout"
        }
      ]
    },
    {
      "cell_type": "code",
      "metadata": {
        "id": "eoAsbJxJDqEm",
        "colab_type": "code",
        "outputId": "fa0067cf-af33-454c-bfb1-479c7139f0e4",
        "colab": {
          "base_uri": "https://localhost:8080/",
          "height": 139
        }
      },
      "source": [
        "!pip install soundfile"
      ],
      "execution_count": 0,
      "outputs": [
        {
          "output_type": "stream",
          "text": [
            "Collecting soundfile\n",
            "  Downloading https://files.pythonhosted.org/packages/eb/f2/3cbbbf3b96fb9fa91582c438b574cff3f45b29c772f94c400e2c99ef5db9/SoundFile-0.10.3.post1-py2.py3-none-any.whl\n",
            "Requirement already satisfied: cffi>=1.0 in /usr/local/lib/python3.6/dist-packages (from soundfile) (1.14.0)\n",
            "Requirement already satisfied: pycparser in /usr/local/lib/python3.6/dist-packages (from cffi>=1.0->soundfile) (2.19)\n",
            "Installing collected packages: soundfile\n",
            "Successfully installed soundfile-0.10.3.post1\n"
          ],
          "name": "stdout"
        }
      ]
    },
    {
      "cell_type": "code",
      "metadata": {
        "id": "KqH8kz9KDLjS",
        "colab_type": "code",
        "outputId": "1824e554-4d38-4f4a-af30-1692634b45d9",
        "colab": {
          "base_uri": "https://localhost:8080/",
          "height": 105
        }
      },
      "source": [
        "!pip install pydub"
      ],
      "execution_count": 0,
      "outputs": [
        {
          "output_type": "stream",
          "text": [
            "Collecting pydub\n",
            "  Downloading https://files.pythonhosted.org/packages/79/db/eaf620b73a1eec3c8c6f8f5b0b236a50f9da88ad57802154b7ba7664d0b8/pydub-0.23.1-py2.py3-none-any.whl\n",
            "Installing collected packages: pydub\n",
            "Successfully installed pydub-0.23.1\n"
          ],
          "name": "stdout"
        }
      ]
    },
    {
      "cell_type": "markdown",
      "metadata": {
        "id": "cLegd5H7uVAF",
        "colab_type": "text"
      },
      "source": [
        "\n",
        "\n",
        "---\n",
        "\n"
      ]
    },
    {
      "cell_type": "code",
      "metadata": {
        "id": "ToqjQbOavjIp",
        "colab_type": "code",
        "outputId": "087baf53-6f77-4bd0-92c8-5b8795836eaf",
        "colab": {
          "base_uri": "https://localhost:8080/",
          "height": 992
        }
      },
      "source": [
        "import os\n",
        "import numpy as np\n",
        "import keras\n",
        "import math\n",
        "from keras.models import load_model\n",
        "from scipy.io import wavfile\n",
        "from scipy.fftpack import dct\n",
        "from scipy.io import wavfile\n",
        "import scipy.io.wavfile\n",
        "import matplotlib.pyplot as plt\n",
        "\n",
        "#+++++++++++++++++++++++++++++++++++++++++++++++++++++++++++++++++++++++++\n",
        "\n",
        "#__________для ПОТОКА - готовим файлы для директория  Seg_audio_streams\n",
        "sample_file ='up_dog_marvin.wav'\n",
        "\n",
        "dir_path = '/content/Simple-Audio-Recognition/Audio_streams'\n",
        "dir_path_mod = '/content/Simple-Audio-Recognition/Seg_audio_streams'\n",
        "# если модифицируем файлы для потока - меняются три параметра время,  frame_rate, приставка к имени модифицировнного файла\n",
        "# заменяем segment = segment.set_frame_rate(40).set_channels(1) frame_rate (c 16000 на 40)\n",
        "# ставим [:3000] если обрабатывам файлы для потока в двух местах\n",
        "# заменяем  modified_file = \"seg_\" + sample_file  в двух местах \n",
        "#______________________________________________\n",
        "\n",
        "#изменяем кол-во каналов до 1 и framerate до 16000, длину сокращаем или дополняем молчанием до 1 сек\n",
        "from pydub import silence, AudioSegment\n",
        "audio = AudioSegment.from_file(dir_path + '/' + sample_file, format=\"wav\")\n",
        "\n",
        "\n",
        "def preprocess_audio(filename):\n",
        "    # Trim or pad audio segment to 10000ms\n",
        "   \n",
        "    \n",
        "    padding = AudioSegment.silent(duration=3000)          # длина файла, ставим [:3000] если обрабатывам файлы для потока\n",
        "    segment = AudioSegment.from_wav(filename)[:3000]      # длина файла, ставим [:3000] если обрабатывам файлы для потока\n",
        "    #padding = AudioSegment.silent(duration=1000)         # ставим [:1000] если обрабатывам raw audio files\n",
        "    #segment = AudioSegment.from_wav(filename)[:1000]     # ставим [:1000] если обрабатывам raw audio files\n",
        "    segment = padding.overlay(segment)\n",
        "    \n",
        "    # Set frame rate to 16000\n",
        "    segment = segment.set_frame_rate(40).set_channels(1)      # ставим 40 если обрабатывам файлы для потока\n",
        "    #segment = segment.set_frame_rate(16000).set_channels(1)  # ставим 16000 если обрабатывам raw audio files\n",
        "\n",
        "    # Export segment as wav\n",
        "    modified_file = \"seg_\" + sample_file    # ставим seg если обрабатывам файлы для потока\n",
        "    #modified_file = \"mod_\" + sample_file   # ставим mod если обрабатывам raw audio files\n",
        "    segment.export(dir_path_mod + '/' + modified_file, format='wav')\n",
        "    \n",
        "    \n",
        "preprocess_audio(dir_path + '/' + sample_file)\n",
        "modified_file = \"seg_\" + sample_file    # ставим seg если обрабатывам файлы для потока\n",
        "#modified_file = \"mod_\" + sample_file   # ставим mod если обрабатывам raw audio files\n",
        "\n",
        "\n",
        "import wave\n",
        "obj = wave.open(dir_path +'/' + sample_file,'r')\n",
        "print( \"Number of channels\",obj.getnchannels())\n",
        "print ( \"Sample width\",obj.getsampwidth())\n",
        "print ( \"Frame rate.\",obj.getframerate())\n",
        "print (\"Number of frames\",obj.getnframes())\n",
        "print ( \"parameters:\",obj.getparams())\n",
        "obj.close()\n",
        "rate, data = scipy.io.wavfile.read(dir_path + '/' + sample_file)\n",
        "d = obj.getnframes()/obj.getframerate()\n",
        "print(sample_file)\n",
        "print(rate)\n",
        "print(data)\n",
        "print(\"sound durantion = \", d)\n",
        "plt.plot(data)\n",
        "plt.show()\n",
        "\n",
        "\n",
        "obj = wave.open(dir_path_mod +'/' + modified_file,'r')\n",
        "print( \"Number of channels\",obj.getnchannels())\n",
        "print ( \"Sample width\",obj.getsampwidth())\n",
        "print ( \"Frame rate.\",obj.getframerate())\n",
        "print (\"Number of frames\",obj.getnframes())\n",
        "print ( \"parameters:\",obj.getparams())\n",
        "obj.close()\n",
        "rate, data = scipy.io.wavfile.read(dir_path_mod + '/' + modified_file)\n",
        "d = obj.getnframes()/obj.getframerate()\n",
        "print(modified_file)\n",
        "print(rate)\n",
        "print(data)\n",
        "print(\"sound durantion = \", d)\n",
        "plt.plot(data)\n",
        "plt.show()\n"
      ],
      "execution_count": 0,
      "outputs": [
        {
          "output_type": "stream",
          "text": [
            "Number of channels 1\n",
            "Sample width 2\n",
            "Frame rate. 16000\n",
            "Number of frames 48000\n",
            "parameters: _wave_params(nchannels=1, sampwidth=2, framerate=16000, nframes=48000, comptype='NONE', compname='not compressed')\n",
            "up_dog_marvin.wav\n",
            "16000\n",
            "[0 0 0 ... 0 0 0]\n",
            "sound durantion =  3.0\n"
          ],
          "name": "stdout"
        },
        {
          "output_type": "display_data",
          "data": {
            "image/png": "[encoded data removed]",
            "text/plain": [
              "<Figure size 432x288 with 1 Axes>"
            ]
          },
          "metadata": {
            "tags": []
          }
        },
        {
          "output_type": "stream",
          "text": [
            "Number of channels 1\n",
            "Sample width 2\n",
            "Frame rate. 40\n",
            "Number of frames 120\n",
            "parameters: _wave_params(nchannels=1, sampwidth=2, framerate=40, nframes=120, comptype='NONE', compname='not compressed')\n",
            "seg_up_dog_marvin.wav\n",
            "40\n",
            "[    0    -3     1    -4     0     0     1     0     0     0  -108  -276\n",
            "    57  1743 -1173   620   -64    -6     0     0     0     0     6     3\n",
            "     0     1    -2     0     0     0     0     0     0     0     0     0\n",
            "     0     0     0     0     0     2     1     0     0   -23   -10    -6\n",
            "    23 -3705  1945  2012 -1895 -2090  -304  3977 -1511  1763  -472  -312\n",
            " -1248  -930   -33   453   -83   273   122    11   -20    -4    -1    -7\n",
            "     2     0     0     0     0     0     0     0     2     0    -1     0\n",
            "     0     2     1   -17   -11     7     5     1    79  2082 -1938 -3271\n",
            " -1252  -653  2750 -1255  2317 -1824  -291   -39  -294  4296  3795  1983\n",
            "  -142   999 -1572  2348  1507 -1660   -88   233   -25    95   -22   -32]\n",
            "sound durantion =  3.0\n"
          ],
          "name": "stdout"
        },
        {
          "output_type": "display_data",
          "data": {
            "image/png": "[encoded data removed]",
            "text/plain": [
              "<Figure size 432x288 with 1 Axes>"
            ]
          },
          "metadata": {
            "tags": []
          }
        }
      ]
    },
    {
      "cell_type": "markdown",
      "metadata": {
        "id": "JYab3fKlw88O",
        "colab_type": "text"
      },
      "source": [
        "\n",
        "\n",
        "---\n",
        "\n",
        "\n",
        "\n",
        "---\n",
        "\n"
      ]
    }
  ]
}